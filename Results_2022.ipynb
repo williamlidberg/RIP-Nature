{
 "cells": [
  {
   "cell_type": "markdown",
   "metadata": {
    "heading_collapsed": true
   },
   "source": [
    "# Sweden\n"
   ]
  },
  {
   "cell_type": "markdown",
   "metadata": {
    "heading_collapsed": true,
    "hidden": true
   },
   "source": [
    "## Post-Harvest stream buffers"
   ]
  },
  {
   "cell_type": "code",
   "execution_count": 2,
   "metadata": {
    "hidden": true
   },
   "outputs": [],
   "source": [
    "import arcpy\n",
    "arcpy.env.overwriteOutput = True\n",
    "arcpy.env.parallelProcessingFactor = \"100%\""
   ]
  },
  {
   "cell_type": "markdown",
   "metadata": {
    "hidden": true
   },
   "source": [
    "Select harvest sites that were harvested within 5 years before being scanned with LiDAR. Some areas were scanned multiple times. The shapefile 'Y:/William/RIP_NATURE_2/Sweden/LiDAR/laserSquare_scandates.shp' contains a column named diff_years which indicates how many different years each tile was scanned with LiDAR. If the value is over 0 it means that it was scanned multiple years. Areas that were scanned multiple years were excluded to avoid confusion."
   ]
  },
  {
   "cell_type": "code",
   "execution_count": 43,
   "metadata": {
    "hidden": true
   },
   "outputs": [
    {
     "data": {
      "text/html": [
       "<h2>Output</h2>Y:\\William\\RIP_NATURE_2\\Sweden\\LiDAR\\swedish_lidar_selected.shp<h2>Messages</h2>Start Time: Monday, 18 October 2021 12:45:57<br/>Succeeded at Monday, 18 October 2021 12:46:07 (Elapsed Time: 10,46 seconds)<br/><style>.rendered_html td, .rendered_html th {text-align: left;}.rendered_html tbody {border: 1px solid black;}</style>"
      ],
      "text/plain": [
       "<Result 'Y:\\\\William\\\\RIP_NATURE_2\\\\Sweden\\\\LiDAR\\\\swedish_lidar_selected.shp'>"
      ]
     },
     "execution_count": 43,
     "metadata": {},
     "output_type": "execute_result"
    }
   ],
   "source": [
    "swedish_lidar_original = 'Y:/William/RIP_NATURE_2/Sweden/LiDAR/laserSquare_scandates.shp'\n",
    "scanned_one_year = arcpy.SelectLayerByAttribute_management(swedish_lidar_original, 'NEW_SELECTION', '\"diff_years\" = 0')\n",
    "arcpy.CopyFeatures_management(scanned_one_year , 'Y:/William/RIP_NATURE_2/Sweden/LiDAR/swedish_lidar_selected.shp')\n"
   ]
  },
  {
   "cell_type": "code",
   "execution_count": null,
   "metadata": {
    "hidden": true
   },
   "outputs": [],
   "source": [
    "sweden_tiles_index = 'Y:/William/RIP_NATURE_2/Sweden/LiDAR/swedish_lidar_selected.shp'\n",
    "topographical_streams_sweden = 'Y:/William/RIP_NATURE_2/Sweden/hl_riks.shp'\n",
    "sweden_harvest_sites = 'Y:/William/RIP_NATURE_2/Sweden/CC/Swedish_CC.shp'\n",
    "\n",
    "## 2009\n",
    "CC_5_years_before_2009 = arcpy.SelectLayerByAttribute_management(sweden_harvest_sites, 'NEW_SELECTION', '\"HARVYR\" > 2004 and \"HARVYR\" < 2009')\n",
    "arcpy.CopyFeatures_management(CC_5_years_before_2009, 'Y:/William/RIP_NATURE_2/sweden/Post_harvest/CC_2004_2009.shp')\n",
    "\n",
    "sweden_lidar_2009 = arcpy.SelectLayerByAttribute_management(sweden_tiles_index, 'NEW_SELECTION', '\"final_year\" = 2009')\n",
    "arcpy.CopyFeatures_management(sweden_lidar_2009, 'Y:/William/RIP_NATURE_2/sweden/LiDAR_Years/sweden_lidar_2009.shp')\n",
    "\n",
    "CC_2004_2009 = 'Y:/William/RIP_NATURE_2/sweden/Post_harvest/CC_2004_2009.shp'\n",
    "lidar_2009 = 'Y:/William/RIP_NATURE_2/sweden/LiDAR_Years/sweden_lidar_2009.shp'\n",
    "\n",
    "harvested_5_years_before_lidar_2009 = arcpy.SelectLayerByLocation_management(CC_2004_2009, 'INTERSECT', lidar_2009,'', 'NEW_SELECTION') \n",
    "arcpy.CopyFeatures_management(harvested_5_years_before_lidar_2009, 'Y:/William/RIP_NATURE_2/sweden/CC_Year/CC_2004_to_2009_lidar_2009.shp')\n",
    "\n",
    "\n",
    "## 2010\n",
    "CC_5_years_before_2010 = arcpy.SelectLayerByAttribute_management(sweden_harvest_sites, 'NEW_SELECTION', '\"HARVYR\" > 2005 and \"HARVYR\" < 2010')\n",
    "arcpy.CopyFeatures_management(CC_5_years_before_2010, 'Y:/William/RIP_NATURE_2/sweden/Post_harvest/CC_2005_2010.shp')\n",
    "\n",
    "sweden_lidar_2010 = arcpy.SelectLayerByAttribute_management(sweden_tiles_index, 'NEW_SELECTION', '\"final_year\" = 2010')\n",
    "arcpy.CopyFeatures_management(sweden_lidar_2010, 'Y:/William/RIP_NATURE_2/sweden/LiDAR_Years/sweden_lidar_2010.shp')\n",
    "\n",
    "CC_2005_2010 = 'Y:/William/RIP_NATURE_2/sweden/Post_harvest/CC_2005_2010.shp'\n",
    "lidar_2010 = 'Y:/William/RIP_NATURE_2/sweden/LiDAR_Years/sweden_lidar_2010.shp'\n",
    "\n",
    "harvested_5_years_before_lidar_2010 = arcpy.SelectLayerByLocation_management(CC_2005_2010, 'INTERSECT', lidar_2010,'', 'NEW_SELECTION') \n",
    "arcpy.CopyFeatures_management(harvested_5_years_before_lidar_2010, 'Y:/William/RIP_NATURE_2/sweden/CC_Year/CC_2005_to_2010_lidar_2010.shp')\n",
    "\n",
    "\n",
    "## 2011\n",
    "CC_5_years_before_2011 = arcpy.SelectLayerByAttribute_management(sweden_harvest_sites, 'NEW_SELECTION', '\"HARVYR\" > 2006 and \"HARVYR\" < 2011')\n",
    "arcpy.CopyFeatures_management(CC_5_years_before_2011, 'Y:/William/RIP_NATURE_2/sweden/Post_harvest/CC_2006_2011.shp')\n",
    "\n",
    "sweden_lidar_2011 = arcpy.SelectLayerByAttribute_management(sweden_tiles_index, 'NEW_SELECTION', '\"final_year\" = 2011')\n",
    "arcpy.CopyFeatures_management(sweden_lidar_2011, 'Y:/William/RIP_NATURE_2/sweden/LiDAR_Years/sweden_lidar_2011.shp')\n",
    "\n",
    "CC_2006_2011 = 'Y:/William/RIP_NATURE_2/sweden/Post_harvest/CC_2006_2011.shp'\n",
    "lidar_2011 = 'Y:/William/RIP_NATURE_2/sweden/LiDAR_Years/sweden_lidar_2011.shp'\n",
    "\n",
    "harvested_5_years_before_lidar_2011 = arcpy.SelectLayerByLocation_management(CC_2006_2011, 'INTERSECT', lidar_2011,'', 'NEW_SELECTION') \n",
    "arcpy.CopyFeatures_management(harvested_5_years_before_lidar_2011, 'Y:/William/RIP_NATURE_2/sweden/CC_Year/CC_2006_to_2011_lidar_2011.shp')\n",
    "\n",
    "sweden_tiles_index = 'Y:/William/RIP_NATURE_2/Sweden/LiDAR/swedish_lidar_selected.shp'\n",
    "topographical_streams_sweden = 'Y:/William/RIP_NATURE_2/Sweden/hl_riks.shp'\n",
    "sweden_harvest_sites = 'Y:/William/RIP_NATURE_2/Sweden/CC/Swedish_CC.shp'\n",
    "\n",
    "## 2012\n",
    "CC_5_years_before_2012 = arcpy.SelectLayerByAttribute_management(sweden_harvest_sites, 'NEW_SELECTION', '\"HARVYR\" > 2007 and \"HARVYR\" < 2012')\n",
    "arcpy.CopyFeatures_management(CC_5_years_before_2012, 'Y:/William/RIP_NATURE_2/sweden/Post_harvest/CC_2007_2012.shp')\n",
    "\n",
    "sweden_lidar_2012 = arcpy.SelectLayerByAttribute_management(sweden_tiles_index, 'NEW_SELECTION', '\"final_year\" = 2012')\n",
    "arcpy.CopyFeatures_management(sweden_lidar_2012, 'Y:/William/RIP_NATURE_2/sweden/LiDAR_Years/sweden_lidar_2012.shp')\n",
    "\n",
    "CC_2007_2012 = 'Y:/William/RIP_NATURE_2/sweden/Post_harvest/CC_2007_2012.shp'\n",
    "lidar_2012 = 'Y:/William/RIP_NATURE_2/sweden/LiDAR_Years/sweden_lidar_2012.shp'\n",
    "\n",
    "harvested_5_years_before_lidar_2012 = arcpy.SelectLayerByLocation_management(CC_2007_2012, 'INTERSECT', lidar_2012,'', 'NEW_SELECTION') \n",
    "arcpy.CopyFeatures_management(harvested_5_years_before_lidar_2012, 'Y:/William/RIP_NATURE_2/sweden/CC_Year/CC_2007_to_2012_lidar_2012.shp')\n",
    "\n",
    "sweden_tiles_index = 'Y:/William/RIP_NATURE_2/Sweden/LiDAR/swedish_lidar_selected.shp'\n",
    "topographical_streams_sweden = 'Y:/William/RIP_NATURE_2/Sweden/hl_riks.shp'\n",
    "sweden_harvest_sites = 'Y:/William/RIP_NATURE_2/Sweden/CC/Swedish_CC.shp'\n",
    "\n",
    "## 2013\n",
    "CC_5_years_before_2013 = arcpy.SelectLayerByAttribute_management(sweden_harvest_sites, 'NEW_SELECTION', '\"HARVYR\" > 2008 and \"HARVYR\" < 2013')\n",
    "arcpy.CopyFeatures_management(CC_5_years_before_2013, 'Y:/William/RIP_NATURE_2/sweden/Post_harvest/CC_2008_2013.shp')\n",
    "\n",
    "sweden_lidar_2013 = arcpy.SelectLayerByAttribute_management(sweden_tiles_index, 'NEW_SELECTION', '\"final_year\" = 2013')\n",
    "arcpy.CopyFeatures_management(sweden_lidar_2013, 'Y:/William/RIP_NATURE_2/sweden/LiDAR_Years/sweden_lidar_2013.shp')\n",
    "\n",
    "CC_2008_2013 = 'Y:/William/RIP_NATURE_2/sweden/Post_harvest/CC_2008_2013.shp'\n",
    "lidar_2013 = 'Y:/William/RIP_NATURE_2/sweden/LiDAR_Years/sweden_lidar_2013.shp'\n",
    "\n",
    "harvested_5_years_before_lidar_2013 = arcpy.SelectLayerByLocation_management(CC_2008_2013, 'INTERSECT', lidar_2013,'', 'NEW_SELECTION') \n",
    "arcpy.CopyFeatures_management(harvested_5_years_before_lidar_2013, 'Y:/William/RIP_NATURE_2/sweden/CC_Year/CC_2008_to_2013_lidar_2013.shp')\n",
    "\n",
    "sweden_tiles_index = 'Y:/William/RIP_NATURE_2/Sweden/LiDAR/swedish_lidar_selected.shp'\n",
    "topographical_streams_sweden = 'Y:/William/RIP_NATURE_2/Sweden/hl_riks.shp'\n",
    "sweden_harvest_sites = 'Y:/William/RIP_NATURE_2/Sweden/CC/Swedish_CC.shp'\n",
    "\n",
    "## 2014\n",
    "CC_5_years_before_2014 = arcpy.SelectLayerByAttribute_management(sweden_harvest_sites, 'NEW_SELECTION', '\"HARVYR\" > 2009 and \"HARVYR\" < 2014')\n",
    "arcpy.CopyFeatures_management(CC_5_years_before_2014, 'Y:/William/RIP_NATURE_2/sweden/Post_harvest/CC_2009_2014.shp')\n",
    "\n",
    "sweden_lidar_2014 = arcpy.SelectLayerByAttribute_management(sweden_tiles_index, 'NEW_SELECTION', '\"final_year\" = 2014')\n",
    "arcpy.CopyFeatures_management(sweden_lidar_2014, 'Y:/William/RIP_NATURE_2/sweden/LiDAR_Years/sweden_lidar_2014.shp')\n",
    "\n",
    "CC_2009_2014 = 'Y:/William/RIP_NATURE_2/sweden/Post_harvest/CC_2009_2014.shp'\n",
    "lidar_2014 = 'Y:/William/RIP_NATURE_2/sweden/LiDAR_Years/sweden_lidar_2014.shp'\n",
    "\n",
    "harvested_5_years_before_lidar_2014 = arcpy.SelectLayerByLocation_management(CC_2009_2014, 'INTERSECT', lidar_2014,'', 'NEW_SELECTION') \n",
    "arcpy.CopyFeatures_management(harvested_5_years_before_lidar_2014, 'Y:/William/RIP_NATURE_2/sweden/CC_Year/CC_2009_to_2014_lidar_2014.shp')\n",
    "\n",
    "sweden_tiles_index = 'Y:/William/RIP_NATURE_2/Sweden/LiDAR/swedish_lidar_selected.shp'\n",
    "topographical_streams_sweden = 'Y:/William/RIP_NATURE_2/Sweden/hl_riks.shp'\n",
    "sweden_harvest_sites = 'Y:/William/RIP_NATURE_2/Sweden/CC/Swedish_CC.shp'\n",
    "\n",
    "## 2015\n",
    "CC_5_years_before_2015 = arcpy.SelectLayerByAttribute_management(sweden_harvest_sites, 'NEW_SELECTION', '\"HARVYR\" > 2010 and \"HARVYR\" < 2015')\n",
    "arcpy.CopyFeatures_management(CC_5_years_before_2015, 'Y:/William/RIP_NATURE_2/sweden/Post_harvest/CC_2010_2015.shp')\n",
    "\n",
    "sweden_lidar_2015 = arcpy.SelectLayerByAttribute_management(sweden_tiles_index, 'NEW_SELECTION', '\"final_year\" = 2015')\n",
    "arcpy.CopyFeatures_management(sweden_lidar_2015, 'Y:/William/RIP_NATURE_2/sweden/LiDAR_Years/sweden_lidar_2015.shp')\n",
    "\n",
    "CC_2010_2015 = 'Y:/William/RIP_NATURE_2/sweden/Post_harvest/CC_2010_2015.shp'\n",
    "lidar_2015 = 'Y:/William/RIP_NATURE_2/sweden/LiDAR_Years/sweden_lidar_2015.shp'\n",
    "\n",
    "harvested_5_years_before_lidar_2015 = arcpy.SelectLayerByLocation_management(CC_2010_2015, 'INTERSECT', lidar_2015,'', 'NEW_SELECTION') \n",
    "arcpy.CopyFeatures_management(harvested_5_years_before_lidar_2015, 'Y:/William/RIP_NATURE_2/sweden/CC_Year/CC_2010_to_2015_lidar_2015.shp')\n",
    "\n",
    "sweden_tiles_index = 'Y:/William/RIP_NATURE_2/Sweden/LiDAR/swedish_lidar_selected.shp'\n",
    "topographical_streams_sweden = 'Y:/William/RIP_NATURE_2/Sweden/hl_riks.shp'\n",
    "sweden_harvest_sites = 'Y:/William/RIP_NATURE_2/Sweden/CC/Swedish_CC.shp'\n",
    "\n",
    "## 2016\n",
    "CC_5_years_before_2016 = arcpy.SelectLayerByAttribute_management(sweden_harvest_sites, 'NEW_SELECTION', '\"HARVYR\" > 2011 and \"HARVYR\" < 2016')\n",
    "arcpy.CopyFeatures_management(CC_5_years_before_2016, 'Y:/William/RIP_NATURE_2/sweden/Post_harvest/CC_2011_2016.shp')\n",
    "\n",
    "sweden_lidar_2016 = arcpy.SelectLayerByAttribute_management(sweden_tiles_index, 'NEW_SELECTION', '\"final_year\" = 2016')\n",
    "arcpy.CopyFeatures_management(sweden_lidar_2016, 'Y:/William/RIP_NATURE_2/sweden/LiDAR_Years/sweden_lidar_2016.shp')\n",
    "\n",
    "CC_2011_2016 = 'Y:/William/RIP_NATURE_2/sweden/Post_harvest/CC_2011_2016.shp'\n",
    "lidar_2016 = 'Y:/William/RIP_NATURE_2/sweden/LiDAR_Years/sweden_lidar_2016.shp'\n",
    "\n",
    "harvested_5_years_before_lidar_2016 = arcpy.SelectLayerByLocation_management(CC_2011_2016, 'INTERSECT', lidar_2016,'', 'NEW_SELECTION') \n",
    "arcpy.CopyFeatures_management(harvested_5_years_before_lidar_2016, 'Y:/William/RIP_NATURE_2/sweden/CC_Year/CC_2011_to_2016_lidar_2016.shp')\n",
    "\n",
    "# Merge\n",
    "inputs = 'Y:/William/RIP_NATURE_2/Sweden/CC_Year/CC_2004_to_2009_lidar_2009.shp','Y:/William/RIP_NATURE_2/Sweden/CC_Year/CC_2005_to_2010_lidar_2010.shp','Y:/William/RIP_NATURE_2/Sweden/CC_Year/CC_2006_to_2011_lidar_2011.shp','Y:/William/RIP_NATURE_2/Sweden/CC_Year/CC_2007_to_2012_lidar_2012shp','Y:/William/RIP_NATURE_2/Sweden/CC_Year/CC_2008_to_2013_lidar_2013.shp','Y:/William/RIP_NATURE_2/Sweden/CC_Year/CC_2009_to_2014_lidar_2014.shp','Y:/William/RIP_NATURE_2/Sweden/CC_Year/CC_2010_to_2015_lidar_2015.shp','Y:/William/RIP_NATURE_2/Sweden/CC_Year/CC_2011_to_2016_lidar_2016.shp'\n",
    "output = 'Y:/William/RIP_NATURE_2/sweden/sweden_harvest_before_LiDAR_merged.shp'\n",
    "arcpy.management.Merge(inputs, output)"
   ]
  },
  {
   "cell_type": "code",
   "execution_count": 58,
   "metadata": {
    "hidden": true
   },
   "outputs": [
    {
     "data": {
      "text/html": [
       "<h2>Output</h2>Y:\\William\\RIP_NATURE_2\\Sweden\\sweden_harvest_before_LiDAR_merged.shp<h2>Messages</h2>Start Time: Monday, 18 October 2021 15:56:00<br/>Succeeded at Monday, 18 October 2021 15:56:38 (Elapsed Time: 37,57 seconds)<br/><style>.rendered_html td, .rendered_html th {text-align: left;}.rendered_html tbody {border: 1px solid black;}</style>"
      ],
      "text/plain": [
       "<Result 'Y:\\\\William\\\\RIP_NATURE_2\\\\Sweden\\\\sweden_harvest_before_LiDAR_merged.shp'>"
      ]
     },
     "execution_count": 58,
     "metadata": {},
     "output_type": "execute_result"
    }
   ],
   "source": [
    "# Merge\n",
    "inputs = 'Y:/William/RIP_NATURE_2/Sweden/CC_Year/CC_2004_to_2009_lidar_2009.shp','Y:/William/RIP_NATURE_2/Sweden/CC_Year/CC_2005_to_2010_lidar_2010.shp','Y:/William/RIP_NATURE_2/Sweden/CC_Year/CC_2006_to_2011_lidar_2011.shp','Y:/William/RIP_NATURE_2/Sweden/CC_Year/CC_2007_to_2012_lidar_2012.shp','Y:/William/RIP_NATURE_2/Sweden/CC_Year/CC_2008_to_2013_lidar_2013.shp','Y:/William/RIP_NATURE_2/Sweden/CC_Year/CC_2009_to_2014_lidar_2014.shp','Y:/William/RIP_NATURE_2/Sweden/CC_Year/CC_2010_to_2015_lidar_2015.shp','Y:/William/RIP_NATURE_2/Sweden/CC_Year/CC_2011_to_2016_lidar_2016.shp'\n",
    "output = 'Y:/William/RIP_NATURE_2/sweden/sweden_harvest_before_LiDAR_merged.shp'\n",
    "arcpy.management.Merge(inputs, output)"
   ]
  },
  {
   "cell_type": "code",
   "execution_count": 1,
   "metadata": {
    "hidden": true
   },
   "outputs": [
    {
     "name": "stdout",
     "output_type": "stream",
     "text": [
      "204294\n"
     ]
    }
   ],
   "source": [
    "sweden_harvest_before_LiDAR_merged = arcpy.GetCount_management('Y:/William/RIP_NATURE_2/sweden/sweden_harvest_before_LiDAR_merged.shp')\n",
    "print(sweden_harvest_before_LiDAR_merged)"
   ]
  },
  {
   "cell_type": "markdown",
   "metadata": {
    "hidden": true
   },
   "source": [
    "We were only interested in harvest sites that were near a stream. We buffered the selected harvested sites with 30 m. These buffered harveste sites where then used to intersect with the topographical stream network "
   ]
  },
  {
   "cell_type": "code",
   "execution_count": 60,
   "metadata": {
    "hidden": true
   },
   "outputs": [
    {
     "data": {
      "text/html": [
       "<h2>Output</h2>Y:\\William\\RIP_NATURE_2\\Sweden\\Buffer_CC_after_LiDAR\\Buffered_post_harvest_scanne_CCs.shp<h2>Messages</h2>Start Time: Monday, 18 October 2021 16:03:19<br/>Succeeded at Monday, 18 October 2021 16:44:53 (Elapsed Time: 41 minutes 34 seconds)<br/><style>.rendered_html td, .rendered_html th {text-align: left;}.rendered_html tbody {border: 1px solid black;}</style>"
      ],
      "text/plain": [
       "<Result 'Y:\\\\William\\\\RIP_NATURE_2\\\\Sweden\\\\Buffer_CC_after_LiDAR\\\\Buffered_post_harvest_scanne_CCs.shp'>"
      ]
     },
     "execution_count": 60,
     "metadata": {},
     "output_type": "execute_result"
    }
   ],
   "source": [
    "arcpy.Buffer_analysis('Y:/William/RIP_NATURE_2/sweden/sweden_harvest_before_LiDAR_merged.shp', 'Y:/William/RIP_NATURE_2/Sweden/Buffer_CC_after_LiDAR/Buffered_post_harvest_scanne_CCs.shp', '30 Meters')"
   ]
  },
  {
   "cell_type": "code",
   "execution_count": 61,
   "metadata": {
    "hidden": true
   },
   "outputs": [
    {
     "data": {
      "text/html": [
       "<h2>Output</h2>Y:\\William\\RIP_NATURE_2\\Sweden\\Intersected_Streams.shp<h2>Messages</h2>Start Time: Tuesday, 19 October 2021 09:33:28<br/>Reading Features...<br/>Assembling Features...<br/>Succeeded at Tuesday, 19 October 2021 09:39:03 (Elapsed Time: 5 minutes 35 seconds)<br/><style>.rendered_html td, .rendered_html th {text-align: left;}.rendered_html tbody {border: 1px solid black;}</style>"
      ],
      "text/plain": [
       "<Result 'Y:\\\\William\\\\RIP_NATURE_2\\\\Sweden\\\\Intersected_Streams.shp'>"
      ]
     },
     "execution_count": 61,
     "metadata": {},
     "output_type": "execute_result"
    }
   ],
   "source": [
    "infeatures = (topographical_streams_sweden, 'Y:/William/RIP_NATURE_2/Sweden/Buffer_CC_after_LiDAR/Buffered_post_harvest_scanne_CCs.shp')\n",
    "intersected_streams = 'Y:/William/RIP_NATURE_2/Sweden/Intersected_Streams.shp'\n",
    "arcpy.Intersect_analysis(infeatures, intersected_streams)"
   ]
  },
  {
   "cell_type": "markdown",
   "metadata": {
    "hidden": true
   },
   "source": [
    "Select and export streams longer than 20m. Stream sections had to be at least  >20m because boreal canopy gaps can be naturally 0.1 ha, so we wanted to avoid these potentially natural gaps"
   ]
  },
  {
   "cell_type": "code",
   "execution_count": 62,
   "metadata": {
    "hidden": true
   },
   "outputs": [
    {
     "data": {
      "text/html": [
       "<h2>Output</h2>Y:\\William\\RIP_NATURE_2\\Sweden\\stream_segments_longer_than_20m.shp<h2>Messages</h2>Start Time: Tuesday, 19 October 2021 10:01:18<br/>Succeeded at Tuesday, 19 October 2021 10:02:02 (Elapsed Time: 43,49 seconds)<br/><style>.rendered_html td, .rendered_html th {text-align: left;}.rendered_html tbody {border: 1px solid black;}</style>"
      ],
      "text/plain": [
       "<Result 'Y:\\\\William\\\\RIP_NATURE_2\\\\Sweden\\\\stream_segments_longer_than_20m.shp'>"
      ]
     },
     "execution_count": 62,
     "metadata": {},
     "output_type": "execute_result"
    }
   ],
   "source": [
    "intersected_streams = 'Y:/William/RIP_NATURE_2/Sweden/Intersected_Streams.shp'\n",
    "\n",
    "arcpy.AddGeometryAttributes_management(intersected_streams, 'LENGTH', 'METERS')\n",
    "attribute_selected = arcpy.SelectLayerByAttribute_management(intersected_streams, 'NEW_SELECTION', \n",
    "                                        '\"LENGTH\" > 20')\n",
    "arcpy.CopyFeatures_management(attribute_selected, 'Y:/William/RIP_NATURE_2/Sweden/stream_segments_longer_than_20m.shp')"
   ]
  },
  {
   "cell_type": "code",
   "execution_count": 2,
   "metadata": {
    "hidden": true
   },
   "outputs": [
    {
     "name": "stdout",
     "output_type": "stream",
     "text": [
      "94086\n"
     ]
    }
   ],
   "source": [
    "stream_segments_longer_than_20m = arcpy.GetCount_management('Y:/William/RIP_NATURE_2/Sweden/stream_segments_longer_than_20m.shp')\n",
    "print(stream_segments_longer_than_20m)"
   ]
  },
  {
   "cell_type": "markdown",
   "metadata": {
    "hidden": true
   },
   "source": [
    "Next the stream segments were buffered on both sides by 20 m and dissolved seperatly."
   ]
  },
  {
   "cell_type": "code",
   "execution_count": 63,
   "metadata": {
    "hidden": true
   },
   "outputs": [
    {
     "data": {
      "text/html": [
       "<h2>Output</h2>Y:\\William\\RIP_NATURE_2\\Sweden\\dissolve\\dissolve_right.shp<h2>Messages</h2>Start Time: Tuesday, 19 October 2021 11:59:08<br/>Dissolving...<br/>Succeeded at Tuesday, 19 October 2021 11:59:26 (Elapsed Time: 17,19 seconds)<br/><style>.rendered_html td, .rendered_html th {text-align: left;}.rendered_html tbody {border: 1px solid black;}</style>"
      ],
      "text/plain": [
       "<Result 'Y:\\\\William\\\\RIP_NATURE_2\\\\Sweden\\\\dissolve\\\\dissolve_right.shp'>"
      ]
     },
     "execution_count": 63,
     "metadata": {},
     "output_type": "execute_result"
    }
   ],
   "source": [
    "# Streams\n",
    "stream_segments_over_20m = 'Y:/William/RIP_NATURE_2/Sweden/stream_segments_longer_than_20m.shp'\n",
    "\n",
    "# buffer outputs\n",
    "buffer_left_side = 'Y:/William/RIP_NATURE_2/Sweden/Buffer_CC_after_LiDAR/Buffer_left_harvested_sites.shp'\n",
    "buffer_right_side = 'Y:/William/RIP_NATURE_2/Sweden/Buffer_CC_after_LiDAR/Buffer_right_harvested_sites.shp'\n",
    "\n",
    "buffer_distance = '20 Meters'\n",
    "sideType_left = 'LEFT'\n",
    "sideType_right = 'RIGHT'\n",
    "endType = 'FLAT'\n",
    "dissolveType = 'NONE'\n",
    "dissolveField = 'NONE'\n",
    "\n",
    "\n",
    "# Buffer Left\n",
    "arcpy.Buffer_analysis(stream_segments_over_20m, buffer_left_side, buffer_distance, sideType_left, endType, \n",
    "                      dissolveType)\n",
    "\n",
    "# Buffer Right\n",
    "arcpy.Buffer_analysis(stream_segments_over_20m, buffer_right_side, buffer_distance, sideType_right, endType, \n",
    "                      dissolveType)\n",
    "buffer_left_side = 'Y:/William/RIP_NATURE_2/Sweden/Buffer_CC_after_LiDAR/Buffer_left_harvested_sites.shp'\n",
    "buffer_right_side = 'Y:/William/RIP_NATURE_2/Sweden/Buffer_CC_after_LiDAR/Buffer_right_harvested_sites.shp'\n",
    "\n",
    "dissolve_left = 'Y:/William/RIP_NATURE_2/Sweden/dissolve/dissolve_left.shp'\n",
    "dissolve_right = 'Y:/William/RIP_NATURE_2/Sweden/dissolve/dissolve_right.shp'\n",
    "\n",
    "# Dissolve and copy left buffers\n",
    "arcpy.Dissolve_management(buffer_left_side, dissolve_left,\"\", \"\", \"SINGLE_PART\", \"UNSPLIT_LINES\")\n",
    "\n",
    "# Dissolve and copy Right buffers\n",
    "arcpy.Dissolve_management(buffer_right_side, dissolve_right,\"\", \"\", \"SINGLE_PART\", \"UNSPLIT_LINES\")\n"
   ]
  },
  {
   "cell_type": "markdown",
   "metadata": {
    "hidden": true
   },
   "source": [
    "Select and merge buffer polygons within 10 m of a harvesting site that were harvested before being lidar scanned."
   ]
  },
  {
   "cell_type": "code",
   "execution_count": 64,
   "metadata": {
    "hidden": true
   },
   "outputs": [
    {
     "data": {
      "text/html": [
       "<h2>Output</h2>Y:\\William\\RIP_NATURE_2\\Sweden\\Dissolved_buffers_within_10m_of_stream_lidar_after_harvest\\merged_buffer_within_10m_of_CC.shp<h2>Messages</h2>Start Time: Tuesday, 19 October 2021 12:18:33<br/>Succeeded at Tuesday, 19 October 2021 12:18:50 (Elapsed Time: 16,96 seconds)<br/><style>.rendered_html td, .rendered_html th {text-align: left;}.rendered_html tbody {border: 1px solid black;}</style>"
      ],
      "text/plain": [
       "<Result 'Y:\\\\William\\\\RIP_NATURE_2\\\\Sweden\\\\Dissolved_buffers_within_10m_of_stream_lidar_after_harvest\\\\merged_buffer_within_10m_of_CC.shp'>"
      ]
     },
     "execution_count": 64,
     "metadata": {},
     "output_type": "execute_result"
    }
   ],
   "source": [
    "dissolve_left = 'Y:/William/RIP_NATURE_2/Sweden/dissolve/dissolve_left.shp'\n",
    "dissolve_right = 'Y:/William/RIP_NATURE_2/Sweden/dissolve/dissolve_right.shp'\n",
    "\n",
    "harvestsites =  'Y:/William/RIP_NATURE_2/Sweden/CC_Before_LiDAR_within30m_of_stream/CC_BeforeLiDAR_wthin30mof_Stream.shp'\n",
    "\n",
    "copy_left = 'Y:/William/RIP_NATURE_2/Sweden/Dissolved_buffers_within_10m_of_stream_lidar_after_harvest/within_10m_of_CC_left_buffer.shp'\n",
    "copy_right = 'Y:/William/RIP_NATURE_2/Sweden/Dissolved_buffers_within_10m_of_stream_lidar_after_harvest/within_10m_of_CC_right_buffer.shp'\n",
    "\n",
    "selection_type = 'NEW_SELECTION'\n",
    "\n",
    "# Left\n",
    "select_Left = arcpy.SelectLayerByLocation_management(dissolve_left, 'WITHIN_A_DISTANCE', harvestsites, '10 Meters', selection_type)\n",
    "arcpy.CopyFeatures_management(select_Left, copy_left)\n",
    "# Right\n",
    "select_Right = arcpy.SelectLayerByLocation_management(dissolve_right, 'WITHIN_A_DISTANCE', harvestsites, '10 Meters', selection_type)\n",
    "arcpy.CopyFeatures_management(select_Right, copy_right)\n",
    "\n",
    "# Dissolved and selected buffers\n",
    "Dissolved_left_side_within_10m_of_harvest_sites = 'Y:/William/RIP_NATURE_2/Sweden/Dissolved_buffers_within_10m_of_stream_lidar_after_harvest/CC_within_10mof_left_buffer.shp'\n",
    "Dissolved_right_right_within_10m_of_harvest_sites = 'Y:/William/RIP_NATURE_2/Sweden/Dissolved_buffers_within_10m_of_stream_lidar_after_harvest/CC_within_10mof_right_buffer.shp'\n",
    "\n",
    "# Merged buffers\n",
    "merged_buffer_within_10m_of_CC = 'Y:/William/RIP_NATURE_2/Sweden/Dissolved_buffers_within_10m_of_stream_lidar_after_harvest/merged_buffer_within_10m_of_CC.shp'\n",
    "arcpy.Merge_management([Dissolved_left_side_within_10m_of_harvest_sites, Dissolved_right_right_within_10m_of_harvest_sites], merged_buffer_within_10m_of_CC)\n"
   ]
  },
  {
   "cell_type": "markdown",
   "metadata": {
    "hidden": true
   },
   "source": [
    "Dissolve merged buffers\n"
   ]
  },
  {
   "cell_type": "code",
   "execution_count": 65,
   "metadata": {
    "hidden": true
   },
   "outputs": [
    {
     "data": {
      "text/html": [
       "<h2>Output</h2>Y:\\William\\RIP_NATURE_2\\Sweden\\Dissolved_buffers_within_10m_of_stream_lidar_after_harvest\\merged_buffer_within_10m_of_CC_dissolved.shp<h2>Messages</h2>Start Time: Tuesday, 19 October 2021 12:32:20<br/>Dissolving...<br/>Succeeded at Tuesday, 19 October 2021 12:32:49 (Elapsed Time: 28,24 seconds)<br/><style>.rendered_html td, .rendered_html th {text-align: left;}.rendered_html tbody {border: 1px solid black;}</style>"
      ],
      "text/plain": [
       "<Result 'Y:\\\\William\\\\RIP_NATURE_2\\\\Sweden\\\\Dissolved_buffers_within_10m_of_stream_lidar_after_harvest\\\\merged_buffer_within_10m_of_CC_dissolved.shp'>"
      ]
     },
     "execution_count": 65,
     "metadata": {},
     "output_type": "execute_result"
    }
   ],
   "source": [
    "# Merged polygons\n",
    "merged_buffer_within_10m_of_CC = 'Y:/William/RIP_NATURE_2/Sweden/Dissolved_buffers_within_10m_of_stream_lidar_after_harvest/merged_buffer_within_10m_of_CC.shp'\n",
    "# Dissolved polygons\n",
    "Dissolved_buffer_within_10m_of_CC = 'Y:/William/RIP_NATURE_2/Sweden/Dissolved_buffers_within_10m_of_stream_lidar_after_harvest/merged_buffer_within_10m_of_CC_dissolved.shp'\n",
    "\n",
    "arcpy.Dissolve_management(merged_buffer_within_10m_of_CC, Dissolved_buffer_within_10m_of_CC,\"\", \"\", \"SINGLE_PART\", \"DISSOLVE_LINES\")\n"
   ]
  },
  {
   "cell_type": "markdown",
   "metadata": {
    "hidden": true
   },
   "source": [
    "\n",
    "Finally the Swedish forest mask was used to clip the buffer zones to make sure that only forest land were included"
   ]
  },
  {
   "cell_type": "code",
   "execution_count": 66,
   "metadata": {
    "hidden": true
   },
   "outputs": [
    {
     "data": {
      "text/html": [
       "<h2>Output</h2>Y:\\William\\RIP_NATURE_2\\Sweden\\buffers_post_harvest.shp<h2>Messages</h2>Start Time: Tuesday, 19 October 2021 12:35:04<br/>Reading Features...<br/>Assembling Features...<br/>Succeeded at Tuesday, 19 October 2021 12:39:56 (Elapsed Time: 4 minutes 51 seconds)<br/><style>.rendered_html td, .rendered_html th {text-align: left;}.rendered_html tbody {border: 1px solid black;}</style>"
      ],
      "text/plain": [
       "<Result 'Y:\\\\William\\\\RIP_NATURE_2\\\\Sweden\\\\buffers_post_harvest.shp'>"
      ]
     },
     "execution_count": 66,
     "metadata": {},
     "output_type": "execute_result"
    }
   ],
   "source": [
    "Dissolved_buffer_within_10m_of_CC = 'Y:/William/RIP_NATURE_2/Sweden/Dissolved_buffers_within_10m_of_stream_lidar_after_harvest/merged_buffer_within_10m_of_CC_dissolved.shp'\n",
    "Swedis_forest_land = 'Y:/William/RIP_NATURE_2/Sweden/ForestryLand.shp'\n",
    "Post_harvest_buffer_zones = 'Y:/William/RIP_NATURE_2/Sweden/buffers_post_harvest.shp'\n",
    "arcpy.Clip_analysis(Dissolved_buffer_within_10m_of_CC , Swedis_forest_land, Post_harvest_buffer_zones)"
   ]
  },
  {
   "cell_type": "code",
   "execution_count": 67,
   "metadata": {
    "hidden": true
   },
   "outputs": [
    {
     "name": "stdout",
     "output_type": "stream",
     "text": [
      "70550\n"
     ]
    }
   ],
   "source": [
    "nr_sites_post_harvest = arcpy.GetCount_management(Post_harvest_buffer_zones)\n",
    "print(nr_sites_post_harvest)"
   ]
  },
  {
   "cell_type": "markdown",
   "metadata": {
    "hidden": true
   },
   "source": [
    "Extract canopy cover statistics within the buffer zones using zonal statistcs as table"
   ]
  },
  {
   "cell_type": "code",
   "execution_count": null,
   "metadata": {
    "hidden": true
   },
   "outputs": [],
   "source": [
    "import arcpy\n",
    "from arcpy.sa import *\n",
    "Post_harvest_buffer_zones = 'Y:/William/RIP_NATURE_2/Sweden/buffers_post_harvest.shp'\n",
    "\n",
    "# Set the local variables\n",
    "inZoneData = Post_harvest_buffer_zones\n",
    "zoneField = 'FID'\n",
    "inValueRaster = 'Y:/William/RIP_NATURE_2/Sweden/Tradhojdsraster/Mosaic_Hela_1_0.tif'\n",
    "outTable = 'Y:/William/RIP_NATURE_2/Sweden/ZonalStatistics/sweden_post_harvest_buffers.dbf'\n",
    "\n",
    "# Execute ZonalStatisticsAsTable\n",
    "ZonalStatisticsAsTable(inZoneData, zoneField, inValueRaster, \n",
    "                                 outTable, \"NODATA\", \"SUM\", \"\")"
   ]
  },
  {
   "cell_type": "code",
   "execution_count": null,
   "metadata": {
    "hidden": true
   },
   "outputs": [],
   "source": []
  },
  {
   "cell_type": "markdown",
   "metadata": {
    "heading_collapsed": true,
    "hidden": true
   },
   "source": [
    "## Pre-Harvest stream buffers "
   ]
  },
  {
   "cell_type": "markdown",
   "metadata": {
    "hidden": true
   },
   "source": [
    "\n",
    "To relate the post harvest canopy densities I also need pre harvest canopy densities. To this end we selected sites that were harvested after being scanned with LiDAR. This means that they were in their unharvested state during the LiDAR scan. "
   ]
  },
  {
   "cell_type": "code",
   "execution_count": 71,
   "metadata": {
    "hidden": true
   },
   "outputs": [
    {
     "data": {
      "text/html": [
       "<h2>Output</h2>Y:\\William\\RIP_NATURE_2\\Sweden\\Pre_harvest\\CC_after_lidar_2009.shp<h2>Messages</h2>Start Time: Tuesday, 19 October 2021 13:53:55<br/>Succeeded at Tuesday, 19 October 2021 13:54:37 (Elapsed Time: 42,31 seconds)<br/><style>.rendered_html td, .rendered_html th {text-align: left;}.rendered_html tbody {border: 1px solid black;}</style>"
      ],
      "text/plain": [
       "<Result 'Y:\\\\William\\\\RIP_NATURE_2\\\\Sweden\\\\Pre_harvest\\\\CC_after_lidar_2009.shp'>"
      ]
     },
     "execution_count": 71,
     "metadata": {},
     "output_type": "execute_result"
    }
   ],
   "source": [
    "sweden_tiles_index = 'Y:/William/RIP_NATURE_2/Sweden/LiDAR/swedish_lidar_selected.shp'\n",
    "sweden_harvest_sites = 'Y:/William/RIP_NATURE_2/Sweden/CC/Swedish_CC.shp'\n",
    "\n",
    "#The earliest scan was done 2009. \n",
    "#### 2009 ####\n",
    "# CC after 2009\n",
    "CC_after_2009 = arcpy.SelectLayerByAttribute_management(sweden_harvest_sites, 'NEW_SELECTION', '\"HARVYR\" > 2009')\n",
    "arcpy.CopyFeatures_management(CC_after_2009, 'Y:/William/RIP_NATURE_2/sweden/Post_harvest/CC_after_2009.shp')\n",
    "# LiDAR 2015\n",
    "sweden_lidar_2009 = arcpy.SelectLayerByAttribute_management(sweden_tiles_index, 'NEW_SELECTION', '\"final_year\" = 2009')\n",
    "arcpy.CopyFeatures_management(sweden_lidar_2009, 'Y:/William/RIP_NATURE_2/sweden/LiDAR_Years/sweden_lidar_2009')\n",
    "\n",
    "CC_after_2009 = 'Y:/William/RIP_NATURE_2/sweden/Post_harvest/CC_after_2009.shp'\n",
    "sweden_lidar_2009 = 'Y:/William/RIP_NATURE_2/sweden/LiDAR_Years/sweden_lidar_2009.shp'\n",
    "\n",
    "CC_after_lidar_2009 = arcpy.SelectLayerByLocation_management(CC_after_2009, 'INTERSECT', sweden_lidar_2009,'', 'NEW_SELECTION') \n",
    "arcpy.CopyFeatures_management(CC_after_lidar_2009, 'Y:/William/RIP_NATURE_2/sweden/Pre_harvest/CC_after_lidar_2009.shp')\n",
    "\n",
    "# CC after 2010\n",
    "CC_after_2010 = arcpy.SelectLayerByAttribute_management(sweden_harvest_sites, 'NEW_SELECTION', '\"HARVYR\" > 2010')\n",
    "arcpy.CopyFeatures_management(CC_after_2010, 'Y:/William/RIP_NATURE_2/sweden/Post_harvest/CC_after_2010.shp')\n",
    "# LiDAR 2010\n",
    "sweden_lidar_2010 = arcpy.SelectLayerByAttribute_management(sweden_tiles_index, 'NEW_SELECTION', '\"final_year\" = 2010')\n",
    "arcpy.CopyFeatures_management(sweden_lidar_2010, 'Y:/William/RIP_NATURE_2/sweden/LiDAR_Years/sweden_lidar_2010')\n",
    "\n",
    "CC_after_2010 = 'Y:/William/RIP_NATURE_2/sweden/Post_harvest/CC_after_2010.shp'\n",
    "sweden_lidar_2010 = 'Y:/William/RIP_NATURE_2/sweden/LiDAR_Years/sweden_lidar_2010.shp'\n",
    "\n",
    "CC_after_lidar_2010 = arcpy.SelectLayerByLocation_management(CC_after_2010, 'INTERSECT', sweden_lidar_2010,'', 'NEW_SELECTION') \n",
    "arcpy.CopyFeatures_management(CC_after_lidar_2010, 'Y:/William/RIP_NATURE_2/sweden/Pre_harvest/CC_after_lidar_2010.shp')\n",
    "\n",
    "# CC after 2011\n",
    "CC_after_2011 = arcpy.SelectLayerByAttribute_management(sweden_harvest_sites, 'NEW_SELECTION', '\"HARVYR\" > 2011')\n",
    "arcpy.CopyFeatures_management(CC_after_2011, 'Y:/William/RIP_NATURE_2/sweden/Post_harvest/CC_after_2011.shp')\n",
    "# LiDAR 2011\n",
    "sweden_lidar_2011 = arcpy.SelectLayerByAttribute_management(sweden_tiles_index, 'NEW_SELECTION', '\"final_year\" = 2011')\n",
    "arcpy.CopyFeatures_management(sweden_lidar_2011, 'Y:/William/RIP_NATURE_2/sweden/LiDAR_Years/sweden_lidar_2011')\n",
    "\n",
    "CC_after_2011 = 'Y:/William/RIP_NATURE_2/sweden/Post_harvest/CC_after_2011.shp'\n",
    "sweden_lidar_2011 = 'Y:/William/RIP_NATURE_2/sweden/LiDAR_Years/sweden_lidar_2011.shp'\n",
    "\n",
    "CC_after_lidar_2011 = arcpy.SelectLayerByLocation_management(CC_after_2011, 'INTERSECT', sweden_lidar_2011,'', 'NEW_SELECTION') \n",
    "arcpy.CopyFeatures_management(CC_after_lidar_2011, 'Y:/William/RIP_NATURE_2/sweden/Pre_harvest/CC_after_lidar_2011.shp')\n",
    "\n",
    "# CC after 2012\n",
    "CC_after_2012 = arcpy.SelectLayerByAttribute_management(sweden_harvest_sites, 'NEW_SELECTION', '\"HARVYR\" > 2012')\n",
    "arcpy.CopyFeatures_management(CC_after_2012, 'Y:/William/RIP_NATURE_2/sweden/Post_harvest/CC_after_2012.shp')\n",
    "# LiDAR 2012\n",
    "sweden_lidar_2012 = arcpy.SelectLayerByAttribute_management(sweden_tiles_index, 'NEW_SELECTION', '\"final_year\" = 2012')\n",
    "arcpy.CopyFeatures_management(sweden_lidar_2012, 'Y:/William/RIP_NATURE_2/sweden/LiDAR_Years/sweden_lidar_2012')\n",
    "\n",
    "CC_after_2012 = 'Y:/William/RIP_NATURE_2/sweden/Post_harvest/CC_after_2012.shp'\n",
    "sweden_lidar_2012 = 'Y:/William/RIP_NATURE_2/sweden/LiDAR_Years/sweden_lidar_2012.shp'\n",
    "\n",
    "CC_after_lidar_2012 = arcpy.SelectLayerByLocation_management(CC_after_2012, 'INTERSECT', sweden_lidar_2012,'', 'NEW_SELECTION') \n",
    "arcpy.CopyFeatures_management(CC_after_lidar_2012, 'Y:/William/RIP_NATURE_2/sweden/Pre_harvest/CC_after_lidar_2012.shp')\n",
    "\n",
    "# CC after 2013\n",
    "CC_after_2013 = arcpy.SelectLayerByAttribute_management(sweden_harvest_sites, 'NEW_SELECTION', '\"HARVYR\" > 2013')\n",
    "arcpy.CopyFeatures_management(CC_after_2013, 'Y:/William/RIP_NATURE_2/sweden/Post_harvest/CC_after_2013.shp')\n",
    "# LiDAR 2013\n",
    "sweden_lidar_2013 = arcpy.SelectLayerByAttribute_management(sweden_tiles_index, 'NEW_SELECTION', '\"final_year\" = 2013')\n",
    "arcpy.CopyFeatures_management(sweden_lidar_2013, 'Y:/William/RIP_NATURE_2/sweden/LiDAR_Years/sweden_lidar_2013')\n",
    "\n",
    "CC_after_2013 = 'Y:/William/RIP_NATURE_2/sweden/Post_harvest/CC_after_2013.shp'\n",
    "sweden_lidar_2013 = 'Y:/William/RIP_NATURE_2/sweden/LiDAR_Years/sweden_lidar_2013.shp'\n",
    "\n",
    "CC_after_lidar_2013 = arcpy.SelectLayerByLocation_management(CC_after_2013, 'INTERSECT', sweden_lidar_2013,'', 'NEW_SELECTION') \n",
    "arcpy.CopyFeatures_management(CC_after_lidar_2013, 'Y:/William/RIP_NATURE_2/sweden/Pre_harvest/CC_after_lidar_2013.shp')\n",
    "# CC after 2014\n",
    "CC_after_2014 = arcpy.SelectLayerByAttribute_management(sweden_harvest_sites, 'NEW_SELECTION', '\"HARVYR\" > 2014')\n",
    "arcpy.CopyFeatures_management(CC_after_2014, 'Y:/William/RIP_NATURE_2/sweden/Post_harvest/CC_after_2014.shp')\n",
    "# LiDAR 2014\n",
    "sweden_lidar_2014 = arcpy.SelectLayerByAttribute_management(sweden_tiles_index, 'NEW_SELECTION', '\"final_year\" = 2014')\n",
    "arcpy.CopyFeatures_management(sweden_lidar_2014, 'Y:/William/RIP_NATURE_2/sweden/LiDAR_Years/sweden_lidar_2014')\n",
    "\n",
    "CC_after_2014 = 'Y:/William/RIP_NATURE_2/sweden/Post_harvest/CC_after_2014.shp'\n",
    "sweden_lidar_2014 = 'Y:/William/RIP_NATURE_2/sweden/LiDAR_Years/sweden_lidar_2014.shp'\n",
    "\n",
    "CC_after_lidar_2014 = arcpy.SelectLayerByLocation_management(CC_after_2014, 'INTERSECT', sweden_lidar_2014,'', 'NEW_SELECTION') \n",
    "arcpy.CopyFeatures_management(CC_after_lidar_2014, 'Y:/William/RIP_NATURE_2/sweden/Pre_harvest/CC_after_lidar_2014.shp')\n",
    "\n",
    "# CC after 2015\n",
    "CC_after_2015 = arcpy.SelectLayerByAttribute_management(sweden_harvest_sites, 'NEW_SELECTION', '\"HARVYR\" > 2015')\n",
    "arcpy.CopyFeatures_management(CC_after_2015, 'Y:/William/RIP_NATURE_2/sweden/Post_harvest/CC_after_2015.shp')\n",
    "# LiDAR 2015\n",
    "sweden_lidar_2015 = arcpy.SelectLayerByAttribute_management(sweden_tiles_index, 'NEW_SELECTION', '\"final_year\" = 2015')\n",
    "arcpy.CopyFeatures_management(sweden_lidar_2015, 'Y:/William/RIP_NATURE_2/sweden/LiDAR_Years/sweden_lidar_2015')\n",
    "\n",
    "CC_after_2015 = 'Y:/William/RIP_NATURE_2/sweden/Post_harvest/CC_after_2015.shp'\n",
    "sweden_lidar_2015 = 'Y:/William/RIP_NATURE_2/sweden/LiDAR_Years/sweden_lidar_2015.shp'\n",
    "\n",
    "CC_after_lidar_2015 = arcpy.SelectLayerByLocation_management(CC_after_2015, 'INTERSECT', sweden_lidar_2015,'', 'NEW_SELECTION') \n",
    "arcpy.CopyFeatures_management(CC_after_lidar_2015, 'Y:/William/RIP_NATURE_2/sweden/Pre_harvest/CC_after_lidar_2015.shp')\n",
    "\n",
    "# CC after 2016\n",
    "CC_after_2016 = arcpy.SelectLayerByAttribute_management(sweden_harvest_sites, 'NEW_SELECTION', '\"HARVYR\" > 2016')\n",
    "arcpy.CopyFeatures_management(CC_after_2016, 'Y:/William/RIP_NATURE_2/sweden/Post_harvest/CC_after_2016.shp')\n",
    "# LiDAR 2016\n",
    "sweden_lidar_2016 = arcpy.SelectLayerByAttribute_management(sweden_tiles_index, 'NEW_SELECTION', '\"final_year\" = 2016')\n",
    "arcpy.CopyFeatures_management(sweden_lidar_2016, 'Y:/William/RIP_NATURE_2/sweden/LiDAR_Years/sweden_lidar_2016')\n",
    "\n",
    "CC_after_2016 = 'Y:/William/RIP_NATURE_2/sweden/Post_harvest/CC_after_2016.shp'\n",
    "sweden_lidar_2016 = 'Y:/William/RIP_NATURE_2/sweden/LiDAR_Years/sweden_lidar_2016.shp'\n",
    "\n",
    "CC_after_lidar_2016 = arcpy.SelectLayerByLocation_management(CC_after_2016, 'INTERSECT', sweden_lidar_2016,'', 'NEW_SELECTION') \n",
    "arcpy.CopyFeatures_management(CC_after_lidar_2016, 'Y:/William/RIP_NATURE_2/sweden/Pre_harvest/CC_after_lidar_2016.shp')"
   ]
  },
  {
   "cell_type": "code",
   "execution_count": 6,
   "metadata": {
    "hidden": true
   },
   "outputs": [
    {
     "data": {
      "text/html": [
       "<h2>Output</h2>Y:\\William\\RIP_NATURE_2\\Sweden\\Pre_harvest\\merge_sweden_reference_sites.shp<h2>Messages</h2>Start Time: Wednesday, 20 October 2021 10:26:03<br/>Succeeded at Wednesday, 20 October 2021 10:27:07 (Elapsed Time: 1 minutes 3 seconds)<br/><style>.rendered_html td, .rendered_html th {text-align: left;}.rendered_html tbody {border: 1px solid black;}</style>"
      ],
      "text/plain": [
       "<Result 'Y:\\\\William\\\\RIP_NATURE_2\\\\Sweden\\\\Pre_harvest\\\\merge_sweden_reference_sites.shp'>"
      ]
     },
     "execution_count": 6,
     "metadata": {},
     "output_type": "execute_result"
    }
   ],
   "source": [
    "# Merge reference sites\n",
    "CC_after_lidar_2009 = 'Y:/William/RIP_NATURE_2/sweden/Pre_harvest/CC_after_lidar_2009.shp'\n",
    "CC_after_lidar_2010 = 'Y:/William/RIP_NATURE_2/sweden/Pre_harvest/CC_after_lidar_2010.shp'\n",
    "CC_after_lidar_2011 = 'Y:/William/RIP_NATURE_2/sweden/Pre_harvest/CC_after_lidar_2011.shp'\n",
    "CC_after_lidar_2012 = 'Y:/William/RIP_NATURE_2/sweden/Pre_harvest/CC_after_lidar_2012.shp'\n",
    "CC_after_lidar_2013 = 'Y:/William/RIP_NATURE_2/sweden/Pre_harvest/CC_after_lidar_2013.shp'\n",
    "CC_after_lidar_2014 = 'Y:/William/RIP_NATURE_2/sweden/Pre_harvest/CC_after_lidar_2014.shp'\n",
    "CC_after_lidar_2015 = 'Y:/William/RIP_NATURE_2/sweden/Pre_harvest/CC_after_lidar_2015.shp'\n",
    "CC_after_lidar_2016 = 'Y:/William/RIP_NATURE_2/sweden/Pre_harvest/CC_after_lidar_2016.shp'\n",
    "\n",
    "merge_sweden_reference_sites = 'Y:/William/RIP_NATURE_2/sweden/Pre_harvest/merge_sweden_reference_sites.shp'\n",
    "arcpy.Merge_management([CC_after_lidar_2009,CC_after_lidar_2010,CC_after_lidar_2011,CC_after_lidar_2012,CC_after_lidar_2013,CC_after_lidar_2014,CC_after_lidar_2015, CC_after_lidar_2016], merge_sweden_reference_sites)\n"
   ]
  },
  {
   "cell_type": "markdown",
   "metadata": {
    "hidden": true
   },
   "source": [
    "Streams from the Swedish property map were intersected with  unharvested sites"
   ]
  },
  {
   "cell_type": "code",
   "execution_count": 7,
   "metadata": {
    "hidden": true
   },
   "outputs": [
    {
     "data": {
      "text/html": [
       "<h2>Output</h2>Y:\\William\\RIP_NATURE_2\\Sweden\\Reference_sites\\streams_intersect_CC.shp<h2>Messages</h2>Start Time: Wednesday, 20 October 2021 11:04:08<br/>Reading Features...<br/>Assembling Features...<br/>Succeeded at Wednesday, 20 October 2021 11:09:13 (Elapsed Time: 5 minutes 5 seconds)<br/><style>.rendered_html td, .rendered_html th {text-align: left;}.rendered_html tbody {border: 1px solid black;}</style>"
      ],
      "text/plain": [
       "<Result 'Y:\\\\William\\\\RIP_NATURE_2\\\\Sweden\\\\Reference_sites\\\\streams_intersect_CC.shp'>"
      ]
     },
     "execution_count": 7,
     "metadata": {},
     "output_type": "execute_result"
    }
   ],
   "source": [
    "topographical_streams_sweden = 'Y:/William/RIP_NATURE_2/Sweden/hl_riks.shp'\n",
    "Relevant_pre_harvest_sites = 'Y:/William/RIP_NATURE_2/sweden/Pre_harvest/merge_sweden_reference_sites.shp'\n",
    "Intersected_reference_streams = 'Y:/William/RIP_NATURE_2/Sweden/Reference_sites/streams_intersect_CC.shp'\n",
    "\n",
    "infeatures = (topographical_streams_sweden, Relevant_pre_harvest_sites)\n",
    "arcpy.Intersect_analysis(infeatures, Intersected_reference_streams)"
   ]
  },
  {
   "cell_type": "code",
   "execution_count": 62,
   "metadata": {
    "hidden": true
   },
   "outputs": [
    {
     "data": {
      "image/png": "[encoded data removed]",
      "text/plain": [
       "<Figure size 1440x720 with 1 Axes>"
      ]
     },
     "metadata": {},
     "output_type": "display_data"
    }
   ],
   "source": [
    "import pandas as pd\n",
    "import matplotlib as mpl\n",
    "from arcgis.features import SpatialDataFrame\n",
    "sweden_pre_harvest = 'Y:/William/RIP_NATURE_2/sweden/Pre_harvest/merge_sweden_reference_sites.shp'\n",
    "sweden_pre_harvest_year = pd.DataFrame.spatial.from_featureclass(sweden_pre_harvest)\n",
    "\n",
    "import matplotlib.pyplot as plt\n",
    "sweden_pre_harvest_year = sweden_pre_harvest_year['HARVYR'].value_counts().sort_index(ascending=True)\n",
    "\n",
    "\n",
    "COLOR = 'grey'\n",
    "mpl.rcParams['text.color'] = COLOR\n",
    "mpl.rcParams['axes.labelcolor'] = COLOR\n",
    "mpl.rcParams['xtick.color'] = COLOR\n",
    "mpl.rcParams['ytick.color'] = COLOR\n",
    "\n",
    "plt.rcParams.update({'font.size': 22})\n",
    "\n",
    "fig = sweden_pre_harvest_year.plot(kind='bar', \n",
    "                        alpha=0.75,\n",
    "                        figsize=(20,10),\n",
    "                        color=COLOR,\n",
    "                        rot='0')\n",
    "plt.ylabel(\"Number of harvest sites\")\n",
    "plt.xlabel(\"Harvest year\")\n",
    "\n",
    "plt.show()"
   ]
  },
  {
   "cell_type": "markdown",
   "metadata": {
    "hidden": true
   },
   "source": [
    "Stream segments over 20 m were buffered by 20 m and intersected with unharvested sites"
   ]
  },
  {
   "cell_type": "code",
   "execution_count": 8,
   "metadata": {
    "hidden": true
   },
   "outputs": [
    {
     "data": {
      "text/html": [
       "<h2>Output</h2>Y:\\William\\RIP_NATURE_2\\Sweden\\Reference_sites\\Buffered_reference_streams_intersect_CC.shp<h2>Messages</h2>Start Time: Wednesday, 20 October 2021 12:03:13<br/>Reading Features...<br/>Assembling Features...<br/>Succeeded at Wednesday, 20 October 2021 12:04:15 (Elapsed Time: 1 minutes 1 seconds)<br/><style>.rendered_html td, .rendered_html th {text-align: left;}.rendered_html tbody {border: 1px solid black;}</style>"
      ],
      "text/plain": [
       "<Result 'Y:\\\\William\\\\RIP_NATURE_2\\\\Sweden\\\\Reference_sites\\\\Buffered_reference_streams_intersect_CC.shp'>"
      ]
     },
     "execution_count": 8,
     "metadata": {},
     "output_type": "execute_result"
    }
   ],
   "source": [
    "Intersected_reference_streams = 'Y:/William/RIP_NATURE_2/Sweden/Reference_sites/streams_intersect_CC.shp'\n",
    "Intersected_reference_streams_over_20m = 'Y:/William/RIP_NATURE_2/Sweden/Reference_sites/streams_intersect_CC_over20m.shp'\n",
    "\n",
    "# Add lenght\n",
    "arcpy.AddGeometryAttributes_management(Intersected_reference_streams, 'LENGTH', 'METERS')\n",
    "\n",
    "# Select and copy segments over 20 m\n",
    "attribute_selected_ref = arcpy.SelectLayerByAttribute_management(Intersected_reference_streams, 'NEW_SELECTION', '\"LENGTH\" > 20')\n",
    "arcpy.CopyFeatures_management(attribute_selected_ref, Intersected_reference_streams_over_20m)\n",
    "\n",
    "Intersected_reference_streams_over_20m = 'Y:/William/RIP_NATURE_2/Sweden/Reference_sites/streams_intersect_CC_over20m.shp'\n",
    "Intersected_reference_streams_over_20m_buffered_by_20m = 'Y:/William/RIP_NATURE_2/Sweden/Reference_sites/streams_intersect_CC_over20m_buffered_20m.shp'\n",
    "\n",
    "Relevant_pre_harvest_sites = 'Y:/William/RIP_NATURE_2/Sweden/Reference_sites/CC_2011_to_2016_LiDAR_2009_or_2010.shp'\n",
    "Intersect_buffered_stream_segments_with_unharvested_sites = 'Y:/William/RIP_NATURE_2/Sweden/Reference_sites/Buffered_reference_streams_intersect_CC.shp'\n",
    "\n",
    "# Buffer stream segments by 20 m\n",
    "arcpy.Buffer_analysis(Intersected_reference_streams_over_20m, Intersected_reference_streams_over_20m_buffered_by_20m, '20 Meters')\n",
    "# Intersect Buffered stream segments with unharvest sites\n",
    "infeatures = (Intersected_reference_streams_over_20m_buffered_by_20m, Relevant_pre_harvest_sites)\n",
    "arcpy.Intersect_analysis(infeatures, Intersect_buffered_stream_segments_with_unharvested_sites)"
   ]
  },
  {
   "cell_type": "markdown",
   "metadata": {
    "hidden": true
   },
   "source": [
    "Finally the reference buffers were dissolved based on harvest site ID. "
   ]
  },
  {
   "cell_type": "code",
   "execution_count": 3,
   "metadata": {
    "hidden": true
   },
   "outputs": [
    {
     "data": {
      "text/html": [
       "<h2>Output</h2>Y:\\William\\RIP_NATURE_2\\Sweden\\Reference_sites\\Buffered_reference_streams_intersect_CC_dissolve_by_CC.shp<h2>Messages</h2>Start Time: Wednesday, 2 February 2022 09:54:02<br/>Sorting Attributes...<br/>Dissolving...<br/>Succeeded at Wednesday, 2 February 2022 09:56:54 (Elapsed Time: 2 minutes 51 seconds)<br/><style>.rendered_html td, .rendered_html th {text-align: left;}.rendered_html tbody {border: 1px solid black;}</style>"
      ],
      "text/plain": [
       "<Result 'Y:\\\\William\\\\RIP_NATURE_2\\\\Sweden\\\\Reference_sites\\\\Buffered_reference_streams_intersect_CC_dissolve_by_CC.shp'>"
      ]
     },
     "execution_count": 3,
     "metadata": {},
     "output_type": "execute_result"
    }
   ],
   "source": [
    "Intersect_buffered_stream_segments_with_unharvested_sites = 'Y:/William/RIP_NATURE_2/Sweden/Reference_sites/Buffered_reference_streams_intersect_CC.shp'\n",
    "Dissolve_reference_buffer_zones = 'Y:/William/RIP_NATURE_2/Sweden/Reference_sites/Buffered_reference_streams_intersect_CC_dissolve_by_CC.shp'\n",
    "dissolveFields = [\"FID_CC_201\"]\n",
    "arcpy.Dissolve_management(Intersect_buffered_stream_segments_with_unharvested_sites, Dissolve_reference_buffer_zones, dissolveFields, \"\", \"MULTI_PART\", \"DISSOLVE_LINES\")"
   ]
  },
  {
   "cell_type": "markdown",
   "metadata": {
    "hidden": true
   },
   "source": [
    "Extract canopy cover within reference buffer polygons"
   ]
  },
  {
   "cell_type": "code",
   "execution_count": null,
   "metadata": {
    "hidden": true
   },
   "outputs": [],
   "source": [
    "import arcpy\n",
    "from arcpy.sa import *\n",
    "Post_harvest_buffer_zones = 'Y:/William/RIP_NATURE_2/Sweden/Reference_sites/Buffered_reference_streams_intersect_CC_dissolve_by_CC.shp'\n",
    "\n",
    "# Set the local variables\n",
    "inZoneData = Post_harvest_buffer_zones\n",
    "zoneField = 'FID'\n",
    "inValueRaster = 'Y:/William/RIP_NATURE_2/Sweden/Tradhojdsraster/Mosaic_Hela_1_0.tif'\n",
    "outTable = 'Y:/William/RIP_NATURE_2/Sweden/ZonalStatistics/sweden_pre_harvest_buffers.dbf'\n",
    "\n",
    "# Execute ZonalStatisticsAsTable\n",
    "ZonalStatisticsAsTable(inZoneData, zoneField, inValueRaster, \n",
    "                                 outTable, \"NODATA\", \"SUM\", \"\")"
   ]
  },
  {
   "cell_type": "markdown",
   "metadata": {
    "hidden": true
   },
   "source": [
    "Sweden harvest sites and reference sites"
   ]
  },
  {
   "cell_type": "code",
   "execution_count": 22,
   "metadata": {
    "hidden": true
   },
   "outputs": [
    {
     "name": "stdout",
     "output_type": "stream",
     "text": [
      "70550 Harvested buffers\n",
      "21249 Reference unharvested buffers\n"
     ]
    }
   ],
   "source": [
    "# Harvestes sites \n",
    "Harvested = 'Y:/William/RIP_NATURE_2/Sweden/buffers_post_harvest.shp'\n",
    "print(arcpy.GetCount_management(Harvested),'Harvested buffers')\n",
    "\n",
    "\n",
    "# Reference sites\n",
    "Reference = 'Y:/William/RIP_NATURE_2/Sweden/Reference_sites/Buffered_reference_streams_intersect_CC_dissolve_by_CC.shp'\n",
    "print(arcpy.GetCount_management(Reference),'Reference unharvested buffers')\n",
    "\n"
   ]
  },
  {
   "cell_type": "markdown",
   "metadata": {
    "heading_collapsed": true
   },
   "source": [
    "# Finland"
   ]
  },
  {
   "cell_type": "markdown",
   "metadata": {
    "hidden": true
   },
   "source": [
    "## Post Harvest"
   ]
  },
  {
   "cell_type": "markdown",
   "metadata": {
    "hidden": true
   },
   "source": [
    "Post harvest means that the harvest sites were scanned with LiDAR within 5 years after being harvested. For example a site harvested between 2003 and 2008 would be in its harvested condition during a lidar scan that was conducted 2008. The shapefile 'Y:/William/RIP_NATURE_2/Finland/LIDAR/LiDARScanYear.shp' contains the column \"final_year\" that indicates when a sites was scanned with LiDAR. The file 'Y:/RIP_NATURE/Finland/Finland/NewclearcutsFromAntti/CC_declaration25112020.gdb/CC_declaration25112020.gdb/MKI_CC' contains harvest polygons and a column \"year\" that indicate which year the sites were harvested. Harvests between 2003 and 2018 were used. "
   ]
  },
  {
   "cell_type": "code",
   "execution_count": 25,
   "metadata": {
    "hidden": true
   },
   "outputs": [],
   "source": [
    "import arcpy\n",
    "arcpy.env.overwriteOutput = True\n",
    "arcpy.env.parallelProcessingFactor = \"100%\""
   ]
  },
  {
   "cell_type": "code",
   "execution_count": 7,
   "metadata": {
    "hidden": true
   },
   "outputs": [
    {
     "data": {
      "text/html": [
       "<h2>Output</h2>Y:\\William\\RIP_NATURE_2\\Finland\\CC_Year\\CC_2013_to_2018_lidar_2018.shp<h2>Messages</h2>Start Time: Wednesday, 20 October 2021 17:29:06<br/>Succeeded at Wednesday, 20 October 2021 17:29:08 (Elapsed Time: 1,86 seconds)<br/><style>.rendered_html td, .rendered_html th {text-align: left;}.rendered_html tbody {border: 1px solid black;}</style>"
      ],
      "text/plain": [
       "<Result 'Y:\\\\William\\\\RIP_NATURE_2\\\\Finland\\\\CC_Year\\\\CC_2013_to_2018_lidar_2018.shp'>"
      ]
     },
     "execution_count": 7,
     "metadata": {},
     "output_type": "execute_result"
    }
   ],
   "source": [
    "finland_tiles_index = 'Y:/William/RIP_NATURE_2/Finland/LIDAR/LiDARScanYear.shp'\n",
    "finland_harvest_sites = 'Y:/RIP_NATURE/Finland/Finland/NewclearcutsFromAntti/CC_declaration25112020.gdb/CC_declaration25112020.gdb/MKI_CC'\n",
    "\n",
    "## 2008\n",
    "CC_5_years_before_2008 = arcpy.SelectLayerByAttribute_management(finland_harvest_sites, 'NEW_SELECTION', '\"year\" > 2003 and \"year\" < 2008')\n",
    "arcpy.CopyFeatures_management(CC_5_years_before_2008, 'Y:/William/RIP_NATURE_2/finland/Post_harvest/CC_2003_2008.shp')\n",
    "\n",
    "finland_lidar_2008 = arcpy.SelectLayerByAttribute_management(finland_tiles_index, 'NEW_SELECTION', '\"final_year\" = 2008')\n",
    "arcpy.CopyFeatures_management(finland_lidar_2008, 'Y:/William/RIP_NATURE_2/finland/LiDAR_Years/finland_lidar_2008.shp')\n",
    "\n",
    "CC_2003_2008 = 'Y:/William/RIP_NATURE_2/finland/Post_harvest/CC_2003_2008.shp'\n",
    "lidar_2008 = 'Y:/William/RIP_NATURE_2/finland/LiDAR_Years/finland_lidar_2008.shp'\n",
    "\n",
    "harvested_5_years_before_lidar_2008 = arcpy.SelectLayerByLocation_management(CC_2003_2008, 'INTERSECT', lidar_2008,'', 'NEW_SELECTION') \n",
    "arcpy.CopyFeatures_management(harvested_5_years_before_lidar_2008, 'Y:/William/RIP_NATURE_2/Finland/CC_Year/CC_2003_to_2008_lidar_2008.shp')\n",
    "\n",
    "## 2009\n",
    "CC_5_years_before_2009 = arcpy.SelectLayerByAttribute_management(finland_harvest_sites, 'NEW_SELECTION', '\"year\" > 2004 and \"year\" < 2009')\n",
    "arcpy.CopyFeatures_management(CC_5_years_before_2009, 'Y:/William/RIP_NATURE_2/finland/Post_harvest/CC_2004_2009.shp')\n",
    "\n",
    "finland_lidar_2009 = arcpy.SelectLayerByAttribute_management(finland_tiles_index, 'NEW_SELECTION', '\"final_year\" = 2009')\n",
    "arcpy.CopyFeatures_management(finland_lidar_2009, 'Y:/William/RIP_NATURE_2/finland/LiDAR_Years/finland_lidar_2009.shp')\n",
    "\n",
    "CC_2004_2009 = 'Y:/William/RIP_NATURE_2/finland/Post_harvest/CC_2004_2009.shp'\n",
    "lidar_2009 = 'Y:/William/RIP_NATURE_2/finland/LiDAR_Years/finland_lidar_2009.shp'\n",
    "\n",
    "harvested_5_years_before_lidar_2009 = arcpy.SelectLayerByLocation_management(CC_2004_2009, 'INTERSECT', lidar_2009,'', 'NEW_SELECTION') \n",
    "arcpy.CopyFeatures_management(harvested_5_years_before_lidar_2009, 'Y:/William/RIP_NATURE_2/Finland/CC_Year/CC_2004_to_2009_lidar_2009.shp')\n",
    "\n",
    "## 2010\n",
    "CC_5_years_before_2010 = arcpy.SelectLayerByAttribute_management(finland_harvest_sites, 'NEW_SELECTION', '\"year\" > 2005 and \"year\" < 2010')\n",
    "arcpy.CopyFeatures_management(CC_5_years_before_2010, 'Y:/William/RIP_NATURE_2/finland/Post_harvest/CC_2005_2010.shp')\n",
    "\n",
    "finland_lidar_2010 = arcpy.SelectLayerByAttribute_management(finland_tiles_index, 'NEW_SELECTION', '\"final_year\" = 2010')\n",
    "arcpy.CopyFeatures_management(finland_lidar_2010, 'Y:/William/RIP_NATURE_2/finland/LiDAR_Years/finland_lidar_2010.shp')\n",
    "\n",
    "CC_2005_2010 = 'Y:/William/RIP_NATURE_2/finland/Post_harvest/CC_2005_2010.shp'\n",
    "lidar_2010 = 'Y:/William/RIP_NATURE_2/finland/LiDAR_Years/finland_lidar_2010.shp'\n",
    "\n",
    "harvested_5_years_before_lidar_2010 = arcpy.SelectLayerByLocation_management(CC_2005_2010, 'INTERSECT', lidar_2010,'', 'NEW_SELECTION') \n",
    "arcpy.CopyFeatures_management(harvested_5_years_before_lidar_2010, 'Y:/William/RIP_NATURE_2/Finland/CC_Year/CC_2005_to_2010_lidar_2010.shp')\n",
    "\n",
    "## 2011\n",
    "CC_5_years_before_2011 = arcpy.SelectLayerByAttribute_management(finland_harvest_sites, 'NEW_SELECTION', '\"year\" > 2006 and \"year\" < 2011')\n",
    "arcpy.CopyFeatures_management(CC_5_years_before_2011, 'Y:/William/RIP_NATURE_2/finland/Post_harvest/CC_2006_2011.shp')\n",
    "\n",
    "finland_lidar_2011 = arcpy.SelectLayerByAttribute_management(finland_tiles_index, 'NEW_SELECTION', '\"final_year\" = 2011')\n",
    "arcpy.CopyFeatures_management(finland_lidar_2011, 'Y:/William/RIP_NATURE_2/finland/LiDAR_Years/finland_lidar_2011.shp')\n",
    "\n",
    "CC_2006_2011 = 'Y:/William/RIP_NATURE_2/finland/Post_harvest/CC_2006_2011.shp'\n",
    "lidar_2011 = 'Y:/William/RIP_NATURE_2/finland/LiDAR_Years/finland_lidar_2011.shp'\n",
    "\n",
    "harvested_5_years_before_lidar_2011 = arcpy.SelectLayerByLocation_management(CC_2006_2011, 'INTERSECT', lidar_2011,'', 'NEW_SELECTION') \n",
    "arcpy.CopyFeatures_management(harvested_5_years_before_lidar_2011, 'Y:/William/RIP_NATURE_2/Finland/CC_Year/CC_2006_to_2011_lidar_2011.shp')\n",
    "\n",
    "## 2012\n",
    "CC_5_years_before_2012 = arcpy.SelectLayerByAttribute_management(finland_harvest_sites, 'NEW_SELECTION', '\"year\" > 2007 and \"year\" < 2012')\n",
    "arcpy.CopyFeatures_management(CC_5_years_before_2012, 'Y:/William/RIP_NATURE_2/finland/Post_harvest/CC_2007_2012.shp')\n",
    "\n",
    "finland_lidar_2012 = arcpy.SelectLayerByAttribute_management(finland_tiles_index, 'NEW_SELECTION', '\"final_year\" = 2012')\n",
    "arcpy.CopyFeatures_management(finland_lidar_2012, 'Y:/William/RIP_NATURE_2/finland/LiDAR_Years/finland_lidar_2012.shp')\n",
    "\n",
    "CC_2007_2012 = 'Y:/William/RIP_NATURE_2/finland/Post_harvest/CC_2007_2012.shp'\n",
    "lidar_2012 = 'Y:/William/RIP_NATURE_2/finland/LiDAR_Years/finland_lidar_2012.shp'\n",
    "\n",
    "harvested_5_years_before_lidar_2012 = arcpy.SelectLayerByLocation_management(CC_2007_2012, 'INTERSECT', lidar_2012,'', 'NEW_SELECTION') \n",
    "arcpy.CopyFeatures_management(harvested_5_years_before_lidar_2012, 'Y:/William/RIP_NATURE_2/Finland/CC_Year/CC_2007_to_2012_lidar_2012.shp')\n",
    "\n",
    "## 2013\n",
    "CC_5_years_before_2013 = arcpy.SelectLayerByAttribute_management(finland_harvest_sites, 'NEW_SELECTION', '\"year\" > 2008 and \"year\" < 2013')\n",
    "arcpy.CopyFeatures_management(CC_5_years_before_2013, 'Y:/William/RIP_NATURE_2/finland/Post_harvest/CC_2008_2013.shp')\n",
    "\n",
    "finland_lidar_2013 = arcpy.SelectLayerByAttribute_management(finland_tiles_index, 'NEW_SELECTION', '\"final_year\" = 2013')\n",
    "arcpy.CopyFeatures_management(finland_lidar_2013, 'Y:/William/RIP_NATURE_2/finland/LiDAR_Years/finland_lidar_2013.shp')\n",
    "\n",
    "CC_2008_2013 = 'Y:/William/RIP_NATURE_2/finland/Post_harvest/CC_2008_2013.shp'\n",
    "lidar_2013 = 'Y:/William/RIP_NATURE_2/finland/LiDAR_Years/finland_lidar_2013.shp'\n",
    "\n",
    "harvested_5_years_before_lidar_2013 = arcpy.SelectLayerByLocation_management(CC_2008_2013, 'INTERSECT', lidar_2013,'', 'NEW_SELECTION') \n",
    "arcpy.CopyFeatures_management(harvested_5_years_before_lidar_2013, 'Y:/William/RIP_NATURE_2/Finland/CC_Year/CC_2008_to_2013_lidar_2013.shp')\n",
    "\n",
    "## 2014\n",
    "CC_5_years_before_2014 = arcpy.SelectLayerByAttribute_management(finland_harvest_sites, 'NEW_SELECTION', '\"year\" > 2009 and \"year\" < 2014')\n",
    "arcpy.CopyFeatures_management(CC_5_years_before_2014, 'Y:/William/RIP_NATURE_2/finland/Post_harvest/CC_2009_2014.shp')\n",
    "\n",
    "finland_lidar_2014 = arcpy.SelectLayerByAttribute_management(finland_tiles_index, 'NEW_SELECTION', '\"final_year\" = 2014')\n",
    "arcpy.CopyFeatures_management(finland_lidar_2014, 'Y:/William/RIP_NATURE_2/finland/LiDAR_Years/finland_lidar_2014.shp')\n",
    "\n",
    "CC_2009_2014 = 'Y:/William/RIP_NATURE_2/finland/Post_harvest/CC_2009_2014.shp'\n",
    "lidar_2014 = 'Y:/William/RIP_NATURE_2/finland/LiDAR_Years/finland_lidar_2014.shp'\n",
    "\n",
    "harvested_5_years_before_lidar_2014 = arcpy.SelectLayerByLocation_management(CC_2009_2014, 'INTERSECT', lidar_2014,'', 'NEW_SELECTION') \n",
    "arcpy.CopyFeatures_management(harvested_5_years_before_lidar_2014, 'Y:/William/RIP_NATURE_2/Finland/CC_Year/CC_2009_to_2014_lidar_2014.shp')\n",
    "\n",
    "## 2015\n",
    "CC_5_years_before_2015 = arcpy.SelectLayerByAttribute_management(finland_harvest_sites, 'NEW_SELECTION', '\"year\" > 2010 and \"year\" < 2015')\n",
    "arcpy.CopyFeatures_management(CC_5_years_before_2015, 'Y:/William/RIP_NATURE_2/finland/Post_harvest/CC_2010_2015.shp')\n",
    "\n",
    "finland_lidar_2015 = arcpy.SelectLayerByAttribute_management(finland_tiles_index, 'NEW_SELECTION', '\"final_year\" = 2015')\n",
    "arcpy.CopyFeatures_management(finland_lidar_2015, 'Y:/William/RIP_NATURE_2/finland/LiDAR_Years/finland_lidar_2015.shp')\n",
    "\n",
    "CC_2010_2015 = 'Y:/William/RIP_NATURE_2/finland/Post_harvest/CC_2010_2015.shp'\n",
    "lidar_2015 = 'Y:/William/RIP_NATURE_2/finland/LiDAR_Years/finland_lidar_2015.shp'\n",
    "\n",
    "harvested_5_years_before_lidar_2015 = arcpy.SelectLayerByLocation_management(CC_2010_2015, 'INTERSECT', lidar_2015,'', 'NEW_SELECTION') \n",
    "arcpy.CopyFeatures_management(harvested_5_years_before_lidar_2015, 'Y:/William/RIP_NATURE_2/Finland/CC_Year/CC_2010_to_2015_lidar_2015.shp')\n",
    "\n",
    "## 2016\n",
    "CC_5_years_before_2016 = arcpy.SelectLayerByAttribute_management(finland_harvest_sites, 'NEW_SELECTION', '\"year\" > 2011 and \"year\" < 2016')\n",
    "arcpy.CopyFeatures_management(CC_5_years_before_2016, 'Y:/William/RIP_NATURE_2/finland/Post_harvest/CC_2011_2016.shp')\n",
    "\n",
    "finland_lidar_2016 = arcpy.SelectLayerByAttribute_management(finland_tiles_index, 'NEW_SELECTION', '\"final_year\" = 2016')\n",
    "arcpy.CopyFeatures_management(finland_lidar_2016, 'Y:/William/RIP_NATURE_2/finland/LiDAR_Years/finland_lidar_2016.shp')\n",
    "\n",
    "CC_2011_2016 = 'Y:/William/RIP_NATURE_2/finland/Post_harvest/CC_2011_2016.shp'\n",
    "lidar_2016 = 'Y:/William/RIP_NATURE_2/finland/LiDAR_Years/finland_lidar_2016.shp'\n",
    "\n",
    "harvested_5_years_before_lidar_2016 = arcpy.SelectLayerByLocation_management(CC_2011_2016, 'INTERSECT', lidar_2016,'', 'NEW_SELECTION') \n",
    "arcpy.CopyFeatures_management(harvested_5_years_before_lidar_2016, 'Y:/William/RIP_NATURE_2/Finland/CC_Year/CC_2011_to_2016_lidar_2016.shp')\n",
    "\n",
    "## 2017\n",
    "CC_5_years_before_2017 = arcpy.SelectLayerByAttribute_management(finland_harvest_sites, 'NEW_SELECTION', '\"year\" > 2012 and \"year\" < 2017')\n",
    "arcpy.CopyFeatures_management(CC_5_years_before_2017, 'Y:/William/RIP_NATURE_2/finland/Post_harvest/CC_2012_2017.shp')\n",
    "\n",
    "finland_lidar_2017 = arcpy.SelectLayerByAttribute_management(finland_tiles_index, 'NEW_SELECTION', '\"final_year\" = 2017')\n",
    "arcpy.CopyFeatures_management(finland_lidar_2017, 'Y:/William/RIP_NATURE_2/finland/LiDAR_Years/finland_lidar_2017.shp')\n",
    "\n",
    "CC_2012_2017 = 'Y:/William/RIP_NATURE_2/finland/Post_harvest/CC_2012_2017.shp'\n",
    "lidar_2017 = 'Y:/William/RIP_NATURE_2/finland/LiDAR_Years/finland_lidar_2017.shp'\n",
    "\n",
    "harvested_5_years_before_lidar_2017 = arcpy.SelectLayerByLocation_management(CC_2012_2017, 'INTERSECT', lidar_2017,'', 'NEW_SELECTION') \n",
    "arcpy.CopyFeatures_management(harvested_5_years_before_lidar_2017, 'Y:/William/RIP_NATURE_2/Finland/CC_Year/CC_2012_to_2017_lidar_2017.shp')\n",
    "\n",
    "## 2018\n",
    "CC_5_years_before_2018 = arcpy.SelectLayerByAttribute_management(finland_harvest_sites, 'NEW_SELECTION', '\"year\" > 2013 and \"year\" < 2018')\n",
    "arcpy.CopyFeatures_management(CC_5_years_before_2018, 'Y:/William/RIP_NATURE_2/finland/Post_harvest/CC_2013_2018.shp')\n",
    "\n",
    "finland_lidar_2018 = arcpy.SelectLayerByAttribute_management(finland_tiles_index, 'NEW_SELECTION', '\"final_year\" = 2018')\n",
    "arcpy.CopyFeatures_management(finland_lidar_2018, 'Y:/William/RIP_NATURE_2/finland/LiDAR_Years/finland_lidar_2018.shp')\n",
    "\n",
    "CC_2013_2018 = 'Y:/William/RIP_NATURE_2/finland/Post_harvest/CC_2013_2018.shp'\n",
    "lidar_2018 = 'Y:/William/RIP_NATURE_2/finland/LiDAR_Years/finland_lidar_2018.shp'\n",
    "\n",
    "harvested_5_years_before_lidar_2018 = arcpy.SelectLayerByLocation_management(CC_2013_2018, 'INTERSECT', lidar_2018,'', 'NEW_SELECTION') \n",
    "arcpy.CopyFeatures_management(harvested_5_years_before_lidar_2018, 'Y:/William/RIP_NATURE_2/Finland/CC_Year/CC_2013_to_2018_lidar_2018.shp')\n"
   ]
  },
  {
   "cell_type": "markdown",
   "metadata": {
    "hidden": true
   },
   "source": [
    "All selected harvest sites were merged into one shapefile for further processing."
   ]
  },
  {
   "cell_type": "code",
   "execution_count": 63,
   "metadata": {
    "hidden": true
   },
   "outputs": [
    {
     "data": {
      "text/html": [
       "<h2>Output</h2>Y:\\William\\RIP_NATURE_2\\Finland\\finland_harvest_before_LiDAR_merged.shp<h2>Messages</h2>Start Time: Friday, 22 October 2021 11:21:42<br/>Succeeded at Friday, 22 October 2021 11:22:45 (Elapsed Time: 1 minutes 2 seconds)<br/><style>.rendered_html td, .rendered_html th {text-align: left;}.rendered_html tbody {border: 1px solid black;}</style>"
      ],
      "text/plain": [
       "<Result 'Y:\\\\William\\\\RIP_NATURE_2\\\\Finland\\\\finland_harvest_before_LiDAR_merged.shp'>"
      ]
     },
     "execution_count": 63,
     "metadata": {},
     "output_type": "execute_result"
    }
   ],
   "source": [
    "# Merge\n",
    "CC_2003_to_2008_lidar_2008 = 'Y:/William/RIP_NATURE_2/Finland/CC_Year/CC_2003_to_2008_lidar_2008.shp'\n",
    "CC_2004_to_2009_lidar_2009 = 'Y:/William/RIP_NATURE_2/Finland/CC_Year/CC_2004_to_2009_lidar_2009.shp'\n",
    "CC_2005_to_2010_lidar_2010 = 'Y:/William/RIP_NATURE_2/Finland/CC_Year/CC_2005_to_2010_lidar_2010.shp'\n",
    "CC_2006_to_2011_lidar_2011 = 'Y:/William/RIP_NATURE_2/Finland/CC_Year/CC_2006_to_2011_lidar_2011.shp'\n",
    "CC_2007_to_2012_lidar_2012 = 'Y:/William/RIP_NATURE_2/Finland/CC_Year/CC_2007_to_2012_lidar_2012.shp'\n",
    "CC_2008_to_2013_lidar_2013 = 'Y:/William/RIP_NATURE_2/Finland/CC_Year/CC_2008_to_2013_lidar_2013.shp'\n",
    "CC_2009_to_2014_lidar_2014 = 'Y:/William/RIP_NATURE_2/Finland/CC_Year/CC_2009_to_2014_lidar_2014.shp'\n",
    "CC_2010_to_2015_lidar_2015 = 'Y:/William/RIP_NATURE_2/Finland/CC_Year/CC_2010_to_2015_lidar_2015.shp'\n",
    "CC_2011_to_2016_lidar_2016 = 'Y:/William/RIP_NATURE_2/Finland/CC_Year/CC_2011_to_2016_lidar_2016.shp'\n",
    "CC_2012_to_2017_lidar_2017 = 'Y:/William/RIP_NATURE_2/Finland/CC_Year/CC_2012_to_2017_lidar_2017.shp'\n",
    "CC_2013_to_2018_lidar_2018 = 'Y:/William/RIP_NATURE_2/Finland/CC_Year/CC_2013_to_2018_lidar_2018.shp'\n",
    "\n",
    "inputs = CC_2003_to_2008_lidar_2008, CC_2004_to_2009_lidar_2009, CC_2005_to_2010_lidar_2010,CC_2006_to_2011_lidar_2011,CC_2007_to_2012_lidar_2012,CC_2008_to_2013_lidar_2013,CC_2009_to_2014_lidar_2014,CC_2010_to_2015_lidar_2015,CC_2011_to_2016_lidar_2016,CC_2012_to_2017_lidar_2017,CC_2013_to_2018_lidar_2018\n",
    "\n",
    "output = 'Y:/William/RIP_NATURE_2/finland/finland_harvest_before_LiDAR_merged.shp'\n",
    "arcpy.management.Merge(inputs, output)"
   ]
  },
  {
   "cell_type": "markdown",
   "metadata": {
    "hidden": true
   },
   "source": [
    "The selected harvest sites were intersected with streams selected from this stream dataset: https://ckan.ymparisto.fi/dataset/%7BE15CD0B3-3934-4ABC-BF23-A8C622FA6A57%7D\n",
    "\n",
    "The stream were selected based on the upper catchment area of stream endpoints. \"ValuLuokka\" 1 and 2 represents small streams."
   ]
  },
  {
   "cell_type": "code",
   "execution_count": 8,
   "metadata": {
    "hidden": true
   },
   "outputs": [
    {
     "data": {
      "text/html": [
       "<h2>Output</h2>Y:\\William\\RIP_NATURE_2\\Finland\\streams\\Uoma1and2.shp<h2>Messages</h2>Start Time: Monday, 20 September 2021 18:35:39<br/>Succeeded at Monday, 20 September 2021 18:35:46 (Elapsed Time: 6,55 seconds)<br/><style>.rendered_html td, .rendered_html th {text-align: left;}.rendered_html tbody {border: 1px solid black;}</style>"
      ],
      "text/plain": [
       "<Result 'Y:\\\\William\\\\RIP_NATURE_2\\\\Finland\\\\streams\\\\Uoma1and2.shp'>"
      ]
     },
     "execution_count": 8,
     "metadata": {},
     "output_type": "execute_result"
    }
   ],
   "source": [
    "Original_Streams_Finland = 'Y:/William/RIP_NATURE_2/Finland/streams/Uoma10.shp'\n",
    "selected_streams_Finland =  'Y:/William/RIP_NATURE_2/Finland/streams/Uoma1and2.shp'\n",
    "\n",
    "attribute_selected_ref = arcpy.SelectLayerByAttribute_management(Original_Streams_Finland, 'NEW_SELECTION', '\"ValuLuokka\" <= 2')\n",
    "arcpy.CopyFeatures_management(attribute_selected_ref, selected_streams_Finland)"
   ]
  },
  {
   "cell_type": "markdown",
   "metadata": {
    "hidden": true
   },
   "source": [
    "harvest polygons within 30 m of a stream were selected and buffered by 30 m. These buffered harvest sites will be used later to intersect stream segments."
   ]
  },
  {
   "cell_type": "code",
   "execution_count": 23,
   "metadata": {
    "hidden": true
   },
   "outputs": [
    {
     "data": {
      "text/html": [
       "<h2>Output</h2>Y:\\William\\RIP_NATURE_2\\Finland\\BufferedCCWithin5YearsBBefore_LiDAR_within30m_of_stream.shp<h2>Messages</h2>Start Time: Wednesday, 27 October 2021 09:15:52<br/>Succeeded at Wednesday, 27 October 2021 09:17:06 (Elapsed Time: 1 minutes 14 seconds)<br/><style>.rendered_html td, .rendered_html th {text-align: left;}.rendered_html tbody {border: 1px solid black;}</style>"
      ],
      "text/plain": [
       "<Result 'Y:\\\\William\\\\RIP_NATURE_2\\\\Finland\\\\BufferedCCWithin5YearsBBefore_LiDAR_within30m_of_stream.shp'>"
      ]
     },
     "execution_count": 23,
     "metadata": {},
     "output_type": "execute_result"
    }
   ],
   "source": [
    "import arcpy\n",
    "Post_harvest_sites_Finland = 'Y:/William/RIP_NATURE_2/finland/finland_harvest_before_LiDAR_merged.shp'\n",
    "selected_streams_Finland =  'Y:/William/RIP_NATURE_2/Finland/streams/Uoma1and2.shp'\n",
    "CC_BeforeLiDAR_wthin30mof_Stream = 'Y:/William/RIP_NATURE_2/Finland/CCWithin5YearsBBefore_LiDAR_within30m_of_stream.shp'\n",
    "Buffered_CC_BeforeLiDAR_wthin30mof_Stream = 'Y:/William/RIP_NATURE_2/Finland/BufferedCCWithin5YearsBBefore_LiDAR_within30m_of_stream.shp'\n",
    "\n",
    "# select harvest sites within 30 m of streams\n",
    "selected_within_30m_stream_Finland = arcpy.SelectLayerByLocation_management(Post_harvest_sites_Finland, 'WITHIN_A_DISTANCE', selected_streams_Finland, '30 Meters')\n",
    "# Export selected harvest sites to new shapefile\n",
    "arcpy.CopyFeatures_management(selected_within_30m_stream_Finland, CC_BeforeLiDAR_wthin30mof_Stream)\n",
    "\n",
    "# Buffer harvest sites within 30 m of streams by 30 m\n",
    "arcpy.Buffer_analysis(CC_BeforeLiDAR_wthin30mof_Stream, Buffered_CC_BeforeLiDAR_wthin30mof_Stream, '30 Meters')"
   ]
  },
  {
   "cell_type": "markdown",
   "metadata": {
    "hidden": true
   },
   "source": [
    "The buffered harvest sites were intersected with the selected streams. Intersected stream segments that were longer than 20 m were selected for further processing."
   ]
  },
  {
   "cell_type": "code",
   "execution_count": 24,
   "metadata": {
    "hidden": true
   },
   "outputs": [
    {
     "data": {
      "text/html": [
       "<h2>Output</h2>Y:\\William\\RIP_NATURE_2\\Finland\\Intersected_Streams_longer_than_20m.shp<h2>Messages</h2>Start Time: Wednesday, 27 October 2021 09:36:06<br/>Succeeded at Wednesday, 27 October 2021 09:36:50 (Elapsed Time: 44,11 seconds)<br/><style>.rendered_html td, .rendered_html th {text-align: left;}.rendered_html tbody {border: 1px solid black;}</style>"
      ],
      "text/plain": [
       "<Result 'Y:\\\\William\\\\RIP_NATURE_2\\\\Finland\\\\Intersected_Streams_longer_than_20m.shp'>"
      ]
     },
     "execution_count": 24,
     "metadata": {},
     "output_type": "execute_result"
    }
   ],
   "source": [
    "# Inputs for intersect\n",
    "selected_streams_Finland =  'Y:/William/RIP_NATURE_2/Finland/streams/Uoma1and2.shp'\n",
    "Buffered_CC_BeforeLiDAR_wthin30mof_Stream = 'Y:/William/RIP_NATURE_2/Finland/BufferedCCWithin5YearsBBefore_LiDAR_within30m_of_stream.shp'\n",
    "intersected_streams_Finland = 'Y:/William/RIP_NATURE_2/Finland/Intersected_Streams.shp'\n",
    "\n",
    "infeatures = (selected_streams_Finland, Buffered_CC_BeforeLiDAR_wthin30mof_Stream)\n",
    "arcpy.Intersect_analysis(infeatures, intersected_streams_Finland)\n",
    "\n",
    "# Add lenght to the stream segments\n",
    "arcpy.AddGeometryAttributes_management(intersected_streams_Finland, 'LENGTH', 'METERS')\n",
    "\n",
    "# Select segments longer than 20 m\n",
    "attribute_selected = arcpy.SelectLayerByAttribute_management(intersected_streams_Finland, 'NEW_SELECTION', \n",
    "                                        '\"LENGTH\" > 20')\n",
    "stream_segments_over_20m = 'Y:/William/RIP_NATURE_2/Finland/Intersected_Streams_longer_than_20m.shp'\n",
    "arcpy.CopyFeatures_management(attribute_selected, stream_segments_over_20m)"
   ]
  },
  {
   "cell_type": "markdown",
   "metadata": {
    "hidden": true
   },
   "source": [
    "Next the stream segments where buffered and dissolved seperatly"
   ]
  },
  {
   "cell_type": "code",
   "execution_count": 26,
   "metadata": {
    "hidden": true
   },
   "outputs": [
    {
     "data": {
      "text/html": [
       "<h2>Output</h2>Y:\\William\\RIP_NATURE_2\\Finland\\dissolve\\dissolve_right.shp<h2>Messages</h2>Start Time: Wednesday, 27 October 2021 09:49:42<br/>Dissolving...<br/>Succeeded at Wednesday, 27 October 2021 09:50:04 (Elapsed Time: 21,67 seconds)<br/><style>.rendered_html td, .rendered_html th {text-align: left;}.rendered_html tbody {border: 1px solid black;}</style>"
      ],
      "text/plain": [
       "<Result 'Y:\\\\William\\\\RIP_NATURE_2\\\\Finland\\\\dissolve\\\\dissolve_right.shp'>"
      ]
     },
     "execution_count": 26,
     "metadata": {},
     "output_type": "execute_result"
    }
   ],
   "source": [
    "# Streams\n",
    "stream_segments_over_20m = 'Y:/William/RIP_NATURE_2/Finland/Intersected_Streams_longer_than_20m.shp'\n",
    "\n",
    "# buffer outputs\n",
    "buffer_left_side = 'Y:/William/RIP_NATURE_2/Finland/Buffer_CC_after_LiDAR/Buffer_left_harvested_sites.shp'\n",
    "buffer_right_side = 'Y:/William/RIP_NATURE_2/Finland/Buffer_CC_after_LiDAR/Buffer_right_harvested_sites.shp'\n",
    "\n",
    "buffer_distance = '20 Meters'\n",
    "sideType_left = 'LEFT'\n",
    "sideType_right = 'RIGHT'\n",
    "endType = 'FLAT'\n",
    "dissolveType = 'NONE'\n",
    "dissolveField = 'NONE'\n",
    "\n",
    "# Buffer Left and right sides seperatly\n",
    "arcpy.Buffer_analysis(stream_segments_over_20m, buffer_left_side, buffer_distance, sideType_left, endType, dissolveType)\n",
    "arcpy.Buffer_analysis(stream_segments_over_20m, buffer_right_side, buffer_distance, sideType_right, endType, dissolveType)\n",
    "\n",
    "# DISOLVE\n",
    "dissolve_left = 'Y:/William/RIP_NATURE_2/Finland/dissolve/dissolve_left.shp'\n",
    "dissolve_right = 'Y:/William/RIP_NATURE_2/Finland/dissolve/dissolve_right.shp'\n",
    "\n",
    "# Dissolve and copy both sides\n",
    "arcpy.Dissolve_management(buffer_left_side, dissolve_left,\"\", \"\", \"SINGLE_PART\", \"UNSPLIT_LINES\")\n",
    "arcpy.Dissolve_management(buffer_right_side, dissolve_right,\"\", \"\", \"SINGLE_PART\", \"UNSPLIT_LINES\")"
   ]
  },
  {
   "cell_type": "markdown",
   "metadata": {
    "hidden": true
   },
   "source": [
    "Select left and right buffers within 10 m from the unbuffered harvest sites that were located within 30m of a stream. Merge selected buffers into a single file."
   ]
  },
  {
   "cell_type": "code",
   "execution_count": 27,
   "metadata": {
    "hidden": true
   },
   "outputs": [
    {
     "data": {
      "text/html": [
       "<h2>Output</h2>Y:\\William\\RIP_NATURE_2\\Finland\\merged_buffer_within_10m_of_CC.shp<h2>Messages</h2>Start Time: Wednesday, 27 October 2021 10:01:50<br/>Succeeded at Wednesday, 27 October 2021 10:02:15 (Elapsed Time: 25,27 seconds)<br/><style>.rendered_html td, .rendered_html th {text-align: left;}.rendered_html tbody {border: 1px solid black;}</style>"
      ],
      "text/plain": [
       "<Result 'Y:\\\\William\\\\RIP_NATURE_2\\\\Finland\\\\merged_buffer_within_10m_of_CC.shp'>"
      ]
     },
     "execution_count": 27,
     "metadata": {},
     "output_type": "execute_result"
    }
   ],
   "source": [
    "dissolve_left = 'Y:/William/RIP_NATURE_2/Finland/dissolve/dissolve_left.shp'\n",
    "dissolve_right = 'Y:/William/RIP_NATURE_2/Finland/dissolve/dissolve_right.shp'\n",
    "\n",
    "# Within 30 m of a stream\n",
    "Post_Harvest_Finland = 'Y:/William/RIP_NATURE_2/Finland/CCWithin5YearsBBefore_LiDAR_within30m_of_stream.shp'\n",
    "\n",
    "copy_left = 'Y:/William/RIP_NATURE_2/Finland/Dissolved_buffers_within_10m_of_stream_lidar_after_harvest/within_10m_of_CC_left_buffer.shp'\n",
    "copy_right = 'Y:/William/RIP_NATURE_2/Finland/Dissolved_buffers_within_10m_of_stream_lidar_after_harvest/within_10m_of_CC_right_buffer.shp'\n",
    "\n",
    "selection_type = 'NEW_SELECTION'\n",
    "\n",
    "# Left\n",
    "select_Left = arcpy.SelectLayerByLocation_management(dissolve_left, 'WITHIN_A_DISTANCE', Post_Harvest_Finland, '10 Meters', selection_type)\n",
    "arcpy.CopyFeatures_management(select_Left, copy_left)\n",
    "# Right\n",
    "select_Right = arcpy.SelectLayerByLocation_management(dissolve_right, 'WITHIN_A_DISTANCE', Post_Harvest_Finland, '10 Meters', selection_type)\n",
    "arcpy.CopyFeatures_management(select_Right, copy_right)\n",
    "\n",
    "\n",
    "# Merged buffers\n",
    "merged_buffer_within_10m_of_CC = 'Y:/William/RIP_NATURE_2/Finland/merged_buffer_within_10m_of_CC.shp'\n",
    "arcpy.Merge_management([copy_left, copy_right], merged_buffer_within_10m_of_CC)\n"
   ]
  },
  {
   "cell_type": "markdown",
   "metadata": {
    "hidden": true
   },
   "source": [
    "Dissolve the merged buffers and clip with finish forest land to avoid buffers on aggricultural land."
   ]
  },
  {
   "cell_type": "code",
   "execution_count": 28,
   "metadata": {
    "hidden": true
   },
   "outputs": [
    {
     "data": {
      "text/html": [
       "<h2>Output</h2>Y:\\William\\RIP_NATURE_2\\Finland\\buffers_post_harvest.shp<h2>Messages</h2>Start Time: Wednesday, 27 October 2021 10:04:44<br/>Reading Features...<br/>Assembling Features...<br/>Succeeded at Wednesday, 27 October 2021 10:23:25 (Elapsed Time: 18 minutes 41 seconds)<br/><style>.rendered_html td, .rendered_html th {text-align: left;}.rendered_html tbody {border: 1px solid black;}</style>"
      ],
      "text/plain": [
       "<Result 'Y:\\\\William\\\\RIP_NATURE_2\\\\Finland\\\\buffers_post_harvest.shp'>"
      ]
     },
     "execution_count": 28,
     "metadata": {},
     "output_type": "execute_result"
    }
   ],
   "source": [
    "# Merged polygons\n",
    "merged_buffer_within_10m_of_CC = 'Y:/William/RIP_NATURE_2/Finland/merged_buffer_within_10m_of_CC.shp'\n",
    "# Dissolved polygons\n",
    "Dissolved_buffer_within_10m_of_CC = 'Y:/William/RIP_NATURE_2/Finland/merged_buffer_within_10m_of_CC_dissolved.shp'\n",
    "\n",
    "arcpy.Dissolve_management(merged_buffer_within_10m_of_CC, Dissolved_buffer_within_10m_of_CC,\"\", \"\", \"SINGLE_PART\", \"DISSOLVE_LINES\")\n",
    "\n",
    "\n",
    "finish_forest_land = 'Y:/William/RIP_NATURE_2/Finland/finish_forestry_mask_v2.gdb/finish_forestry_mask_v2'\n",
    "Post_harvest_buffer_zones = 'Y:/William/RIP_NATURE_2/Finland/buffers_post_harvest.shp'\n",
    "arcpy.Clip_analysis(Dissolved_buffer_within_10m_of_CC , finish_forest_land, Post_harvest_buffer_zones)"
   ]
  },
  {
   "cell_type": "markdown",
   "metadata": {
    "hidden": true
   },
   "source": [
    "Use a spatial join between buffer polygons and selected harvest sites to give buffer polygons years of harvest."
   ]
  },
  {
   "cell_type": "code",
   "execution_count": 9,
   "metadata": {
    "hidden": true
   },
   "outputs": [
    {
     "data": {
      "text/html": [
       "<h2>Output</h2>Y:\\William\\RIP_NATURE_2\\Finland\\buffers_post_harvest_year.shp<h2>Messages</h2>Start Time: Thursday, 3 February 2022 10:01:34<br/>Succeeded at Thursday, 3 February 2022 10:01:38 (Elapsed Time: 4,45 seconds)<br/><style>.rendered_html td, .rendered_html th {text-align: left;}.rendered_html tbody {border: 1px solid black;}</style>"
      ],
      "text/plain": [
       "<Result 'Y:\\\\William\\\\RIP_NATURE_2\\\\Finland\\\\buffers_post_harvest_year.shp'>"
      ]
     },
     "execution_count": 9,
     "metadata": {},
     "output_type": "execute_result"
    }
   ],
   "source": [
    "target_buffers = 'Y:/William/RIP_NATURE_2/Finland/buffers_post_harvest.shp'\n",
    "harvest_sites = 'Y:/William/RIP_NATURE_2/Finland/CCWithin5YearsBBefore_LiDAR_within30m_of_stream.shp'\n",
    "output_buffers_with_harvest_years = 'Y:/William/RIP_NATURE_2/Finland/buffers_post_harvest_year.shp'\n",
    "\n",
    "arcpy.SpatialJoin_analysis(target_buffers, harvest_sites, output_buffers_with_harvest_years, \"JOIN_ONE_TO_MANY\", \"KEEP_ALL\", \"#\",\"WITHIN_A_DISTANCE\",\"31\")"
   ]
  },
  {
   "cell_type": "markdown",
   "metadata": {
    "hidden": true
   },
   "source": [
    "Add Asta ID"
   ]
  },
  {
   "cell_type": "code",
   "execution_count": 11,
   "metadata": {
    "hidden": true
   },
   "outputs": [
    {
     "data": {
      "text/html": [
       "<h2>Output</h2>Y:/William/RIP_NATURE_2/Finland/buffers_post_harvest_year.shp<h2>Messages</h2>Start Time: Thursday, 3 February 2022 11:31:35<br/>Succeeded at Thursday, 3 February 2022 11:31:36 (Elapsed Time: 1,13 seconds)<br/><style>.rendered_html td, .rendered_html th {text-align: left;}.rendered_html tbody {border: 1px solid black;}</style>"
      ],
      "text/plain": [
       "<Result 'Y:/William/RIP_NATURE_2/Finland/buffers_post_harvest_year.shp'>"
      ]
     },
     "execution_count": 11,
     "metadata": {},
     "output_type": "execute_result"
    }
   ],
   "source": [
    "# Set local variables\n",
    "fieldName1 = \"ASTA_ID\"\n",
    "\n",
    "inFeatures = 'Y:/William/RIP_NATURE_2/Finland/buffers_post_harvest_year.shp'\n",
    "arcpy.AddField_management(inFeatures, fieldName1, \"DOUBLE\")\n",
    "\n",
    "# Asign ID for FME\n",
    "arcpy.CalculateField_management(inFeatures, fieldName1, \n",
    "                                \"!FID!\",\n",
    "                                \"PYTHON3\")"
   ]
  },
  {
   "cell_type": "markdown",
   "metadata": {
    "hidden": true
   },
   "source": [
    "## Pre Harvest"
   ]
  },
  {
   "cell_type": "markdown",
   "metadata": {
    "hidden": true
   },
   "source": [
    "Pre harvest means that these sites were harvested after being scanned with LiDAR. They were thus intact during the liDAR scan and will be used as reference. Further we are only interested in buffers that intersect harvest sites. Additionally the buffers should be from stream segments longer than 20 m."
   ]
  },
  {
   "cell_type": "code",
   "execution_count": 4,
   "metadata": {
    "hidden": true
   },
   "outputs": [
    {
     "data": {
      "text/html": [
       "<h2>Output</h2>Y:\\William\\RIP_NATURE_2\\Finland\\pre_harvest\\CC_after_lidar_2008.shp<h2>Messages</h2>Start Time: Monday, 25 October 2021 20:17:49<br/>Succeeded at Monday, 25 October 2021 20:18:07 (Elapsed Time: 18,16 seconds)<br/><style>.rendered_html td, .rendered_html th {text-align: left;}.rendered_html tbody {border: 1px solid black;}</style>"
      ],
      "text/plain": [
       "<Result 'Y:\\\\William\\\\RIP_NATURE_2\\\\Finland\\\\pre_harvest\\\\CC_after_lidar_2008.shp'>"
      ]
     },
     "execution_count": 4,
     "metadata": {},
     "output_type": "execute_result"
    }
   ],
   "source": [
    "arcpy.env.overwriteOutput = True\n",
    "finland_tiles_index = 'Y:/William/RIP_NATURE_2/Finland/LIDAR/LiDARScanYear.shp'\n",
    "finland_harvest_sites = 'Y:/William/RIP_NATURE_2/Finland/NewclearcutsFromAntti/CC_declaration25112020.gdb/CC_declaration25112020.gdb/MKI_CC'\n",
    "\n",
    "#### 2008 ####\n",
    "# CC 2008\n",
    "CC_after_2008 = arcpy.SelectLayerByAttribute_management(finland_harvest_sites, 'NEW_SELECTION', '\"year\" > 2008')\n",
    "arcpy.CopyFeatures_management(CC_after_2008, 'Y:/William/RIP_NATURE_2/finland/Post_harvest/CC_after_2008.shp')\n",
    "# LiDAR 20108\n",
    "finland_lidar_2008 = arcpy.SelectLayerByAttribute_management(finland_tiles_index, 'NEW_SELECTION', '\"final_year\" = 2008')\n",
    "arcpy.CopyFeatures_management(finland_lidar_2008, 'Y:/William/RIP_NATURE_2/finland/LiDAR_Years/finland_lidar_2008')\n",
    "\n",
    "CC_after_2008 = 'Y:/William/RIP_NATURE_2/finland/Post_harvest/CC_after_2008.shp'\n",
    "finland_lidar_2008 = 'Y:/William/RIP_NATURE_2/finland/LiDAR_Years/finland_lidar_2008.shp'\n",
    "\n",
    "CC_after_lidar_2008 = arcpy.SelectLayerByLocation_management(CC_after_2008, 'INTERSECT', finland_lidar_2008,'', 'NEW_SELECTION') \n",
    "arcpy.CopyFeatures_management(CC_after_lidar_2008, 'Y:/William/RIP_NATURE_2/finland/pre_harvest/CC_after_lidar_2008.shp')\n",
    "\n",
    "#### 2009 ####\n",
    "# CC 2009\n",
    "CC_after_2009 = arcpy.SelectLayerByAttribute_management(finland_harvest_sites, 'NEW_SELECTION', '\"year\" > 2009')\n",
    "arcpy.CopyFeatures_management(CC_after_2009, 'Y:/William/RIP_NATURE_2/finland/Post_harvest/CC_after_2009.shp')\n",
    "# LiDAR 2009\n",
    "finland_lidar_2009 = arcpy.SelectLayerByAttribute_management(finland_tiles_index, 'NEW_SELECTION', '\"final_year\" = 2009')\n",
    "arcpy.CopyFeatures_management(finland_lidar_2009, 'Y:/William/RIP_NATURE_2/finland/LiDAR_Years/finland_lidar_2009')\n",
    "\n",
    "CC_after_2009 = 'Y:/William/RIP_NATURE_2/finland/Post_harvest/CC_after_2009.shp'\n",
    "finland_lidar_2009 = 'Y:/William/RIP_NATURE_2/finland/LiDAR_Years/finland_lidar_2009.shp'\n",
    "\n",
    "CC_after_lidar_2009 = arcpy.SelectLayerByLocation_management(CC_after_2009, 'INTERSECT', finland_lidar_2009,'', 'NEW_SELECTION') \n",
    "arcpy.CopyFeatures_management(CC_after_lidar_2009, 'Y:/William/RIP_NATURE_2/finland/pre_harvest/CC_after_lidar_2009.shp')\n",
    "\n",
    "#### 2010 ####\n",
    "# CC 2010\n",
    "CC_after_2010 = arcpy.SelectLayerByAttribute_management(finland_harvest_sites, 'NEW_SELECTION', '\"year\" > 2010')\n",
    "arcpy.CopyFeatures_management(CC_after_2010, 'Y:/William/RIP_NATURE_2/finland/Post_harvest/CC_after_2010.shp')\n",
    "# LiDAR 2010\n",
    "finland_lidar_2010 = arcpy.SelectLayerByAttribute_management(finland_tiles_index, 'NEW_SELECTION', '\"final_year\" = 2010')\n",
    "arcpy.CopyFeatures_management(finland_lidar_2010, 'Y:/William/RIP_NATURE_2/finland/LiDAR_Years/finland_lidar_2010')\n",
    "\n",
    "CC_after_2010 = 'Y:/William/RIP_NATURE_2/finland/Post_harvest/CC_after_2010.shp'\n",
    "finland_lidar_2010 = 'Y:/William/RIP_NATURE_2/finland/LiDAR_Years/finland_lidar_2010.shp'\n",
    "\n",
    "CC_after_lidar_2010 = arcpy.SelectLayerByLocation_management(CC_after_2010, 'INTERSECT', finland_lidar_2010,'', 'NEW_SELECTION') \n",
    "arcpy.CopyFeatures_management(CC_after_lidar_2010, 'Y:/William/RIP_NATURE_2/finland/pre_harvest/CC_after_lidar_2010.shp')\n",
    "\n",
    "#### 2011 ####\n",
    "# CC 2011\n",
    "CC_after_2011 = arcpy.SelectLayerByAttribute_management(finland_harvest_sites, 'NEW_SELECTION', '\"year\" > 2011')\n",
    "arcpy.CopyFeatures_management(CC_after_2011, 'Y:/William/RIP_NATURE_2/finland/Post_harvest/CC_after_2011.shp')\n",
    "# LiDAR 2011\n",
    "finland_lidar_2011 = arcpy.SelectLayerByAttribute_management(finland_tiles_index, 'NEW_SELECTION', '\"final_year\" = 2011')\n",
    "arcpy.CopyFeatures_management(finland_lidar_2011, 'Y:/William/RIP_NATURE_2/finland/LiDAR_Years/finland_lidar_2011')\n",
    "\n",
    "CC_after_2011 = 'Y:/William/RIP_NATURE_2/finland/Post_harvest/CC_after_2011.shp'\n",
    "finland_lidar_2011 = 'Y:/William/RIP_NATURE_2/finland/LiDAR_Years/finland_lidar_2011.shp'\n",
    "\n",
    "CC_after_lidar_2011 = arcpy.SelectLayerByLocation_management(CC_after_2011, 'INTERSECT', finland_lidar_2011,'', 'NEW_SELECTION') \n",
    "arcpy.CopyFeatures_management(CC_after_lidar_2011, 'Y:/William/RIP_NATURE_2/finland/pre_harvest/CC_after_lidar_2011.shp')\n",
    "\n",
    "#### 2012 ####\n",
    "# CC 2012\n",
    "CC_after_2012 = arcpy.SelectLayerByAttribute_management(finland_harvest_sites, 'NEW_SELECTION', '\"year\" > 2012')\n",
    "arcpy.CopyFeatures_management(CC_after_2012, 'Y:/William/RIP_NATURE_2/finland/Post_harvest/CC_after_2012.shp')\n",
    "# LiDAR 2012\n",
    "finland_lidar_2012 = arcpy.SelectLayerByAttribute_management(finland_tiles_index, 'NEW_SELECTION', '\"final_year\" = 2012')\n",
    "arcpy.CopyFeatures_management(finland_lidar_2012, 'Y:/William/RIP_NATURE_2/finland/LiDAR_Years/finland_lidar_2012')\n",
    "\n",
    "CC_after_2012 = 'Y:/William/RIP_NATURE_2/finland/Post_harvest/CC_after_2012.shp'\n",
    "finland_lidar_2012 = 'Y:/William/RIP_NATURE_2/finland/LiDAR_Years/finland_lidar_2012.shp'\n",
    "\n",
    "CC_after_lidar_2012 = arcpy.SelectLayerByLocation_management(CC_after_2012, 'INTERSECT', finland_lidar_2012,'', 'NEW_SELECTION') \n",
    "arcpy.CopyFeatures_management(CC_after_lidar_2012, 'Y:/William/RIP_NATURE_2/finland/pre_harvest/CC_after_lidar_2012.shp')\n",
    "\n",
    "#### 2013 ####\n",
    "# CC 2013\n",
    "CC_after_2013 = arcpy.SelectLayerByAttribute_management(finland_harvest_sites, 'NEW_SELECTION', '\"year\" > 2013')\n",
    "arcpy.CopyFeatures_management(CC_after_2013, 'Y:/William/RIP_NATURE_2/finland/Post_harvest/CC_after_2013.shp')\n",
    "# LiDAR 2013\n",
    "finland_lidar_2013 = arcpy.SelectLayerByAttribute_management(finland_tiles_index, 'NEW_SELECTION', '\"final_year\" = 2013')\n",
    "arcpy.CopyFeatures_management(finland_lidar_2013, 'Y:/William/RIP_NATURE_2/finland/LiDAR_Years/finland_lidar_2013')\n",
    "\n",
    "CC_after_2013 = 'Y:/William/RIP_NATURE_2/finland/Post_harvest/CC_after_2013.shp'\n",
    "finland_lidar_2013 = 'Y:/William/RIP_NATURE_2/finland/LiDAR_Years/finland_lidar_2013.shp'\n",
    "\n",
    "CC_after_lidar_2013 = arcpy.SelectLayerByLocation_management(CC_after_2013, 'INTERSECT', finland_lidar_2013,'', 'NEW_SELECTION') \n",
    "arcpy.CopyFeatures_management(CC_after_lidar_2013, 'Y:/William/RIP_NATURE_2/finland/pre_harvest/CC_after_lidar_2013.shp')\n",
    "\n",
    "#### 2014 ####\n",
    "# CC 2014\n",
    "CC_after_2014 = arcpy.SelectLayerByAttribute_management(finland_harvest_sites, 'NEW_SELECTION', '\"year\" > 2014')\n",
    "arcpy.CopyFeatures_management(CC_after_2014, 'Y:/William/RIP_NATURE_2/finland/Post_harvest/CC_after_2014.shp')\n",
    "# LiDAR 2014\n",
    "finland_lidar_2014 = arcpy.SelectLayerByAttribute_management(finland_tiles_index, 'NEW_SELECTION', '\"final_year\" = 2014')\n",
    "arcpy.CopyFeatures_management(finland_lidar_2014, 'Y:/William/RIP_NATURE_2/finland/LiDAR_Years/finland_lidar_2014')\n",
    "\n",
    "CC_after_2014 = 'Y:/William/RIP_NATURE_2/finland/Post_harvest/CC_after_2014.shp'\n",
    "finland_lidar_2014 = 'Y:/William/RIP_NATURE_2/finland/LiDAR_Years/finland_lidar_2014.shp'\n",
    "\n",
    "CC_after_lidar_2014 = arcpy.SelectLayerByLocation_management(CC_after_2014, 'INTERSECT', finland_lidar_2014,'', 'NEW_SELECTION') \n",
    "arcpy.CopyFeatures_management(CC_after_lidar_2014, 'Y:/William/RIP_NATURE_2/finland/pre_harvest/CC_after_lidar_2014.shp')\n",
    "\n",
    "arcpy.env.overwriteOutput = True\n",
    "finland_tiles_index = 'Y:/William/RIP_NATURE_2/Finland/LIDAR/LiDARScanYear.shp'\n",
    "finland_harvest_sites = 'Y:/William/RIP_NATURE_2/Finland/NewclearcutsFromAntti/CC_declaration25112020.gdb/CC_declaration25112020.gdb/MKI_CC'\n",
    "\n",
    "\n",
    "#### 2015 ####\n",
    "# CC 2015\n",
    "CC_after_2015 = arcpy.SelectLayerByAttribute_management(finland_harvest_sites, 'NEW_SELECTION', '\"year\" > 2015')\n",
    "arcpy.CopyFeatures_management(CC_after_2015, 'Y:/William/RIP_NATURE_2/finland/Post_harvest/CC_after_2015.shp')\n",
    "# LiDAR 2015\n",
    "finland_lidar_2015 = arcpy.SelectLayerByAttribute_management(finland_tiles_index, 'NEW_SELECTION', '\"final_year\" = 2015')\n",
    "arcpy.CopyFeatures_management(finland_lidar_2015, 'Y:/William/RIP_NATURE_2/finland/LiDAR_Years/finland_lidar_2015')\n",
    "\n",
    "CC_after_2015 = 'Y:/William/RIP_NATURE_2/finland/Post_harvest/CC_after_2015.shp'\n",
    "finland_lidar_2015 = 'Y:/William/RIP_NATURE_2/finland/LiDAR_Years/finland_lidar_2015.shp'\n",
    "\n",
    "CC_after_lidar_2015 = arcpy.SelectLayerByLocation_management(CC_after_2015, 'INTERSECT', finland_lidar_2015,'', 'NEW_SELECTION') \n",
    "arcpy.CopyFeatures_management(CC_after_lidar_2015, 'Y:/William/RIP_NATURE_2/finland/pre_harvest/CC_after_lidar_2015.shp')\n",
    "\n",
    "\n",
    "#### 2016 ####\n",
    "# CC 2016\n",
    "CC_after_2016 = arcpy.SelectLayerByAttribute_management(finland_harvest_sites, 'NEW_SELECTION', '\"year\" > 2016')\n",
    "arcpy.CopyFeatures_management(CC_after_2016, 'Y:/William/RIP_NATURE_2/finland/Post_harvest/CC_after_2016.shp')\n",
    "# LiDAR 2016\n",
    "finland_lidar_2016 = arcpy.SelectLayerByAttribute_management(finland_tiles_index, 'NEW_SELECTION', '\"final_year\" = 2016')\n",
    "arcpy.CopyFeatures_management(finland_lidar_2016, 'Y:/William/RIP_NATURE_2/finland/LiDAR_Years/finland_lidar_2016')\n",
    "\n",
    "CC_after_2016 = 'Y:/William/RIP_NATURE_2/finland/Post_harvest/CC_after_2016.shp'\n",
    "finland_lidar_2016 = 'Y:/William/RIP_NATURE_2/finland/LiDAR_Years/finland_lidar_2016.shp'\n",
    "\n",
    "CC_after_lidar_2016 = arcpy.SelectLayerByLocation_management(CC_after_2016, 'INTERSECT', finland_lidar_2016,'', 'NEW_SELECTION') \n",
    "arcpy.CopyFeatures_management(CC_after_lidar_2016, 'Y:/William/RIP_NATURE_2/finland/pre_harvest/CC_after_lidar_2016.shp')\n",
    "\n",
    "\n",
    "#### 2017 ####\n",
    "# CC 2017\n",
    "CC_after_2017 = arcpy.SelectLayerByAttribute_management(finland_harvest_sites, 'NEW_SELECTION', '\"year\" > 2017')\n",
    "arcpy.CopyFeatures_management(CC_after_2017, 'Y:/William/RIP_NATURE_2/finland/Post_harvest/CC_after_2017.shp')\n",
    "# LiDAR 2017\n",
    "finland_lidar_2017 = arcpy.SelectLayerByAttribute_management(finland_tiles_index, 'NEW_SELECTION', '\"final_year\" = 2017')\n",
    "arcpy.CopyFeatures_management(finland_lidar_2017, 'Y:/William/RIP_NATURE_2/finland/LiDAR_Years/finland_lidar_2017')\n",
    "\n",
    "CC_after_2017 = 'Y:/William/RIP_NATURE_2/finland/Post_harvest/CC_after_2017.shp'\n",
    "finland_lidar_2017 = 'Y:/William/RIP_NATURE_2/finland/LiDAR_Years/finland_lidar_2017.shp'\n",
    "\n",
    "CC_after_lidar_2017 = arcpy.SelectLayerByLocation_management(CC_after_2017, 'INTERSECT', finland_lidar_2017,'', 'NEW_SELECTION') \n",
    "arcpy.CopyFeatures_management(CC_after_lidar_2017, 'Y:/William/RIP_NATURE_2/finland/pre_harvest/CC_after_lidar_2017.shp')\n",
    "\n",
    "\n",
    "\n",
    "#### 2018 ####\n",
    "# CC 2018\n",
    "CC_after_2018 = arcpy.SelectLayerByAttribute_management(finland_harvest_sites, 'NEW_SELECTION', '\"year\" > 2018')\n",
    "arcpy.CopyFeatures_management(CC_after_2018, 'Y:/William/RIP_NATURE_2/finland/Post_harvest/CC_after_2018.shp')\n",
    "# LiDAR 2018\n",
    "finland_lidar_2018 = arcpy.SelectLayerByAttribute_management(finland_tiles_index, 'NEW_SELECTION', '\"final_year\" = 2018')\n",
    "arcpy.CopyFeatures_management(finland_lidar_2018, 'Y:/William/RIP_NATURE_2/finland/LiDAR_Years/finland_lidar_2018')\n",
    "\n",
    "CC_after_2018 = 'Y:/William/RIP_NATURE_2/finland/Post_harvest/CC_after_2018.shp'\n",
    "finland_lidar_2018 = 'Y:/William/RIP_NATURE_2/finland/LiDAR_Years/finland_lidar_2018.shp'\n",
    "\n",
    "CC_after_lidar_2018 = arcpy.SelectLayerByLocation_management(CC_after_2018, 'INTERSECT', finland_lidar_2018,'', 'NEW_SELECTION') \n",
    "arcpy.CopyFeatures_management(CC_after_lidar_2018, 'Y:/William/RIP_NATURE_2/finland/pre_harvest/CC_after_lidar_2018.shp')\n",
    "\n"
   ]
  },
  {
   "cell_type": "code",
   "execution_count": 13,
   "metadata": {
    "hidden": true
   },
   "outputs": [
    {
     "data": {
      "text/html": [
       "<h2>Output</h2>Y:\\William\\RIP_NATURE_2\\Finland\\pre_harvest\\finland_harvest_after_LiDAR_merged.shp<h2>Messages</h2>Start Time: Tuesday, 26 October 2021 13:41:24<br/>Succeeded at Tuesday, 26 October 2021 13:43:42 (Elapsed Time: 2 minutes 17 seconds)<br/><style>.rendered_html td, .rendered_html th {text-align: left;}.rendered_html tbody {border: 1px solid black;}</style>"
      ],
      "text/plain": [
       "<Result 'Y:\\\\William\\\\RIP_NATURE_2\\\\Finland\\\\pre_harvest\\\\finland_harvest_after_LiDAR_merged.shp'>"
      ]
     },
     "execution_count": 13,
     "metadata": {},
     "output_type": "execute_result"
    }
   ],
   "source": [
    "\n",
    "CC_after_lidar_2008 = 'Y:/William/RIP_NATURE_2/finland/pre_harvest/CC_after_lidar_2008.shp'\n",
    "CC_after_lidar_2009 = 'Y:/William/RIP_NATURE_2/finland/pre_harvest/CC_after_lidar_2009.shp'\n",
    "CC_after_lidar_2010 = 'Y:/William/RIP_NATURE_2/finland/pre_harvest/CC_after_lidar_2010.shp'\n",
    "CC_after_lidar_2011 = 'Y:/William/RIP_NATURE_2/finland/pre_harvest/CC_after_lidar_2011.shp'\n",
    "CC_after_lidar_2012 = 'Y:/William/RIP_NATURE_2/finland/pre_harvest/CC_after_lidar_2012.shp'\n",
    "CC_after_lidar_2013 = 'Y:/William/RIP_NATURE_2/finland/pre_harvest/CC_after_lidar_2013.shp'\n",
    "CC_after_lidar_2014 = 'Y:/William/RIP_NATURE_2/finland/pre_harvest/CC_after_lidar_2014.shp'\n",
    "CC_after_lidar_2015 = 'Y:/William/RIP_NATURE_2/finland/pre_harvest/CC_after_lidar_2015.shp'\n",
    "CC_after_lidar_2016 = 'Y:/William/RIP_NATURE_2/finland/pre_harvest/CC_after_lidar_2016.shp'\n",
    "CC_after_lidar_2017 = 'Y:/William/RIP_NATURE_2/finland/pre_harvest/CC_after_lidar_2017.shp'\n",
    "CC_after_lidar_2018 = 'Y:/William/RIP_NATURE_2/finland/pre_harvest/CC_after_lidar_2018.shp'\n",
    "\n",
    "inputs = CC_after_lidar_2008,CC_after_lidar_2009,CC_after_lidar_2010,CC_after_lidar_2011, CC_after_lidar_2012, CC_after_lidar_2013,CC_after_lidar_2014, CC_after_lidar_2015, CC_after_lidar_2016, CC_after_lidar_2017, CC_after_lidar_2018\n",
    "output = 'Y:/William/RIP_NATURE_2/finland/pre_harvest/finland_harvest_after_LiDAR_merged.shp'\n",
    "arcpy.management.Merge(inputs, output)"
   ]
  },
  {
   "cell_type": "code",
   "execution_count": 16,
   "metadata": {
    "hidden": true,
    "scrolled": true
   },
   "outputs": [
    {
     "data": {
      "text/html": [
       "<h2>Output</h2>Y:\\William\\RIP_NATURE_2\\Finland\\Reference_sites\\Intersected_reference_streams_over_20m.shp<h2>Messages</h2>Start Time: Tuesday, 26 October 2021 14:07:05<br/>Succeeded at Tuesday, 26 October 2021 14:07:27 (Elapsed Time: 21,72 seconds)<br/><style>.rendered_html td, .rendered_html th {text-align: left;}.rendered_html tbody {border: 1px solid black;}</style>"
      ],
      "text/plain": [
       "<Result 'Y:\\\\William\\\\RIP_NATURE_2\\\\Finland\\\\Reference_sites\\\\Intersected_reference_streams_over_20m.shp'>"
      ]
     },
     "execution_count": 16,
     "metadata": {},
     "output_type": "execute_result"
    }
   ],
   "source": [
    "# inputs\n",
    "Pre_Harvest_Finland = 'Y:/William/RIP_NATURE_2/finland/pre_harvest/finland_harvest_after_LiDAR_merged.shp'\n",
    "selected_streams_Finland =  'Y:/William/RIP_NATURE_2/Finland/streams/Uoma1and2.shp'\n",
    "\n",
    "# output\n",
    "Intersected_reference_streams_Finland = 'Y:/William/RIP_NATURE_2/Finland/Reference_sites/Intersected_reference_streams.shp'\n",
    "\n",
    "# Intersect\n",
    "infeatures = (selected_streams_Finland , Pre_Harvest_Finland)\n",
    "arcpy.Intersect_analysis(infeatures, Intersected_reference_streams_Finland)\n",
    "\n",
    "# add geometry and select stream segments longer than 20 m.\n",
    "Intersected_reference_streams_Finland = 'Y:/William/RIP_NATURE_2/Finland/Reference_sites/Intersected_reference_streams.shp'\n",
    "Intersected_reference_streams_over_20m_Finland = 'Y:/William/RIP_NATURE_2/Finland/Reference_sites/Intersected_reference_streams_over_20m.shp'\n",
    "# Add lenght\n",
    "arcpy.AddGeometryAttributes_management(Intersected_reference_streams_Finland, 'LENGTH', 'METERS')\n",
    "\n",
    "# Select and copy segments over 20 m\n",
    "attribute_selected_ref = arcpy.SelectLayerByAttribute_management(Intersected_reference_streams_Finland, 'NEW_SELECTION', '\"LENGTH\" > 20')\n",
    "arcpy.CopyFeatures_management(attribute_selected_ref, Intersected_reference_streams_over_20m_Finland)"
   ]
  },
  {
   "cell_type": "markdown",
   "metadata": {
    "hidden": true
   },
   "source": [
    "The 20 m segments were buffered by 20 m and intersected with and dissolved by the unharvested sites."
   ]
  },
  {
   "cell_type": "code",
   "execution_count": 1,
   "metadata": {
    "hidden": true
   },
   "outputs": [
    {
     "data": {
      "text/html": [
       "<h2>Output</h2>Y:\\William\\RIP_NATURE_2\\Finland\\Reference_sites\\Buffered_reference_streams_intersect_CC_dissolve_by_CC.shp<h2>Messages</h2>Start Time: Tuesday, 25 January 2022 17:41:22<br/>Sorting Attributes...<br/>Dissolving...<br/>Succeeded at Tuesday, 25 January 2022 17:41:50 (Elapsed Time: 27,75 seconds)<br/><style>.rendered_html td, .rendered_html th {text-align: left;}.rendered_html tbody {border: 1px solid black;}</style>"
      ],
      "text/plain": [
       "<Result 'Y:\\\\William\\\\RIP_NATURE_2\\\\Finland\\\\Reference_sites\\\\Buffered_reference_streams_intersect_CC_dissolve_by_CC.shp'>"
      ]
     },
     "execution_count": 1,
     "metadata": {},
     "output_type": "execute_result"
    }
   ],
   "source": [
    "import arcpy\n",
    "arcpy.env.overwriteOutput = True\n",
    "arcpy.env.parallelProcessingFactor = \"100%\"\n",
    "\n",
    "\n",
    "Intersected_reference_streams_over_20m_Finland = 'Y:/William/RIP_NATURE_2/Finland/Reference_sites/Intersected_reference_streams_over_20m.shp'\n",
    "Intersected_reference_streams_over_20m_Finland_Buffered = 'Y:/William/RIP_NATURE_2/Finland/Reference_sites/Intersected_reference_streams_over_20m_buffered_by_20m.shp'\n",
    "\n",
    "\n",
    "# Buffer stream segments by 20 m\n",
    "arcpy.Buffer_analysis(Intersected_reference_streams_over_20m_Finland, Intersected_reference_streams_over_20m_Finland_Buffered, '20 Meters')\n",
    "\n",
    "Pre_Harvest_Finland = 'Y:/William/RIP_NATURE_2/Finland/CC_After_LiDAR/CCAfterLiDAR.shp'\n",
    "Intersect_buffered_stream_segments_with_unharvested_sites_Finland = 'Y:/William/RIP_NATURE_2/Finland/Reference_sites/Buffered_reference_streams_intersect_CC.shp'\n",
    "\n",
    "\n",
    "# Intersect Buffered stream segments with unharvest sites\n",
    "infeatures = (Intersected_reference_streams_over_20m_Finland_Buffered, Pre_Harvest_Finland)\n",
    "arcpy.Intersect_analysis(infeatures, Intersect_buffered_stream_segments_with_unharvested_sites_Finland)\n",
    "\n",
    "# DISSOLVE BY HARVEST ID\n",
    "Dissolve_reference_buffer_zones_Finland = 'Y:/William/RIP_NATURE_2/Finland/Reference_sites/Buffered_reference_streams_intersect_CC_dissolve_by_CC.shp'\n",
    "dissolveFields = [\"OBJECTID_1\"]\n",
    "arcpy.Dissolve_management(Intersect_buffered_stream_segments_with_unharvested_sites_Finland, Dissolve_reference_buffer_zones_Finland, dissolveFields, \"\", \"MULTI_PART\", \"DISSOLVE_LINES\")"
   ]
  },
  {
   "cell_type": "markdown",
   "metadata": {
    "hidden": true
   },
   "source": [
    "Extract harvest year to reference polygons by intersecting with harvest sites"
   ]
  },
  {
   "cell_type": "code",
   "execution_count": 29,
   "metadata": {
    "hidden": true
   },
   "outputs": [
    {
     "data": {
      "text/html": [
       "<h2>Output</h2>Y:\\William\\RIP_NATURE_2\\Finland\\buffers_pre_harvest_year.shp<h2>Messages</h2>Start Time: Thursday, 3 February 2022 12:34:51<br/>Succeeded at Thursday, 3 February 2022 12:34:53 (Elapsed Time: 2,08 seconds)<br/><style>.rendered_html td, .rendered_html th {text-align: left;}.rendered_html tbody {border: 1px solid black;}</style>"
      ],
      "text/plain": [
       "<Result 'Y:\\\\William\\\\RIP_NATURE_2\\\\Finland\\\\buffers_pre_harvest_year.shp'>"
      ]
     },
     "execution_count": 29,
     "metadata": {},
     "output_type": "execute_result"
    }
   ],
   "source": [
    "target_buffers = 'Y:/William/RIP_NATURE_2/Finland/Reference_sites/Buffered_reference_streams_intersect_CC_dissolve_by_CC.shp'\n",
    "harvest_sites = 'Y:/William/RIP_NATURE_2/Finland/CC_After_LiDAR/CCAfterLiDAR.shp'\n",
    "output_buffers_with_harvest_years = 'Y:/William/RIP_NATURE_2/Finland/buffers_pre_harvest_year.shp'\n",
    "\n",
    "arcpy.SpatialJoin_analysis(target_buffers, harvest_sites, output_buffers_with_harvest_years, \"JOIN_ONE_TO_MANY\", \"KEEP_ALL\", \"#\",\"INTERSECT\")"
   ]
  },
  {
   "cell_type": "markdown",
   "metadata": {
    "hidden": true
   },
   "source": [
    "Asign uniqe ID for FME"
   ]
  },
  {
   "cell_type": "code",
   "execution_count": 30,
   "metadata": {
    "hidden": true
   },
   "outputs": [
    {
     "data": {
      "text/html": [
       "<h2>Output</h2>Y:/William/RIP_NATURE_2/Finland/buffers_pre_harvest_year.shp<h2>Messages</h2>Start Time: Thursday, 3 February 2022 12:35:01<br/>Succeeded at Thursday, 3 February 2022 12:35:01 (Elapsed Time: 0,69 seconds)<br/><style>.rendered_html td, .rendered_html th {text-align: left;}.rendered_html tbody {border: 1px solid black;}</style>"
      ],
      "text/plain": [
       "<Result 'Y:/William/RIP_NATURE_2/Finland/buffers_pre_harvest_year.shp'>"
      ]
     },
     "execution_count": 30,
     "metadata": {},
     "output_type": "execute_result"
    }
   ],
   "source": [
    "# Set local variables\n",
    "fieldName1 = \"ASTA_ID\"\n",
    "\n",
    "inFeatures = 'Y:/William/RIP_NATURE_2/Finland/buffers_pre_harvest_year.shp'\n",
    "arcpy.AddField_management(inFeatures, fieldName1, \"DOUBLE\")\n",
    "\n",
    "# Asign ID for FME\n",
    "arcpy.CalculateField_management(inFeatures, fieldName1, \n",
    "                                \"!FID!\",\n",
    "                                \"PYTHON3\")"
   ]
  },
  {
   "cell_type": "code",
   "execution_count": 31,
   "metadata": {
    "hidden": true
   },
   "outputs": [
    {
     "name": "stdout",
     "output_type": "stream",
     "text": [
      "7814 Harvested buffers\n",
      "3070 Reference unharvested buffers\n"
     ]
    }
   ],
   "source": [
    "# Harvestes sites \n",
    "Harvested_finland = 'Y:/William/RIP_NATURE_2/Finland/buffers_post_harvest_year.shp'\n",
    "print(arcpy.GetCount_management(Harvested_finland),'Harvested buffers')\n",
    "\n",
    "\n",
    "# Reference sites\n",
    "Reference_finland = 'Y:/William/RIP_NATURE_2/Finland/buffers_pre_harvest_year.shp'\n",
    "print(arcpy.GetCount_management(Reference_finland),'Reference unharvested buffers')\n",
    "\n"
   ]
  },
  {
   "cell_type": "markdown",
   "metadata": {
    "hidden": true
   },
   "source": [
    "Copy finish canopy files to single folder"
   ]
  },
  {
   "cell_type": "code",
   "execution_count": null,
   "metadata": {
    "hidden": true
   },
   "outputs": [
    {
     "name": "stdout",
     "output_type": "stream",
     "text": [
      "27567\n"
     ]
    }
   ],
   "source": [
    "import arcpy\n",
    "import os\n",
    "import glob\n",
    "single_folder = 'Y:/NewCanopyFromFinland/Finland/CHM_single_folder/'\n",
    "finish_canopy = glob.glob('Y:/NewCanopyFromFinland/Finland/CHM/**/*.tif', recursive = True)\n",
    "print(len(finish_canopy))\n",
    "for file in finish_canopy:\n",
    "    head, tail = os.path.split(file)\n",
    "    output = single_folder + tail\n",
    "    arcpy.CopyRaster_management(file, output)\n"
   ]
  },
  {
   "cell_type": "markdown",
   "metadata": {},
   "source": [
    "# Canada"
   ]
  },
  {
   "cell_type": "markdown",
   "metadata": {},
   "source": [
    "## Post Harvest"
   ]
  },
  {
   "cell_type": "code",
   "execution_count": 1,
   "metadata": {},
   "outputs": [
    {
     "name": "stdout",
     "output_type": "stream",
     "text": [
      "Number of harvests in NB between 2012 and 2018: 20271\n"
     ]
    }
   ],
   "source": [
    "# number of reference harvest sites\n",
    "nr_sites_post_harvest = arcpy.GetCount_management('Y:/William/RIP_NATURE_2/Canada/Harvestfrom2012.shp')\n",
    "print('Number of harvests in NB between 2012 and 2018:',nr_sites_post_harvest)"
   ]
  },
  {
   "cell_type": "markdown",
   "metadata": {},
   "source": [
    "Select sites that were harvested within 5 years before being scanned with LiDAR.\n",
    "A shapeile with the lidar tiles was downloaded from http://www.snb.ca/geonb1/e/dc/catalogue-E.asp and is stored at: \"Y:\\William\\RIP_NATURE_2\\Canada\\LiDAR_Years\\geonb_li-idl_shp\\geonb_li_idl_cgvd2013.shp\". note that some areas where scanned both in 2017 and 2018. 2018 were used as final year and compared to harvests 2019 and onwards. For the reference sites 2016 and older were used. In the yeanr field they are set to 2018."
   ]
  },
  {
   "cell_type": "code",
   "execution_count": 2,
   "metadata": {},
   "outputs": [
    {
     "name": "stdout",
     "output_type": "stream",
     "text": [
      "Number of clear cuts in NB that were scanned after harvesting: 15386\n"
     ]
    }
   ],
   "source": [
    "nb_tiles_index = 'Y:/William/RIP_NATURE_2/Canada/LiDAR_Years/geonb_li-idl_shp/geonb_li_idl_cgvd2013.shp'\n",
    "nb_harvest_sites = 'Y:/William/RIP_NATURE_2/Canada/Harvestfrom2012.shp'\n",
    "\n",
    "# CC = clear cut\n",
    "# 2015\n",
    "# Select clear cuts that were harvested between 2010 and 2015.\n",
    "CC_5_years_before_2015 = arcpy.SelectLayerByAttribute_management(nb_harvest_sites, 'NEW_SELECTION', '\"HARVYR\" > 2010 and \"HARVYR\" < 2015')\n",
    "arcpy.CopyFeatures_management(CC_5_years_before_2015, 'Y:/William/RIP_NATURE_2/Canada/Post_harvest/CC_2010_2015.shp')\n",
    "\n",
    "# select areas that were scanned with LiDAR 2015. Nex time just split the shapefile based on year.\n",
    "nb_lidar_2015 = arcpy.SelectLayerByAttribute_management(nb_tiles_index, 'NEW_SELECTION', '\"Yearnr\" = 2015')\n",
    "arcpy.CopyFeatures_management(nb_lidar_2015, 'Y:/William/RIP_NATURE_2/Canada/LiDAR_Years/nb_lidar_2015')\n",
    "\n",
    "# Select and copy clear cuts that were harvested between 2010 and 2015 and scanned with LiDAR 2015. \n",
    "CC_2010_2015 = 'Y:/William/RIP_NATURE_2/Canada/Post_harvest/CC_2010_2015.shp'\n",
    "lidar_2015 = 'Y:/William/RIP_NATURE_2/Canada/LiDAR_Years/nb_lidar_2015.shp'\n",
    "harvested_5_years_before_lidar_2015 = arcpy.SelectLayerByLocation_management(CC_2010_2015, 'INTERSECT', lidar_2015,'', 'NEW_SELECTION') \n",
    "arcpy.CopyFeatures_management(harvested_5_years_before_lidar_2015, 'Y:/William/RIP_NATURE_2/Canada/CC_Year/CC_2010_to_2015_lidar_2015.shp')\n",
    "\n",
    "# 2016\n",
    "CC_5_years_before_2016 = arcpy.SelectLayerByAttribute_management(nb_harvest_sites, 'NEW_SELECTION', '\"HARVYR\" > 2011 and \"HARVYR\" < 2016')\n",
    "arcpy.CopyFeatures_management(CC_5_years_before_2016, 'Y:/William/RIP_NATURE_2/Canada/Post_harvest/CC_2011_2016.shp')\n",
    "\n",
    "nb_lidar_2016 = arcpy.SelectLayerByAttribute_management(nb_tiles_index, 'NEW_SELECTION', '\"Yearnr\" = 2016')\n",
    "arcpy.CopyFeatures_management(nb_lidar_2016, 'Y:/William/RIP_NATURE_2/Canada/LiDAR_Years/nb_lidar_2016')\n",
    "\n",
    "CC_2011_2016 = 'Y:/William/RIP_NATURE_2/Canada/Post_harvest/CC_2011_2016.shp'\n",
    "lidar_2016 = 'Y:/William/RIP_NATURE_2/Canada/LiDAR_Years/nb_lidar_2016.shp'\n",
    "\n",
    "harvested_5_years_before_lidar_2016 = arcpy.SelectLayerByLocation_management(CC_2011_2016, 'INTERSECT', lidar_2016,'', 'NEW_SELECTION') \n",
    "arcpy.CopyFeatures_management(harvested_5_years_before_lidar_2016, 'Y:/William/RIP_NATURE_2/Canada/CC_Year/CC_2011_to_2016_lidar_2016.shp')\n",
    "\n",
    "# 2017\n",
    "CC_5_years_before_2017 = arcpy.SelectLayerByAttribute_management(nb_harvest_sites, 'NEW_SELECTION', '\"HARVYR\" > 2012 and \"HARVYR\" < 2017')\n",
    "arcpy.CopyFeatures_management(CC_5_years_before_2017, 'Y:/William/RIP_NATURE_2/Canada/Post_harvest/CC_2012_2017.shp')\n",
    "\n",
    "nb_lidar_2017 = arcpy.SelectLayerByAttribute_management(nb_tiles_index, 'NEW_SELECTION', '\"Yearnr\" = 2017')\n",
    "arcpy.CopyFeatures_management(nb_lidar_2017, 'Y:/William/RIP_NATURE_2/Canada/LiDAR_Years/nb_lidar_2017')\n",
    "\n",
    "CC_2012_2017 = 'Y:/William/RIP_NATURE_2/Canada/Post_harvest/CC_2012_2017.shp'\n",
    "lidar_2017 = 'Y:/William/RIP_NATURE_2/Canada/LiDAR_Years/nb_lidar_2017.shp'\n",
    "\n",
    "harvested_5_years_before_lidar_2017 = arcpy.SelectLayerByLocation_management(CC_2012_2017, 'INTERSECT', lidar_2017,'', 'NEW_SELECTION') \n",
    "arcpy.CopyFeatures_management(harvested_5_years_before_lidar_2017, 'Y:/William/RIP_NATURE_2/Canada/CC_Year/CC_2012_to_2017_lidar_2017.shp')\n",
    "\n",
    "# 2018\n",
    "CC_5_years_before_2018 = arcpy.SelectLayerByAttribute_management(nb_harvest_sites, 'NEW_SELECTION', '\"HARVYR\" > 2012 and \"HARVYR\" < 2018')\n",
    "arcpy.CopyFeatures_management(CC_5_years_before_2018, 'Y:/William/RIP_NATURE_2/Canada/Post_harvest/CC_2012_2018.shp')\n",
    "\n",
    "nb_lidar_2018 = arcpy.SelectLayerByAttribute_management(nb_tiles_index, 'NEW_SELECTION', '\"Yearnr\" = 2018')\n",
    "arcpy.CopyFeatures_management(nb_lidar_2018, 'Y:/William/RIP_NATURE_2/Canada/LiDAR_Years/nb_lidar_2018')\n",
    "\n",
    "CC_2012_2018 = 'Y:/William/RIP_NATURE_2/Canada/Post_harvest/CC_2012_2018.shp'\n",
    "lidar_2018 = 'Y:/William/RIP_NATURE_2/Canada/LiDAR_Years/nb_lidar_2018.shp'\n",
    "\n",
    "harvested_5_years_before_lidar_2018 = arcpy.SelectLayerByLocation_management(CC_2012_2018, 'INTERSECT', lidar_2018,'', 'NEW_SELECTION') \n",
    "arcpy.CopyFeatures_management(harvested_5_years_before_lidar_2018, 'Y:/William/RIP_NATURE_2/Canada/CC_Year/CC_2012_to_2018_lidar_2018.shp')\n",
    "\n",
    "# Merge\n",
    "inputs = 'Y:/William/RIP_NATURE_2/Canada/CC_Year/CC_2010_to_2015_lidar_2015.shp', 'Y:/William/RIP_NATURE_2/Canada/CC_Year/CC_2011_to_2016_lidar_2016.shp', 'Y:/William/RIP_NATURE_2/Canada/CC_Year/CC_2012_to_2017_lidar_2017.shp', 'Y:/William/RIP_NATURE_2/Canada/CC_Year/CC_2012_to_2018_lidar_2018.shp'\n",
    "output = 'Y:/William/RIP_NATURE_2/Canada/NB_harvest_before_LiDAR_merged.shp'\n",
    "arcpy.management.Merge(inputs, output)\n",
    "\n",
    "# number of reference harvest sites\n",
    "nr_sites_post_harvest_nb = arcpy.GetCount_management('Y:/William/RIP_NATURE_2/Canada/NB_harvest_before_LiDAR_merged.shp')\n",
    "print('Number of clear cuts in NB that were scanned after harvesting:',nr_sites_post_harvest_nb)"
   ]
  },
  {
   "cell_type": "markdown",
   "metadata": {},
   "source": [
    "Select harvest sites within 30 m of a stream and buffer them with 30 m"
   ]
  },
  {
   "cell_type": "code",
   "execution_count": 1,
   "metadata": {},
   "outputs": [
    {
     "name": "stdout",
     "output_type": "stream",
     "text": [
      "Number of harvests in NB between that were scanned with LiDAR after harvest and located within 30m of a stream: 4044\n"
     ]
    }
   ],
   "source": [
    "sites_scanned_after_harvest = 'Y:/William/RIP_NATURE_2/Canada/NB_harvest_before_LiDAR_merged.shp'\n",
    "streams = 'Y:/William/RIP_NATURE_2/Canada/streams/PropertyStreams.shp'\n",
    "\n",
    "sites_near_streams = arcpy.SelectLayerByLocation_management(sites_scanned_after_harvest, 'WITHIN_A_DISTANCE', streams,'30 Meter', ) \n",
    "arcpy.CopyFeatures_management(sites_near_streams, 'Y:/William/RIP_NATURE_2/Canada/CC_Year/CC_merge_within_30m_of_stream.shp')\n",
    "\n",
    "# Buffer harvest sites within 30 m of streams by 30 m\n",
    "nb_cc_before_lidar_within_30m_of_stream = 'Y:/William/RIP_NATURE_2/Canada/CC_Year/CC_merge_within_30m_of_stream.shp'\n",
    "nb_buffered_CC_before_LiDAR_wthin_30m_of_Stream = 'Y:/William/RIP_NATURE_2/Canada/buffered_cc_within_5_years_before_LiDAR_within_30m_of_stream.shp'\n",
    "\n",
    "arcpy.Buffer_analysis(nb_cc_before_lidar_within_30m_of_stream, nb_buffered_CC_before_LiDAR_wthin_30m_of_Stream, '30 Meters')\n",
    "\n",
    "# number of reference harvest sites\n",
    "nr_sites_lidar_post_harvest_near_stream = arcpy.GetCount_management(nb_buffered_CC_before_LiDAR_wthin_30m_of_Stream)\n",
    "print('Number of harvests in NB between that were scanned with LiDAR after harvest and located within 30m of a stream:', nr_sites_lidar_post_harvest_near_stream)\n",
    "\n"
   ]
  },
  {
   "cell_type": "markdown",
   "metadata": {},
   "source": [
    "Stream segments intersected with buffered harvest sites that were longer than 20 m were selected for further processing. \n",
    "* First intersect streams with the buffered clear cuts.\n",
    "* then select stream segments that are longer than 20 m."
   ]
  },
  {
   "cell_type": "code",
   "execution_count": 2,
   "metadata": {},
   "outputs": [
    {
     "data": {
      "text/html": [
       "<div class='gpresult'><h2>Messages</h2><div id='messages' data-messages='[\"Start Time: Tuesday, 6 December 2022 08:55:22\",\"Succeeded at Tuesday, 6 December 2022 08:55:25 (Elapsed Time: 2,39 seconds)\"]' data-show='true'><div id = 'default' /></div></div>"
      ],
      "text/plain": [
       "<Result 'Y:\\\\William\\\\RIP_NATURE_2\\\\Canada\\\\Intersected_Streams_longer_than_20m.shp'>"
      ]
     },
     "execution_count": 2,
     "metadata": {},
     "output_type": "execute_result"
    }
   ],
   "source": [
    "# Inputs for intersect\n",
    "streams = 'Y:/William/RIP_NATURE_2/Canada/streams/PropertyStreams.shp'\n",
    "nb_buffered_CC_before_LiDAR_wthin_30m_of_Stream = 'Y:/William/RIP_NATURE_2/Canada/buffered_cc_within_5_years_before_LiDAR_within_30m_of_stream.shp'\n",
    "# Output from intersect\n",
    "nb_intersected_streams = 'Y:/William/RIP_NATURE_2/Canada/Intersected_Streams.shp'\n",
    "\n",
    "infeatures = (streams, nb_buffered_CC_before_LiDAR_wthin_30m_of_Stream)\n",
    "arcpy.Intersect_analysis(infeatures, nb_intersected_streams)\n",
    "\n",
    "# Add lenght to the stream segments\n",
    "arcpy.AddGeometryAttributes_management(nb_intersected_streams, 'LENGTH', 'METERS')\n",
    "\n",
    "# Select segments longer than 20 m\n",
    "attribute_selected = arcpy.SelectLayerByAttribute_management(nb_intersected_streams, 'NEW_SELECTION', \n",
    "                                        '\"LENGTH\" > 20')\n",
    "stream_segments_over_20m = 'Y:/William/RIP_NATURE_2/Canada/Intersected_Streams_longer_than_20m.shp'\n",
    "arcpy.CopyFeatures_management(attribute_selected, stream_segments_over_20m)"
   ]
  },
  {
   "cell_type": "markdown",
   "metadata": {},
   "source": [
    "The stream segments were buffered and dissolved seperetly on both sides"
   ]
  },
  {
   "cell_type": "code",
   "execution_count": 3,
   "metadata": {},
   "outputs": [
    {
     "data": {
      "text/html": [
       "<div class='gpresult'><h2>Messages</h2><div id='messages' data-messages='[\"Start Time: Tuesday, 6 December 2022 08:57:51\",\"Dissolving...\",\"Succeeded at Tuesday, 6 December 2022 08:57:53 (Elapsed Time: 1,57 seconds)\"]' data-show='true'><div id = 'default' /></div></div>"
      ],
      "text/plain": [
       "<Result 'Y:\\\\William\\\\RIP_NATURE_2\\\\Canada\\\\dissolve\\\\dissolve_right.shp'>"
      ]
     },
     "execution_count": 3,
     "metadata": {},
     "output_type": "execute_result"
    }
   ],
   "source": [
    "# Streams\n",
    "stream_segments_over_20m = 'Y:/William/RIP_NATURE_2/Canada/Intersected_Streams_longer_than_20m.shp'\n",
    "\n",
    "\n",
    "# buffer outputs\n",
    "buffer_left_side = 'Y:/William/RIP_NATURE_2/Canada/Buffer_CC_after_LiDAR/Buffer_left_harvested_sites.shp'\n",
    "buffer_right_side = 'Y:/William/RIP_NATURE_2/Canada/Buffer_CC_after_LiDAR/Buffer_right_harvested_sites.shp'\n",
    "\n",
    "buffer_distance = '20 Meters'\n",
    "sideType_left = 'LEFT'\n",
    "sideType_right = 'RIGHT'\n",
    "endType = 'FLAT'\n",
    "dissolveType = 'NONE'\n",
    "dissolveField = 'NONE'\n",
    "\n",
    "\n",
    "# Buffer Left\n",
    "arcpy.Buffer_analysis(stream_segments_over_20m, buffer_left_side, buffer_distance, sideType_left, endType, \n",
    "                      dissolveType)\n",
    "\n",
    "# Buffer Right\n",
    "arcpy.Buffer_analysis(stream_segments_over_20m, buffer_right_side, buffer_distance, sideType_right, endType, \n",
    "                      dissolveType)\n",
    "\n",
    "# DISOLVE\n",
    "dissolve_left = 'Y:/William/RIP_NATURE_2/Canada/dissolve/dissolve_left.shp'\n",
    "dissolve_right = 'Y:/William/RIP_NATURE_2/Canada/dissolve/dissolve_right.shp'\n",
    "\n",
    "# Dissolve left buffers\n",
    "arcpy.Dissolve_management(buffer_left_side, dissolve_left,\"\", \"\", \"SINGLE_PART\", \"UNSPLIT_LINES\")\n",
    "\n",
    "# Dissolve right buffers\n",
    "arcpy.Dissolve_management(buffer_right_side, dissolve_right,\"\", \"\", \"SINGLE_PART\", \"UNSPLIT_LINES\")"
   ]
  },
  {
   "cell_type": "markdown",
   "metadata": {},
   "source": [
    "Select the buffered stream segments within 10 m of harvest sites and merge them\n",
    "* Select buffer polygons that are within 10 m of a harvest site.\n",
    "* Copy the selected buffer polygons to a new shapefile.\n",
    "* Merge the selected buffer polygons from both sides"
   ]
  },
  {
   "cell_type": "code",
   "execution_count": 4,
   "metadata": {},
   "outputs": [
    {
     "name": "stdout",
     "output_type": "stream",
     "text": [
      "Number of harvests in NB between that were scanned with LiDAR after harvest and located within 30m of a stream: 4044\n",
      "Number of buffer polygons within 10 m from harvest sites that were harvested after being scanned with LiDAR: 8144\n"
     ]
    }
   ],
   "source": [
    "dissolve_left = 'Y:/William/RIP_NATURE_2/canada/dissolve/dissolve_left.shp'\n",
    "dissolve_right = 'Y:/William/RIP_NATURE_2/canada/dissolve/dissolve_right.shp'\n",
    "\n",
    "# These are the clear cut sites that were selected based on harvesting year and lidar scaning year\n",
    "Post_Harvest_canada = 'Y:/William/RIP_NATURE_2/Canada/NB_harvest_before_LiDAR_merged.shp'\n",
    "\n",
    "# select \n",
    "copy_left = 'Y:/William/RIP_NATURE_2/Canada/Dissolve/within_10m_of_CC_left_buffer.shp'\n",
    "copy_right = 'Y:/William/RIP_NATURE_2/Canada/Dissolve/within_10m_of_CC_right_buffer.shp'\n",
    "\n",
    "selection_type = 'NEW_SELECTION'\n",
    "\n",
    "# Left\n",
    "select_Left = arcpy.SelectLayerByLocation_management(dissolve_left, 'WITHIN_A_DISTANCE', Post_Harvest_canada, '10 Meters', selection_type)\n",
    "arcpy.CopyFeatures_management(select_Left, copy_left)\n",
    "# Right\n",
    "select_Right = arcpy.SelectLayerByLocation_management(dissolve_right, 'WITHIN_A_DISTANCE', Post_Harvest_canada, '10 Meters', selection_type)\n",
    "arcpy.CopyFeatures_management(select_Right, copy_right)\n",
    "\n",
    "\n",
    "# Merged buffers\n",
    "merged_buffer_within_10m_of_CC = 'Y:/William/RIP_NATURE_2/Canada/dissolve/merged_buffer_within_10m_of_CC.shp'\n",
    "arcpy.Merge_management([copy_left, copy_right], merged_buffer_within_10m_of_CC)\n",
    "\n",
    "\n",
    "# number of reference harvest sites\n",
    "nr_sites_lidar_post_harvest_near_stream = arcpy.GetCount_management(nb_buffered_CC_before_LiDAR_wthin_30m_of_Stream)\n",
    "print('Number of harvests in NB between that were scanned with LiDAR after harvest and located within 30m of a stream:', nr_sites_lidar_post_harvest_near_stream)\n",
    "# number of polygons\n",
    "nr_polygon_near_stream_post_harvest = arcpy.GetCount_management(merged_buffer_within_10m_of_CC)\n",
    "print('Number of buffer polygons within 10 m from harvest sites that were harvested after being scanned with LiDAR:', nr_polygon_near_stream_post_harvest)"
   ]
  },
  {
   "cell_type": "markdown",
   "metadata": {},
   "source": [
    "To avoid having parts of buffer polygons that overlap non-forest land the dissolved and merged buffers were clip with harvest land."
   ]
  },
  {
   "cell_type": "code",
   "execution_count": 6,
   "metadata": {},
   "outputs": [
    {
     "name": "stdout",
     "output_type": "stream",
     "text": [
      "Number of harvested polygons that will be analyzed: 5642\n"
     ]
    }
   ],
   "source": [
    "# Merged polygons\n",
    "merged_buffer_within_10m_of_CC = 'Y:/William/RIP_NATURE_2/Canada/dissolve/merged_buffer_within_10m_of_CC.shp'\n",
    "\n",
    "# Dissolved polygons\n",
    "Dissolved_buffer_within_10m_of_CC = 'Y:/William/RIP_NATURE_2/Canada/dissolve/merged_buffer_within_10m_of_CC_dissolved.shp'\n",
    "arcpy.Dissolve_management(merged_buffer_within_10m_of_CC, Dissolved_buffer_within_10m_of_CC,\"\", \"\", \"SINGLE_PART\", \"DISSOLVE_LINES\")\n",
    "\n",
    "nb_forest_land = 'Y:/William/RIP_NATURE_2/Canada/geonb_forest-foret_shp/geonb_forest-foret.shp'\n",
    "\n",
    "# The clipped polygons is the final polygons that will be used for zonal staitstics. \n",
    "Lidar_Post_harvest_buffer_zones = 'Y:/William/RIP_NATURE_2/canada/nb_buffers_lidar_post_harvest.shp'\n",
    "arcpy.Clip_analysis(Dissolved_buffer_within_10m_of_CC , nb_forest_land, Lidar_Post_harvest_buffer_zones)\n",
    "\n",
    "# number of polygons that will be analyzed\n",
    "clipped_buffer_polygons = arcpy.GetCount_management(Lidar_Post_harvest_buffer_zones)\n",
    "print('Number of harvested polygons that will be analyzed:', clipped_buffer_polygons)"
   ]
  },
  {
   "cell_type": "markdown",
   "metadata": {},
   "source": [
    "## Pre Harvest"
   ]
  },
  {
   "cell_type": "markdown",
   "metadata": {},
   "source": [
    "To evaluate canopy density before harvesting we need a estimate of unharvested canopy densities. To make the comparison as fair as possible we seleted sites that were harvested after being scanned with LiDAR. This means that the sites are used for active forestry but were in unharvested conditions at the time of the LiDAR scans.\n",
    "\n",
    "Example: A site that was scanned with LiDAR 2016 and harvested 2017 would be intact in the LiDAR data. \n",
    "\n",
    "\n",
    "A shapeile with the LiDAR tiles was downloaded from http://www.snb.ca/geonb1/e/dc/catalogue-E.asp and is stored at: \"Y:\\William\\RIP_NATURE_2\\Canada\\LiDAR_Years\\geonb_li-idl_shp\\geonb_li_idl_cgvd2013.shp\". note that some areas\n",
    "\n",
    "* Select harvest sites that were scanned with LiDAR before harvesting\n",
    "* Copy selected sites\n",
    "* Merge selected unharvested sites"
   ]
  },
  {
   "cell_type": "code",
   "execution_count": 7,
   "metadata": {},
   "outputs": [
    {
     "name": "stdout",
     "output_type": "stream",
     "text": [
      "Number of harvested polygons that were scanned before being harvested: 1705\n"
     ]
    }
   ],
   "source": [
    "nb_harvest_sites = 'Y:/William/RIP_NATURE_2/Canada/Harvestfrom2012.shp'\n",
    "nb_tiles_index = 'Y:/William/RIP_NATURE_2/Canada/LiDAR_Years/geonb_li-idl_shp/geonb_li_idl_cgvd2013.shp'\n",
    "\n",
    "#### Harvest after LidAR scan ####\n",
    "# CC after 2015\n",
    "CC_after_2015 = arcpy.SelectLayerByAttribute_management(nb_harvest_sites, 'NEW_SELECTION', '\"HARVYR\" > 2015')\n",
    "output_CC_after_2015 = 'Y:/William/RIP_NATURE_2/Canada/Pre_harvest/CC_after_2015.shp'\n",
    "arcpy.CopyFeatures_management(CC_after_2015, output_CC_after_2015)\n",
    "# LiDAR 2015\n",
    "nb_lidar_2015 = arcpy.SelectLayerByAttribute_management(nb_tiles_index, 'NEW_SELECTION', '\"Yearnr\" = 2015') #split polygon based on year nex time\n",
    "nb_lidar_2015_copy = 'Y:/William/RIP_NATURE_2/Canada/LiDAR_Years/nb_lidar_2015.shp'\n",
    "arcpy.CopyFeatures_management(nb_lidar_2015, nb_lidar_2015_copy ) \n",
    "# Harvest after LiDAR\n",
    "CC_after_lidar_2015 = arcpy.SelectLayerByLocation_management(output_CC_after_2015, 'INTERSECT', nb_lidar_2015_copy,'', 'NEW_SELECTION') \n",
    "CC_after_lidar_2015_copy = 'Y:/William/RIP_NATURE_2/Canada/Pre_harvest/CC_after_lidar_2015.shp'\n",
    "arcpy.CopyFeatures_management(CC_after_lidar_2015, CC_after_lidar_2015_copy)\n",
    "\n",
    "# CC after 2016\n",
    "CC_after_2016 = arcpy.SelectLayerByAttribute_management(nb_harvest_sites, 'NEW_SELECTION', '\"HARVYR\" > 2016')\n",
    "output_CC_after_2016 = 'Y:/William/RIP_NATURE_2/Canada/Pre_harvest/CC_after_2016.shp'\n",
    "arcpy.CopyFeatures_management(CC_after_2016, output_CC_after_2016)\n",
    "# LiDAR 2016\n",
    "nb_lidar_2016 = arcpy.SelectLayerByAttribute_management(nb_tiles_index, 'NEW_SELECTION', '\"Yearnr\" = 2016') #split polygon based on year nex time\n",
    "nb_lidar_2016_copy = 'Y:/William/RIP_NATURE_2/Canada/LiDAR_Years/nb_lidar_2016.shp'\n",
    "arcpy.CopyFeatures_management(nb_lidar_2016, nb_lidar_2016_copy ) \n",
    "# Harvest after LiDAR\n",
    "CC_after_lidar_2016 = arcpy.SelectLayerByLocation_management(output_CC_after_2016, 'INTERSECT', nb_lidar_2016_copy,'', 'NEW_SELECTION') \n",
    "CC_after_lidar_2016_copy = 'Y:/William/RIP_NATURE_2/Canada/Pre_harvest/CC_after_lidar_2016.shp'\n",
    "arcpy.CopyFeatures_management(CC_after_lidar_2016, CC_after_lidar_2016_copy)\n",
    "\n",
    "# CC after 2017\n",
    "CC_after_2017 = arcpy.SelectLayerByAttribute_management(nb_harvest_sites, 'NEW_SELECTION', '\"HARVYR\" > 2017')\n",
    "output_CC_after_2017 = 'Y:/William/RIP_NATURE_2/Canada/Pre_harvest/CC_after_2017.shp'\n",
    "arcpy.CopyFeatures_management(CC_after_2017, output_CC_after_2017)\n",
    "# LiDAR 2017\n",
    "nb_lidar_2017 = arcpy.SelectLayerByAttribute_management(nb_tiles_index, 'NEW_SELECTION', '\"Yearnr\" = 2017') #split polygon based on year nex time\n",
    "nb_lidar_2017_copy = 'Y:/William/RIP_NATURE_2/Canada/LiDAR_Years/nb_lidar_2017.shp'\n",
    "arcpy.CopyFeatures_management(nb_lidar_2017, nb_lidar_2017_copy ) \n",
    "# Harvest after LiDAR\n",
    "CC_after_lidar_2017 = arcpy.SelectLayerByLocation_management(output_CC_after_2017, 'INTERSECT', nb_lidar_2017_copy,'', 'NEW_SELECTION') \n",
    "CC_after_lidar_2017_copy = 'Y:/William/RIP_NATURE_2/Canada/Pre_harvest/CC_after_lidar_2017.shp'\n",
    "arcpy.CopyFeatures_management(CC_after_lidar_2017, CC_after_lidar_2017_copy)\n",
    "\n",
    "# Merge reference sites\n",
    "# cc after 2018 had no intersections with lidar 2018\n",
    "merge_nb_reference_sites = 'Y:/William/RIP_NATURE_2/Canada/Pre_harvest/nb_CC_after_lidar.shp'\n",
    "arcpy.Merge_management([CC_after_lidar_2015_copy, CC_after_lidar_2016_copy, CC_after_lidar_2017_copy], merge_nb_reference_sites)\n",
    "\n",
    "# number of polygons that will be analyzed\n",
    "nb_merged_cc_after_lidar = arcpy.GetCount_management(merge_nb_reference_sites)\n",
    "print('Number of harvested polygons that were scanned before being harvested:', nb_merged_cc_after_lidar)"
   ]
  },
  {
   "cell_type": "code",
   "execution_count": 8,
   "metadata": {},
   "outputs": [
    {
     "name": "stdout",
     "output_type": "stream",
     "text": [
      "Number intersected streams over 20 m: 102\n"
     ]
    }
   ],
   "source": [
    "# inputs\n",
    "merge_nb_reference_sites = 'Y:/William/RIP_NATURE_2/Canada/Pre_harvest/nb_CC_after_lidar.shp'\n",
    "streams = 'Y:/William/RIP_NATURE_2/Canada/streams/PropertyStreams.shp'\n",
    "\n",
    "# Intersect in features\n",
    "infeatures = (streams , merge_nb_reference_sites)\n",
    "\n",
    "# Intersect output\n",
    "Intersected_reference_streams_nb = 'Y:/William/RIP_NATURE_2/Canada/Pre_harvest/Intersected_reference_streams.shp'\n",
    "# intersect\n",
    "arcpy.Intersect_analysis(infeatures, Intersected_reference_streams_nb)\n",
    "\n",
    "# add geometry length to intersected streams\n",
    "arcpy.AddGeometryAttributes_management(Intersected_reference_streams_nb, 'LENGTH', 'METERS')\n",
    "\n",
    "# Select and copy segments over 20 m\n",
    "\n",
    "attribute_selected_ref = arcpy.SelectLayerByAttribute_management(Intersected_reference_streams_nb, 'NEW_SELECTION', '\"LENGTH\" > 20')\n",
    "# copy output\n",
    "Intersected_reference_streams_over_20m_nb = 'Y:/William/RIP_NATURE_2/Canada/Pre_harvest/Intersected_reference_streams_over_20m.shp'\n",
    "arcpy.CopyFeatures_management(attribute_selected_ref, Intersected_reference_streams_over_20m_nb)\n",
    "\n",
    "# number intersected streams over 20 m\n",
    "stream_segments_over20m = arcpy.GetCount_management(Intersected_reference_streams_over_20m_nb)\n",
    "print('Number intersected streams over 20 m:', stream_segments_over20m)"
   ]
  },
  {
   "cell_type": "markdown",
   "metadata": {},
   "source": [
    "The reference sites were intersected with the stream network to find unharvested sites which contains a stream"
   ]
  },
  {
   "cell_type": "markdown",
   "metadata": {},
   "source": [
    "The 20 m segments were buffered by 20 m and intersected with and dissolved by the unharvested sites."
   ]
  },
  {
   "cell_type": "code",
   "execution_count": 9,
   "metadata": {},
   "outputs": [
    {
     "name": "stdout",
     "output_type": "stream",
     "text": [
      "number_of_reference_sites: 121\n"
     ]
    }
   ],
   "source": [
    "import arcpy\n",
    "arcpy.env.overwriteOutput = True\n",
    "arcpy.env.parallelProcessingFactor = \"100%\"\n",
    "\n",
    "# input\n",
    "Intersected_reference_streams_over_20m_nb = 'Y:/William/RIP_NATURE_2/Canada/Pre_harvest/Intersected_reference_streams_over_20m.shp'\n",
    "# buffered output\n",
    "Intersected_reference_streams_over_20m_nb_Buffered = 'Y:/William/RIP_NATURE_2/Canada/Pre_harvest/Intersected_reference_streams_over_20m_buffered_by_20m.shp'\n",
    "# Buffer stream segments by 20 m\n",
    "arcpy.Buffer_analysis(Intersected_reference_streams_over_20m_nb, Intersected_reference_streams_over_20m_nb_Buffered, '20 Meters')\n",
    "\n",
    "# Intersect Buffered stream segments with unharvest sites\n",
    "# input unharvest sites\n",
    "merge_nb_reference_sites = 'Y:/William/RIP_NATURE_2/Canada/Pre_harvest/nb_CC_after_lidar.shp'\n",
    "infeatures = (Intersected_reference_streams_over_20m_nb_Buffered, merge_nb_reference_sites) \n",
    "# output intersect\n",
    "Intersect_buffered_stream_segments_with_unharvested_sites_nb = 'Y:/William/RIP_NATURE_2/Canada/Pre_harvest/Buffered_reference_streams_intersect_CC.shp'\n",
    "arcpy.Intersect_analysis(infeatures, Intersect_buffered_stream_segments_with_unharvested_sites_nb)\n",
    "\n",
    "\n",
    "# DISSOLVE BY HARVEST ID. This means that each harvest site will only be counted once. \n",
    "Dissolve_reference_buffer_zones_nb = 'Y:/William/RIP_NATURE_2/Canada/Pre_harvest/Buffered_reference_streams_intersect_CC_dissolve_by_CC.shp'\n",
    "dissolveFields = [\"OBJECTID_1\"]\n",
    "arcpy.Dissolve_management(Intersect_buffered_stream_segments_with_unharvested_sites_nb, Dissolve_reference_buffer_zones_nb, dissolveFields, \"\", \"MULTI_PART\", \"DISSOLVE_LINES\")\n",
    "\n",
    "# number intersected streams over 20 m\n",
    "number_of_reference_sites = arcpy.GetCount_management(Dissolve_reference_buffer_zones_nb)\n",
    "print('number_of_reference_sites:', number_of_reference_sites)"
   ]
  },
  {
   "cell_type": "markdown",
   "metadata": {},
   "source": [
    "**LiDAR tiles that intersected either harvested sites or reference sites were downloaded**"
   ]
  },
  {
   "cell_type": "code",
   "execution_count": 10,
   "metadata": {},
   "outputs": [
    {
     "name": "stdout",
     "output_type": "stream",
     "text": [
      "LiDAR tiles do download: 3020\n"
     ]
    }
   ],
   "source": [
    "# LiDAR tiles index\n",
    "nb_tiles_index = 'Y:/William/RIP_NATURE_2/Canada/LiDAR_Years/geonb_li-idl_shp/geonb_li_idl_cgvd2013.shp'\n",
    "\n",
    "# Harvested sites\n",
    "Lidar_Post_harvest_buffer_zones = 'Y:/William/RIP_NATURE_2/canada/nb_buffers_lidar_post_harvest.shp'\n",
    "\n",
    "# Reference sites\n",
    "Lidar_Pre_harvest_buffer_zones = 'Y:/William/RIP_NATURE_2/Canada/Pre_harvest/Buffered_reference_streams_intersect_CC_dissolve_by_CC.shp'\n",
    "\n",
    "# Spatial select\n",
    "# Harvested\n",
    "tiles_intersect_harvested = arcpy.SelectLayerByLocation_management(nb_tiles_index, 'INTERSECT', Lidar_Post_harvest_buffer_zones,'', 'NEW_SELECTION') \n",
    "arcpy.CopyFeatures_management(tiles_intersect_harvested, 'Y:/William/RIP_NATURE_2/Canada/LiDAR_Years/geonb_li-idl_shp/tiles_intersect_harvested.shp')\n",
    "\n",
    "# Reference\n",
    "tiles_intersect_reference = arcpy.SelectLayerByLocation_management(nb_tiles_index, 'INTERSECT', Lidar_Pre_harvest_buffer_zones,'', 'NEW_SELECTION') \n",
    "arcpy.CopyFeatures_management(tiles_intersect_reference, 'Y:/William/RIP_NATURE_2/Canada/LiDAR_Years/geonb_li-idl_shp/tiles_intersect_reference.shp')\n",
    "\n",
    "## Merge\n",
    "Merge_post_harvest_with_pre_harvest = 'Y:/William/RIP_NATURE_2/Canada/LiDAR_Years/geonb_li-idl_shp/Merge_post_harvest_with_pre_harvest.shp'\n",
    "arcpy.Merge_management([tiles_intersect_harvested, tiles_intersect_reference], Merge_post_harvest_with_pre_harvest)\n",
    "\n",
    "# number intersected lidar tiles\n",
    "number_of_lidar_tiles = arcpy.GetCount_management(Merge_post_harvest_with_pre_harvest)\n",
    "print('LiDAR tiles do download:', number_of_lidar_tiles)"
   ]
  },
  {
   "cell_type": "markdown",
   "metadata": {},
   "source": [
    "Download relevant lidar files"
   ]
  },
  {
   "cell_type": "code",
   "execution_count": 31,
   "metadata": {},
   "outputs": [],
   "source": [
    "import arcpy\n",
    "from arcpy import env\n",
    "import csv\n",
    "import os\n",
    "\n",
    "Merge_post_harvest_with_pre_harvest = 'Y:/William/RIP_NATURE_2/Canada/LiDAR_Years/geonb_li-idl_shp/Merge_post_harvest_with_pre_harvest.shp'\n",
    "url_list = []\n",
    "with arcpy.da.SearchCursor(Merge_post_harvest_with_pre_harvest,['SHAPE@','FILE_URL']) as cursor:\n",
    "    for row in cursor:\n",
    "        url_list.append(row[1])\n",
    "my_df = pd.DataFrame(url_list)      \n",
    "my_df.to_csv('Y:/William/RIP_NATURE_2/Canada/url_list.csv', index=False, header=False)\n",
    "\n",
    "    \n",
    "\n",
    " \n",
    "\n"
   ]
  },
  {
   "cell_type": "markdown",
   "metadata": {},
   "source": [
    "**The lAZ files were downloaded outside of arcgis pro due to wget**"
   ]
  },
  {
   "cell_type": "code",
   "execution_count": 28,
   "metadata": {},
   "outputs": [
    {
     "ename": "ModuleNotFoundError",
     "evalue": "No module named 'wget'",
     "output_type": "error",
     "traceback": [
      "\u001b[0;31m---------------------------------------------------------------------------\u001b[0m\n\u001b[0;31mModuleNotFoundError\u001b[0m                       Traceback (most recent call last)",
      "In  \u001b[0;34m[28]\u001b[0m:\nLine \u001b[0;34m4\u001b[0m:     \u001b[34mimport\u001b[39;49;00m \u001b[04m\u001b[36mwget\u001b[39;49;00m\n",
      "\u001b[0;31mModuleNotFoundError\u001b[0m: No module named 'wget'\n\u001b[0;31m---------------------------------------------------------------------------\u001b[0m"
     ]
    }
   ],
   "source": [
    "import os\n",
    "from urllib.parse import urlparse\n",
    "import pandas as pd\n",
    "import wget\n",
    "from multiprocessing.dummy import Pool \n",
    "# save downloaded files here: \n",
    "dest_dir = 'Y:/William/RIP_NATURE_2/Canada/download_las_tiles_canada/laz/' \n",
    "\n",
    "def download_files(urls):\n",
    "    wget.download(urls, dest_dir)\n",
    "\n",
    "\n",
    "df = pd.read_csv('Y:/William/RIP_NATURE_2/Canada/url_list.csv', header=None)\n",
    "df = df[0].tolist()\n",
    "\n",
    "\n",
    "Pool(15).map(download_files, df)"
   ]
  },
  {
   "cell_type": "markdown",
   "metadata": {},
   "source": [
    "Extract canopy cover from lidar data"
   ]
  },
  {
   "cell_type": "code",
   "execution_count": null,
   "metadata": {},
   "outputs": [],
   "source": [
    "# Unharvested reference buffer polygons\n",
    "Dissolve_reference_buffer_zones_nb = 'Y:/William/RIP_NATURE_2/Canada/Pre_harvest/Buffered_reference_streams_intersect_CC_dissolve_by_CC.shp'\n",
    "canopy_mosaic = 'D:/GIS/RIP2/canada_canopy_mosaic/canopy_db/canadacanopy.gdb/canopy_mosaic'\n",
    "ZonalStatisticsAsTable(Dissolve_reference_buffer_zones_nb, zone_field, in_value_raster, out_table, 'NODATA', 'SUM')\n"
   ]
  },
  {
   "cell_type": "markdown",
   "metadata": {},
   "source": [
    "lastools\n",
    "lasheight -cpu64 -lof file_list.11740.txt -cores 32 -replace_z -odir \"Y:\\William\\RIP_NATURE_2\\Canada\\canopy\\las_height\" -olaz\n",
    "\n",
    "lascanopy -cpu64 -lof file_list.29684.txt -cores 32 -step 1 -height_cutoff 5 -max -odir \"y:\\William\\RIP_NATURE_2\\Canada\\canopy\\las_canopy\" -otif"
   ]
  },
  {
   "cell_type": "markdown",
   "metadata": {},
   "source": [
    "Reclassify canopy so all cells over 5 m is 1 and everything else 0."
   ]
  },
  {
   "cell_type": "markdown",
   "metadata": {},
   "source": [
    "Build viritual raster"
   ]
  },
  {
   "cell_type": "code",
   "execution_count": null,
   "metadata": {},
   "outputs": [],
   "source": []
  }
 ],
 "metadata": {
  "kernelspec": {
   "display_name": "ArcGISPro",
   "language": "Python",
   "name": "python3"
  },
  "language_info": {
   "file_extension": ".py",
   "name": "python",
   "version": "3"
  }
 },
 "nbformat": 4,
 "nbformat_minor": 2
}
