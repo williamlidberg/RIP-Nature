{
  "nbformat": 4,
  "nbformat_minor": 0,
  "metadata": {
    "colab": {
      "name": "RIP Nature Results.ipynb",
      "provenance": [],
      "collapsed_sections": [],
      "authorship_tag": "ABX9TyNWN9RNX8BTj62reZnEfpME",
      "include_colab_link": true
    },
    "kernelspec": {
      "name": "python3",
      "display_name": "Python 3"
    },
    "language_info": {
      "name": "python"
    }
  },
  "cells": [
    {
      "cell_type": "markdown",
      "metadata": {
        "id": "view-in-github",
        "colab_type": "text"
      },
      "source": [
        "<a href=\"https://colab.research.google.com/github/williamlidberg/RIP-Nature/blob/main/RIP_Nature_Results.ipynb\" target=\"_parent\"><img src=\"https://colab.research.google.com/assets/colab-badge.svg\" alt=\"Open In Colab\"/></a>"
      ]
    },
    {
      "cell_type": "markdown",
      "metadata": {
        "id": "Dm-BSAc8O8eH"
      },
      "source": [
        "## Clone repository"
      ]
    },
    {
      "cell_type": "code",
      "metadata": {
        "colab": {
          "base_uri": "https://localhost:8080/"
        },
        "id": "F5tkQ0o6ElIo",
        "outputId": "065d5403-2805-4e3b-c050-c907330a32df"
      },
      "source": [
        "!git clone https://github.com/williamlidberg/RIP-Nature\n",
        "%cd /content/RIP-Nature/Results/\n",
        "!ls"
      ],
      "execution_count": 1,
      "outputs": [
        {
          "output_type": "stream",
          "name": "stdout",
          "text": [
            "fatal: destination path 'RIP-Nature' already exists and is not an empty directory.\n",
            "/content/RIP-Nature/Results\n",
            "canada_post_harvest_buffers_william.cpg\n",
            "canada_post_harvest_buffers_william.dbf\n",
            "canada_post_harvest_buffers_william.dbf.xml\n",
            "canada_pre_harvest_buffers_william.cpg\n",
            "canada_pre_harvest_buffers_william.dbf\n",
            "canada_pre_harvest_buffers_william.dbf.xml\n",
            "RIP_Finland2022_post_harvest.csv\n",
            "RIP_Finland2022_pre_harvest.csv\n",
            "RIP-Nature\n",
            "sweden_post_harvest_buffers_william.cpg\n",
            "sweden_post_harvest_buffers_william.dbf\n",
            "sweden_post_harvest_buffers_william.dbf.xml\n",
            "sweden_pre_harvest_buffers_william.cpg\n",
            "sweden_pre_harvest_buffers_william.dbf\n",
            "sweden_pre_harvest_buffers_william.dbf.xml\n",
            "Zonal_vaster_post_harvest.cpg\n",
            "Zonal_vaster_post_harvest.dbf\n",
            "Zonal_vaster_post_harvest.dbf.xml\n",
            "Zonal_vaster_pre_harvest.cpg\n",
            "Zonal_vaster_pre_harvest.dbf\n",
            "Zonal_vaster_pre_harvest.dbf.xml\n"
          ]
        }
      ]
    },
    {
      "cell_type": "code",
      "metadata": {
        "colab": {
          "base_uri": "https://localhost:8080/"
        },
        "id": "eQwdR0DyE-5x",
        "outputId": "d3cfb229-ead7-4d57-de2b-3ec5ebc6af80"
      },
      "source": [
        "!pip install simpledbf"
      ],
      "execution_count": 11,
      "outputs": [
        {
          "output_type": "stream",
          "name": "stdout",
          "text": [
            "Requirement already satisfied: simpledbf in /usr/local/lib/python3.7/dist-packages (0.2.6)\n"
          ]
        }
      ]
    },
    {
      "cell_type": "code",
      "metadata": {
        "id": "4_9kXCZxMOCU"
      },
      "source": [
        "from simpledbf import Dbf5\n",
        "import pandas as pd\n",
        "# Sweden\n",
        "sweden_post_harvest = Dbf5('/content/RIP-Nature/Results/sweden_post_harvest_buffers_william.dbf')\n",
        "sweden_post_harvest = sweden_post_harvest.to_dataframe()\n",
        "sweden_pre_harvest = Dbf5('/content/RIP-Nature/Results/sweden_pre_harvest_buffers_william.dbf')\n",
        "sweden_pre_harvest = sweden_pre_harvest.to_dataframe()\n",
        "\n",
        "# NB\n",
        "nb_post_harvest = Dbf5('/content/RIP-Nature/Results/canada_post_harvest_buffers_william.dbf')\n",
        "nb_post_harvest = nb_post_harvest.to_dataframe()\n",
        "nb_pre_harvest = Dbf5('/content/RIP-Nature/Results/canada_pre_harvest_buffers_william.dbf')\n",
        "nb_pre_harvest = nb_pre_harvest.to_dataframe()\n",
        "\n",
        "# Finland\n",
        "finland_post_harvest = pd.read_csv('/content/RIP-Nature/Results/Finland_post_harvest_joined.dbf')\n",
        "finland_post_harvest = finland_post_harvest.to_dataframe()\n",
        "finland_pre_harvest = pd.read_csv('/content/RIP-Nature/Results/Finland_pre_harvest_joined.dbf')\n",
        "finland_pre_harvest = finland_pre_harvest.to_dataframe()"
      ],
      "execution_count": 12,
      "outputs": []
    },
    {
      "cell_type": "code",
      "metadata": {
        "colab": {
          "base_uri": "https://localhost:8080/",
          "height": 206
        },
        "id": "6u1Ir4WcMUbS",
        "outputId": "43cccf9b-4c4d-48a3-b213-acc011f4265f"
      },
      "source": [
        "sweden_post_harvest.head()"
      ],
      "execution_count": 8,
      "outputs": [
        {
          "output_type": "execute_result",
          "data": {
            "text/plain": [
              "   FID_   COUNT    AREA    SUM\n",
              "0     0    85.0   340.0    0.0\n",
              "1     1   294.0  1176.0  218.0\n",
              "2     2  1749.0  6996.0  642.0\n",
              "3     3   620.0  2480.0  410.0\n",
              "4     4  1349.0  5396.0  494.0"
            ],
            "text/html": [
              "\n",
              "  <div id=\"df-5adba0c4-6b6d-42e5-a0cf-e9600dffb5d8\">\n",
              "    <div class=\"colab-df-container\">\n",
              "      <div>\n",
              "<style scoped>\n",
              "    .dataframe tbody tr th:only-of-type {\n",
              "        vertical-align: middle;\n",
              "    }\n",
              "\n",
              "    .dataframe tbody tr th {\n",
              "        vertical-align: top;\n",
              "    }\n",
              "\n",
              "    .dataframe thead th {\n",
              "        text-align: right;\n",
              "    }\n",
              "</style>\n",
              "<table border=\"1\" class=\"dataframe\">\n",
              "  <thead>\n",
              "    <tr style=\"text-align: right;\">\n",
              "      <th></th>\n",
              "      <th>FID_</th>\n",
              "      <th>COUNT</th>\n",
              "      <th>AREA</th>\n",
              "      <th>SUM</th>\n",
              "    </tr>\n",
              "  </thead>\n",
              "  <tbody>\n",
              "    <tr>\n",
              "      <th>0</th>\n",
              "      <td>0</td>\n",
              "      <td>85.0</td>\n",
              "      <td>340.0</td>\n",
              "      <td>0.0</td>\n",
              "    </tr>\n",
              "    <tr>\n",
              "      <th>1</th>\n",
              "      <td>1</td>\n",
              "      <td>294.0</td>\n",
              "      <td>1176.0</td>\n",
              "      <td>218.0</td>\n",
              "    </tr>\n",
              "    <tr>\n",
              "      <th>2</th>\n",
              "      <td>2</td>\n",
              "      <td>1749.0</td>\n",
              "      <td>6996.0</td>\n",
              "      <td>642.0</td>\n",
              "    </tr>\n",
              "    <tr>\n",
              "      <th>3</th>\n",
              "      <td>3</td>\n",
              "      <td>620.0</td>\n",
              "      <td>2480.0</td>\n",
              "      <td>410.0</td>\n",
              "    </tr>\n",
              "    <tr>\n",
              "      <th>4</th>\n",
              "      <td>4</td>\n",
              "      <td>1349.0</td>\n",
              "      <td>5396.0</td>\n",
              "      <td>494.0</td>\n",
              "    </tr>\n",
              "  </tbody>\n",
              "</table>\n",
              "</div>\n",
              "      <button class=\"colab-df-convert\" onclick=\"convertToInteractive('df-5adba0c4-6b6d-42e5-a0cf-e9600dffb5d8')\"\n",
              "              title=\"Convert this dataframe to an interactive table.\"\n",
              "              style=\"display:none;\">\n",
              "        \n",
              "  <svg xmlns=\"http://www.w3.org/2000/svg\" height=\"24px\"viewBox=\"0 0 24 24\"\n",
              "       width=\"24px\">\n",
              "    <path d=\"M0 0h24v24H0V0z\" fill=\"none\"/>\n",
              "    <path d=\"M18.56 5.44l.94 2.06.94-2.06 2.06-.94-2.06-.94-.94-2.06-.94 2.06-2.06.94zm-11 1L8.5 8.5l.94-2.06 2.06-.94-2.06-.94L8.5 2.5l-.94 2.06-2.06.94zm10 10l.94 2.06.94-2.06 2.06-.94-2.06-.94-.94-2.06-.94 2.06-2.06.94z\"/><path d=\"M17.41 7.96l-1.37-1.37c-.4-.4-.92-.59-1.43-.59-.52 0-1.04.2-1.43.59L10.3 9.45l-7.72 7.72c-.78.78-.78 2.05 0 2.83L4 21.41c.39.39.9.59 1.41.59.51 0 1.02-.2 1.41-.59l7.78-7.78 2.81-2.81c.8-.78.8-2.07 0-2.86zM5.41 20L4 18.59l7.72-7.72 1.47 1.35L5.41 20z\"/>\n",
              "  </svg>\n",
              "      </button>\n",
              "      \n",
              "  <style>\n",
              "    .colab-df-container {\n",
              "      display:flex;\n",
              "      flex-wrap:wrap;\n",
              "      gap: 12px;\n",
              "    }\n",
              "\n",
              "    .colab-df-convert {\n",
              "      background-color: #E8F0FE;\n",
              "      border: none;\n",
              "      border-radius: 50%;\n",
              "      cursor: pointer;\n",
              "      display: none;\n",
              "      fill: #1967D2;\n",
              "      height: 32px;\n",
              "      padding: 0 0 0 0;\n",
              "      width: 32px;\n",
              "    }\n",
              "\n",
              "    .colab-df-convert:hover {\n",
              "      background-color: #E2EBFA;\n",
              "      box-shadow: 0px 1px 2px rgba(60, 64, 67, 0.3), 0px 1px 3px 1px rgba(60, 64, 67, 0.15);\n",
              "      fill: #174EA6;\n",
              "    }\n",
              "\n",
              "    [theme=dark] .colab-df-convert {\n",
              "      background-color: #3B4455;\n",
              "      fill: #D2E3FC;\n",
              "    }\n",
              "\n",
              "    [theme=dark] .colab-df-convert:hover {\n",
              "      background-color: #434B5C;\n",
              "      box-shadow: 0px 1px 3px 1px rgba(0, 0, 0, 0.15);\n",
              "      filter: drop-shadow(0px 1px 2px rgba(0, 0, 0, 0.3));\n",
              "      fill: #FFFFFF;\n",
              "    }\n",
              "  </style>\n",
              "\n",
              "      <script>\n",
              "        const buttonEl =\n",
              "          document.querySelector('#df-5adba0c4-6b6d-42e5-a0cf-e9600dffb5d8 button.colab-df-convert');\n",
              "        buttonEl.style.display =\n",
              "          google.colab.kernel.accessAllowed ? 'block' : 'none';\n",
              "\n",
              "        async function convertToInteractive(key) {\n",
              "          const element = document.querySelector('#df-5adba0c4-6b6d-42e5-a0cf-e9600dffb5d8');\n",
              "          const dataTable =\n",
              "            await google.colab.kernel.invokeFunction('convertToInteractive',\n",
              "                                                     [key], {});\n",
              "          if (!dataTable) return;\n",
              "\n",
              "          const docLinkHtml = 'Like what you see? Visit the ' +\n",
              "            '<a target=\"_blank\" href=https://colab.research.google.com/notebooks/data_table.ipynb>data table notebook</a>'\n",
              "            + ' to learn more about interactive tables.';\n",
              "          element.innerHTML = '';\n",
              "          dataTable['output_type'] = 'display_data';\n",
              "          await google.colab.output.renderOutput(dataTable, element);\n",
              "          const docLink = document.createElement('div');\n",
              "          docLink.innerHTML = docLinkHtml;\n",
              "          element.appendChild(docLink);\n",
              "        }\n",
              "      </script>\n",
              "    </div>\n",
              "  </div>\n",
              "  "
            ]
          },
          "metadata": {},
          "execution_count": 8
        }
      ]
    },
    {
      "cell_type": "markdown",
      "metadata": {
        "id": "92veX86ISE9i"
      },
      "source": [
        "\n",
        "\n",
        "*   COUNT is the number of 2 m x 2 m cells within the buffer polygon\n",
        "*   Area in square meters of the buffer polygon\n",
        "*   SUM is the number of canopy cells above 5 m. multiply it by to get area in square meters\n",
        "\n",
        "\n",
        "\n",
        "\n"
      ]
    },
    {
      "cell_type": "code",
      "source": [
        "len(finland_post_harvest)"
      ],
      "metadata": {
        "id": "s2kd1C4GHwhD",
        "outputId": "56457461-970e-4bc4-dc12-d91e155b492e",
        "colab": {
          "base_uri": "https://localhost:8080/"
        }
      },
      "execution_count": 13,
      "outputs": [
        {
          "output_type": "execute_result",
          "data": {
            "text/plain": [
              "22745"
            ]
          },
          "metadata": {},
          "execution_count": 13
        }
      ]
    },
    {
      "cell_type": "code",
      "source": [
        "finland_post_harvest.head()"
      ],
      "metadata": {
        "id": "IDMY_fc1s-Ff",
        "outputId": "d0efcfc7-b9e2-4d11-ac2e-e085d087853f",
        "colab": {
          "base_uri": "https://localhost:8080/",
          "height": 206
        }
      },
      "execution_count": 9,
      "outputs": [
        {
          "output_type": "execute_result",
          "data": {
            "text/plain": [
              "   ASTA_ID  post_raster_id  vuosi  5m_sum  sum_total  Canopy _percent\n",
              "0        0            9455   2009   294.0      428.0        68.691589\n",
              "1        0            9456   2013   307.0      426.0        72.065728\n",
              "2        0            9457   2021   318.0      423.0        75.177305\n",
              "3        1            9458   2009  1158.0     1762.0        65.720772\n",
              "4        1            9459   2013     NaN        NaN         0.000000"
            ],
            "text/html": [
              "\n",
              "  <div id=\"df-0b13a987-86d4-47b3-bc9f-4862739a6d51\">\n",
              "    <div class=\"colab-df-container\">\n",
              "      <div>\n",
              "<style scoped>\n",
              "    .dataframe tbody tr th:only-of-type {\n",
              "        vertical-align: middle;\n",
              "    }\n",
              "\n",
              "    .dataframe tbody tr th {\n",
              "        vertical-align: top;\n",
              "    }\n",
              "\n",
              "    .dataframe thead th {\n",
              "        text-align: right;\n",
              "    }\n",
              "</style>\n",
              "<table border=\"1\" class=\"dataframe\">\n",
              "  <thead>\n",
              "    <tr style=\"text-align: right;\">\n",
              "      <th></th>\n",
              "      <th>ASTA_ID</th>\n",
              "      <th>post_raster_id</th>\n",
              "      <th>vuosi</th>\n",
              "      <th>5m_sum</th>\n",
              "      <th>sum_total</th>\n",
              "      <th>Canopy _percent</th>\n",
              "    </tr>\n",
              "  </thead>\n",
              "  <tbody>\n",
              "    <tr>\n",
              "      <th>0</th>\n",
              "      <td>0</td>\n",
              "      <td>9455</td>\n",
              "      <td>2009</td>\n",
              "      <td>294.0</td>\n",
              "      <td>428.0</td>\n",
              "      <td>68.691589</td>\n",
              "    </tr>\n",
              "    <tr>\n",
              "      <th>1</th>\n",
              "      <td>0</td>\n",
              "      <td>9456</td>\n",
              "      <td>2013</td>\n",
              "      <td>307.0</td>\n",
              "      <td>426.0</td>\n",
              "      <td>72.065728</td>\n",
              "    </tr>\n",
              "    <tr>\n",
              "      <th>2</th>\n",
              "      <td>0</td>\n",
              "      <td>9457</td>\n",
              "      <td>2021</td>\n",
              "      <td>318.0</td>\n",
              "      <td>423.0</td>\n",
              "      <td>75.177305</td>\n",
              "    </tr>\n",
              "    <tr>\n",
              "      <th>3</th>\n",
              "      <td>1</td>\n",
              "      <td>9458</td>\n",
              "      <td>2009</td>\n",
              "      <td>1158.0</td>\n",
              "      <td>1762.0</td>\n",
              "      <td>65.720772</td>\n",
              "    </tr>\n",
              "    <tr>\n",
              "      <th>4</th>\n",
              "      <td>1</td>\n",
              "      <td>9459</td>\n",
              "      <td>2013</td>\n",
              "      <td>NaN</td>\n",
              "      <td>NaN</td>\n",
              "      <td>0.000000</td>\n",
              "    </tr>\n",
              "  </tbody>\n",
              "</table>\n",
              "</div>\n",
              "      <button class=\"colab-df-convert\" onclick=\"convertToInteractive('df-0b13a987-86d4-47b3-bc9f-4862739a6d51')\"\n",
              "              title=\"Convert this dataframe to an interactive table.\"\n",
              "              style=\"display:none;\">\n",
              "        \n",
              "  <svg xmlns=\"http://www.w3.org/2000/svg\" height=\"24px\"viewBox=\"0 0 24 24\"\n",
              "       width=\"24px\">\n",
              "    <path d=\"M0 0h24v24H0V0z\" fill=\"none\"/>\n",
              "    <path d=\"M18.56 5.44l.94 2.06.94-2.06 2.06-.94-2.06-.94-.94-2.06-.94 2.06-2.06.94zm-11 1L8.5 8.5l.94-2.06 2.06-.94-2.06-.94L8.5 2.5l-.94 2.06-2.06.94zm10 10l.94 2.06.94-2.06 2.06-.94-2.06-.94-.94-2.06-.94 2.06-2.06.94z\"/><path d=\"M17.41 7.96l-1.37-1.37c-.4-.4-.92-.59-1.43-.59-.52 0-1.04.2-1.43.59L10.3 9.45l-7.72 7.72c-.78.78-.78 2.05 0 2.83L4 21.41c.39.39.9.59 1.41.59.51 0 1.02-.2 1.41-.59l7.78-7.78 2.81-2.81c.8-.78.8-2.07 0-2.86zM5.41 20L4 18.59l7.72-7.72 1.47 1.35L5.41 20z\"/>\n",
              "  </svg>\n",
              "      </button>\n",
              "      \n",
              "  <style>\n",
              "    .colab-df-container {\n",
              "      display:flex;\n",
              "      flex-wrap:wrap;\n",
              "      gap: 12px;\n",
              "    }\n",
              "\n",
              "    .colab-df-convert {\n",
              "      background-color: #E8F0FE;\n",
              "      border: none;\n",
              "      border-radius: 50%;\n",
              "      cursor: pointer;\n",
              "      display: none;\n",
              "      fill: #1967D2;\n",
              "      height: 32px;\n",
              "      padding: 0 0 0 0;\n",
              "      width: 32px;\n",
              "    }\n",
              "\n",
              "    .colab-df-convert:hover {\n",
              "      background-color: #E2EBFA;\n",
              "      box-shadow: 0px 1px 2px rgba(60, 64, 67, 0.3), 0px 1px 3px 1px rgba(60, 64, 67, 0.15);\n",
              "      fill: #174EA6;\n",
              "    }\n",
              "\n",
              "    [theme=dark] .colab-df-convert {\n",
              "      background-color: #3B4455;\n",
              "      fill: #D2E3FC;\n",
              "    }\n",
              "\n",
              "    [theme=dark] .colab-df-convert:hover {\n",
              "      background-color: #434B5C;\n",
              "      box-shadow: 0px 1px 3px 1px rgba(0, 0, 0, 0.15);\n",
              "      filter: drop-shadow(0px 1px 2px rgba(0, 0, 0, 0.3));\n",
              "      fill: #FFFFFF;\n",
              "    }\n",
              "  </style>\n",
              "\n",
              "      <script>\n",
              "        const buttonEl =\n",
              "          document.querySelector('#df-0b13a987-86d4-47b3-bc9f-4862739a6d51 button.colab-df-convert');\n",
              "        buttonEl.style.display =\n",
              "          google.colab.kernel.accessAllowed ? 'block' : 'none';\n",
              "\n",
              "        async function convertToInteractive(key) {\n",
              "          const element = document.querySelector('#df-0b13a987-86d4-47b3-bc9f-4862739a6d51');\n",
              "          const dataTable =\n",
              "            await google.colab.kernel.invokeFunction('convertToInteractive',\n",
              "                                                     [key], {});\n",
              "          if (!dataTable) return;\n",
              "\n",
              "          const docLinkHtml = 'Like what you see? Visit the ' +\n",
              "            '<a target=\"_blank\" href=https://colab.research.google.com/notebooks/data_table.ipynb>data table notebook</a>'\n",
              "            + ' to learn more about interactive tables.';\n",
              "          element.innerHTML = '';\n",
              "          dataTable['output_type'] = 'display_data';\n",
              "          await google.colab.output.renderOutput(dataTable, element);\n",
              "          const docLink = document.createElement('div');\n",
              "          docLink.innerHTML = docLinkHtml;\n",
              "          element.appendChild(docLink);\n",
              "        }\n",
              "      </script>\n",
              "    </div>\n",
              "  </div>\n",
              "  "
            ]
          },
          "metadata": {},
          "execution_count": 9
        }
      ]
    },
    {
      "cell_type": "markdown",
      "source": [
        "The data needs to be \n",
        "\n",
        "*   ASTA_ID is the Id of the buffer polygon\n",
        "*   vuosi = lidar scan year\n",
        "*   5m_sum = number of pixels over 5 m within the polygon\n",
        "*   sum_total = number of pixels within the polygon in total\n",
        "*   canopy cover in the polygon\n",
        "\n",
        "\n",
        "\n",
        "\n",
        "\n"
      ],
      "metadata": {
        "id": "NX3Jz3GqtCXI"
      }
    },
    {
      "cell_type": "code",
      "metadata": {
        "id": "Y2JGwXbASbD7"
      },
      "source": [
        "import numpy as np\n",
        "# Sweden\n",
        "sweden_post_harvest['canopy_coverage'] = ((sweden_post_harvest['SUM'] * 4) / sweden_post_harvest['AREA'])*100\n",
        "sweden_pre_harvest['canopy_coverage'] = ((sweden_pre_harvest['SUM'] * 4) / sweden_pre_harvest['AREA'])*100\n",
        "\n",
        "# New Brunswick\n",
        "nb_post_harvest['canopy_coverage'] = ((nb_post_harvest['SUM'] * 4) / nb_post_harvest['AREA'])*100\n",
        "nb_pre_harvest['canopy_coverage'] = ((nb_pre_harvest['SUM'] * 4) / nb_pre_harvest['AREA'])*100\n",
        "                                     \n"
      ],
      "execution_count": null,
      "outputs": []
    },
    {
      "cell_type": "code",
      "metadata": {
        "colab": {
          "base_uri": "https://localhost:8080/",
          "height": 753
        },
        "id": "9QS_U2dCS_VB",
        "outputId": "8e4f12e1-3a06-4cfe-cbf8-9a8c447b6cad"
      },
      "source": [
        "import numpy as np\n",
        "import matplotlib.pyplot as plt\n",
        "from matplotlib.ticker import PercentFormatter\n",
        "from matplotlib.pyplot import figure\n",
        "# post harvest\n",
        "nb_coverage = nb_post_harvest['canopy_coverage']\n",
        "sweden_coverage = sweden_post_harvest['canopy_coverage']\n",
        "finland_coverage = sweden_post_harvest['canopy_coverage']\n",
        "# before harvest\n",
        "nb_before = nb_pre_harvest['canopy_coverage']\n",
        "sweden_before = sweden_pre_harvest['canopy_coverage']\n",
        "finland_before = sweden_pre_harvest['canopy_coverage']\n",
        "\n",
        "\n",
        "nbins = 10\n",
        "fig,ax = plt.subplots(1,3,figsize=(8,4),dpi=200,sharey=True)\n",
        "\n",
        "fig.text(0.5, 0.04, 'Distribution', ha='center')\n",
        "fig.text(0.04, 0.5, 'Canopy coverage', va='center', rotation='vertical')\n",
        "ax[0].hist(nb_coverage,density=False, weights=np.ones_like(nb_coverage)*100./ len(nb_coverage), color = 'red', edgecolor='black')         \n",
        "ax[1].hist(sweden_coverage,density=False, weights=np.ones_like(sweden_coverage)*100./ len(sweden_coverage), color = 'yellow', edgecolor='black')\n",
        "#ax[2].hist(finland_coverage,density=False, weights=np.ones_like(finland_coverage)*100./ len(finland_coverage), color = 'blue', edgecolor='black')\n",
        "ax[1].set(yticklabels=[])\n",
        "#ax[2].set(yticklabels=[])\n",
        "ax[1].tick_params(left=False)\n",
        "#ax[2].tick_params(left=False)\n",
        "ax[0].yaxis.set_major_formatter(PercentFormatter(xmax=100))\n",
        "\n",
        "#before lines\n",
        "# nb\n",
        "ax[0].axvline(nb_before.quantile(0.25),color='red',linestyle = 'dotted')\n",
        "ax[0].axvline(nb_before.mean(),color='black')\n",
        "ax[0].axvline(nb_before.quantile(0.75),color='red',linestyle = 'dotted')\n",
        "\n",
        "# sweden\n",
        "ax[1].axvline(sweden_before.quantile(0.25),color='red',linestyle = 'dotted')\n",
        "ax[1].axvline(sweden_before.mean(),color='black')\n",
        "ax[1].axvline(sweden_before.quantile(0.75),color='red',linestyle = 'dotted')\n",
        "# finland\n",
        "#ax[2].axvline(finland_before.quantile(0.25),color='red',linestyle = 'dotted')\n",
        "#ax[2].axvline(finland_before.mean(),color='black')\n",
        "#ax[2].axvline(finland_before.quantile(0.75),color='red',linestyle = 'dotted')"
      ],
      "execution_count": null,
      "outputs": [
        {
          "output_type": "execute_result",
          "data": {
            "text/plain": [
              "<matplotlib.lines.Line2D at 0x7f02a3e6e210>"
            ]
          },
          "metadata": {},
          "execution_count": 8
        },
        {
          "output_type": "display_data",
          "data": {
            "image/png": "[encoded data removed]",
            "text/plain": [
              "<Figure size 1600x800 with 3 Axes>"
            ]
          },
          "metadata": {
            "needs_background": "light"
          }
        }
      ]
    },
    {
      "cell_type": "code",
      "metadata": {
        "id": "JcEd27n2_NGu"
      },
      "source": [
        ""
      ],
      "execution_count": null,
      "outputs": []
    }
  ]
}