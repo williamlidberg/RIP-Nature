{
 "cells": [
  {
   "cell_type": "markdown",
   "metadata": {
    "heading_collapsed": true
   },
   "source": [
    "# Sweden\n"
   ]
  },
  {
   "cell_type": "markdown",
   "metadata": {
    "heading_collapsed": true,
    "hidden": true
   },
   "source": [
    "## Post-Harvest stream buffers"
   ]
  },
  {
   "cell_type": "code",
   "execution_count": 2,
   "metadata": {
    "hidden": true
   },
   "outputs": [],
   "source": [
    "import arcpy\n",
    "arcpy.env.overwriteOutput = True\n",
    "arcpy.env.parallelProcessingFactor = \"100%\""
   ]
  },
  {
   "cell_type": "markdown",
   "metadata": {
    "hidden": true
   },
   "source": [
    "Select harvest sites that were harvested within 5 years before being scanned with LiDAR. Some areas were scanned multiple times. The shapefile 'Y:/William/RIP_NATURE_2/Sweden/LiDAR/laserSquare_scandates.shp' contains a column named diff_years which indicates how many different years each tile was scanned with LiDAR. If the value is over 0 it means that it was scanned multiple years. Areas that were scanned multiple years were excluded to avoid confusion."
   ]
  },
  {
   "cell_type": "code",
   "execution_count": 43,
   "metadata": {
    "hidden": true
   },
   "outputs": [
    {
     "data": {
      "text/html": [
       "<h2>Output</h2>Y:\\William\\RIP_NATURE_2\\Sweden\\LiDAR\\swedish_lidar_selected.shp<h2>Messages</h2>Start Time: Monday, 18 October 2021 12:45:57<br/>Succeeded at Monday, 18 October 2021 12:46:07 (Elapsed Time: 10,46 seconds)<br/><style>.rendered_html td, .rendered_html th {text-align: left;}.rendered_html tbody {border: 1px solid black;}</style>"
      ],
      "text/plain": [
       "<Result 'Y:\\\\William\\\\RIP_NATURE_2\\\\Sweden\\\\LiDAR\\\\swedish_lidar_selected.shp'>"
      ]
     },
     "execution_count": 43,
     "metadata": {},
     "output_type": "execute_result"
    }
   ],
   "source": [
    "swedish_lidar_original = 'Y:/William/RIP_NATURE_2/Sweden/LiDAR/laserSquare_scandates.shp'\n",
    "scanned_one_year = arcpy.SelectLayerByAttribute_management(swedish_lidar_original, 'NEW_SELECTION', '\"diff_years\" = 0')\n",
    "arcpy.CopyFeatures_management(scanned_one_year , 'Y:/William/RIP_NATURE_2/Sweden/LiDAR/swedish_lidar_selected.shp')\n"
   ]
  },
  {
   "cell_type": "code",
   "execution_count": null,
   "metadata": {
    "hidden": true
   },
   "outputs": [],
   "source": [
    "sweden_tiles_index = 'Y:/William/RIP_NATURE_2/Sweden/LiDAR/swedish_lidar_selected.shp'\n",
    "topographical_streams_sweden = 'Y:/William/RIP_NATURE_2/Sweden/hl_riks.shp'\n",
    "sweden_harvest_sites = 'Y:/William/RIP_NATURE_2/Sweden/CC/Swedish_CC.shp'\n",
    "\n",
    "## 2009\n",
    "CC_5_years_before_2009 = arcpy.SelectLayerByAttribute_management(sweden_harvest_sites, 'NEW_SELECTION', '\"HARVYR\" > 2004 and \"HARVYR\" < 2009')\n",
    "arcpy.CopyFeatures_management(CC_5_years_before_2009, 'Y:/William/RIP_NATURE_2/sweden/Post_harvest/CC_2004_2009.shp')\n",
    "\n",
    "sweden_lidar_2009 = arcpy.SelectLayerByAttribute_management(sweden_tiles_index, 'NEW_SELECTION', '\"final_year\" = 2009')\n",
    "arcpy.CopyFeatures_management(sweden_lidar_2009, 'Y:/William/RIP_NATURE_2/sweden/LiDAR_Years/sweden_lidar_2009.shp')\n",
    "\n",
    "CC_2004_2009 = 'Y:/William/RIP_NATURE_2/sweden/Post_harvest/CC_2004_2009.shp'\n",
    "lidar_2009 = 'Y:/William/RIP_NATURE_2/sweden/LiDAR_Years/sweden_lidar_2009.shp'\n",
    "\n",
    "harvested_5_years_before_lidar_2009 = arcpy.SelectLayerByLocation_management(CC_2004_2009, 'INTERSECT', lidar_2009,'', 'NEW_SELECTION') \n",
    "arcpy.CopyFeatures_management(harvested_5_years_before_lidar_2009, 'Y:/William/RIP_NATURE_2/sweden/CC_Year/CC_2004_to_2009_lidar_2009.shp')\n",
    "\n",
    "\n",
    "## 2010\n",
    "CC_5_years_before_2010 = arcpy.SelectLayerByAttribute_management(sweden_harvest_sites, 'NEW_SELECTION', '\"HARVYR\" > 2005 and \"HARVYR\" < 2010')\n",
    "arcpy.CopyFeatures_management(CC_5_years_before_2010, 'Y:/William/RIP_NATURE_2/sweden/Post_harvest/CC_2005_2010.shp')\n",
    "\n",
    "sweden_lidar_2010 = arcpy.SelectLayerByAttribute_management(sweden_tiles_index, 'NEW_SELECTION', '\"final_year\" = 2010')\n",
    "arcpy.CopyFeatures_management(sweden_lidar_2010, 'Y:/William/RIP_NATURE_2/sweden/LiDAR_Years/sweden_lidar_2010.shp')\n",
    "\n",
    "CC_2005_2010 = 'Y:/William/RIP_NATURE_2/sweden/Post_harvest/CC_2005_2010.shp'\n",
    "lidar_2010 = 'Y:/William/RIP_NATURE_2/sweden/LiDAR_Years/sweden_lidar_2010.shp'\n",
    "\n",
    "harvested_5_years_before_lidar_2010 = arcpy.SelectLayerByLocation_management(CC_2005_2010, 'INTERSECT', lidar_2010,'', 'NEW_SELECTION') \n",
    "arcpy.CopyFeatures_management(harvested_5_years_before_lidar_2010, 'Y:/William/RIP_NATURE_2/sweden/CC_Year/CC_2005_to_2010_lidar_2010.shp')\n",
    "\n",
    "\n",
    "## 2011\n",
    "CC_5_years_before_2011 = arcpy.SelectLayerByAttribute_management(sweden_harvest_sites, 'NEW_SELECTION', '\"HARVYR\" > 2006 and \"HARVYR\" < 2011')\n",
    "arcpy.CopyFeatures_management(CC_5_years_before_2011, 'Y:/William/RIP_NATURE_2/sweden/Post_harvest/CC_2006_2011.shp')\n",
    "\n",
    "sweden_lidar_2011 = arcpy.SelectLayerByAttribute_management(sweden_tiles_index, 'NEW_SELECTION', '\"final_year\" = 2011')\n",
    "arcpy.CopyFeatures_management(sweden_lidar_2011, 'Y:/William/RIP_NATURE_2/sweden/LiDAR_Years/sweden_lidar_2011.shp')\n",
    "\n",
    "CC_2006_2011 = 'Y:/William/RIP_NATURE_2/sweden/Post_harvest/CC_2006_2011.shp'\n",
    "lidar_2011 = 'Y:/William/RIP_NATURE_2/sweden/LiDAR_Years/sweden_lidar_2011.shp'\n",
    "\n",
    "harvested_5_years_before_lidar_2011 = arcpy.SelectLayerByLocation_management(CC_2006_2011, 'INTERSECT', lidar_2011,'', 'NEW_SELECTION') \n",
    "arcpy.CopyFeatures_management(harvested_5_years_before_lidar_2011, 'Y:/William/RIP_NATURE_2/sweden/CC_Year/CC_2006_to_2011_lidar_2011.shp')\n",
    "\n",
    "sweden_tiles_index = 'Y:/William/RIP_NATURE_2/Sweden/LiDAR/swedish_lidar_selected.shp'\n",
    "topographical_streams_sweden = 'Y:/William/RIP_NATURE_2/Sweden/hl_riks.shp'\n",
    "sweden_harvest_sites = 'Y:/William/RIP_NATURE_2/Sweden/CC/Swedish_CC.shp'\n",
    "\n",
    "## 2012\n",
    "CC_5_years_before_2012 = arcpy.SelectLayerByAttribute_management(sweden_harvest_sites, 'NEW_SELECTION', '\"HARVYR\" > 2007 and \"HARVYR\" < 2012')\n",
    "arcpy.CopyFeatures_management(CC_5_years_before_2012, 'Y:/William/RIP_NATURE_2/sweden/Post_harvest/CC_2007_2012.shp')\n",
    "\n",
    "sweden_lidar_2012 = arcpy.SelectLayerByAttribute_management(sweden_tiles_index, 'NEW_SELECTION', '\"final_year\" = 2012')\n",
    "arcpy.CopyFeatures_management(sweden_lidar_2012, 'Y:/William/RIP_NATURE_2/sweden/LiDAR_Years/sweden_lidar_2012.shp')\n",
    "\n",
    "CC_2007_2012 = 'Y:/William/RIP_NATURE_2/sweden/Post_harvest/CC_2007_2012.shp'\n",
    "lidar_2012 = 'Y:/William/RIP_NATURE_2/sweden/LiDAR_Years/sweden_lidar_2012.shp'\n",
    "\n",
    "harvested_5_years_before_lidar_2012 = arcpy.SelectLayerByLocation_management(CC_2007_2012, 'INTERSECT', lidar_2012,'', 'NEW_SELECTION') \n",
    "arcpy.CopyFeatures_management(harvested_5_years_before_lidar_2012, 'Y:/William/RIP_NATURE_2/sweden/CC_Year/CC_2007_to_2012_lidar_2012.shp')\n",
    "\n",
    "sweden_tiles_index = 'Y:/William/RIP_NATURE_2/Sweden/LiDAR/swedish_lidar_selected.shp'\n",
    "topographical_streams_sweden = 'Y:/William/RIP_NATURE_2/Sweden/hl_riks.shp'\n",
    "sweden_harvest_sites = 'Y:/William/RIP_NATURE_2/Sweden/CC/Swedish_CC.shp'\n",
    "\n",
    "## 2013\n",
    "CC_5_years_before_2013 = arcpy.SelectLayerByAttribute_management(sweden_harvest_sites, 'NEW_SELECTION', '\"HARVYR\" > 2008 and \"HARVYR\" < 2013')\n",
    "arcpy.CopyFeatures_management(CC_5_years_before_2013, 'Y:/William/RIP_NATURE_2/sweden/Post_harvest/CC_2008_2013.shp')\n",
    "\n",
    "sweden_lidar_2013 = arcpy.SelectLayerByAttribute_management(sweden_tiles_index, 'NEW_SELECTION', '\"final_year\" = 2013')\n",
    "arcpy.CopyFeatures_management(sweden_lidar_2013, 'Y:/William/RIP_NATURE_2/sweden/LiDAR_Years/sweden_lidar_2013.shp')\n",
    "\n",
    "CC_2008_2013 = 'Y:/William/RIP_NATURE_2/sweden/Post_harvest/CC_2008_2013.shp'\n",
    "lidar_2013 = 'Y:/William/RIP_NATURE_2/sweden/LiDAR_Years/sweden_lidar_2013.shp'\n",
    "\n",
    "harvested_5_years_before_lidar_2013 = arcpy.SelectLayerByLocation_management(CC_2008_2013, 'INTERSECT', lidar_2013,'', 'NEW_SELECTION') \n",
    "arcpy.CopyFeatures_management(harvested_5_years_before_lidar_2013, 'Y:/William/RIP_NATURE_2/sweden/CC_Year/CC_2008_to_2013_lidar_2013.shp')\n",
    "\n",
    "sweden_tiles_index = 'Y:/William/RIP_NATURE_2/Sweden/LiDAR/swedish_lidar_selected.shp'\n",
    "topographical_streams_sweden = 'Y:/William/RIP_NATURE_2/Sweden/hl_riks.shp'\n",
    "sweden_harvest_sites = 'Y:/William/RIP_NATURE_2/Sweden/CC/Swedish_CC.shp'\n",
    "\n",
    "## 2014\n",
    "CC_5_years_before_2014 = arcpy.SelectLayerByAttribute_management(sweden_harvest_sites, 'NEW_SELECTION', '\"HARVYR\" > 2009 and \"HARVYR\" < 2014')\n",
    "arcpy.CopyFeatures_management(CC_5_years_before_2014, 'Y:/William/RIP_NATURE_2/sweden/Post_harvest/CC_2009_2014.shp')\n",
    "\n",
    "sweden_lidar_2014 = arcpy.SelectLayerByAttribute_management(sweden_tiles_index, 'NEW_SELECTION', '\"final_year\" = 2014')\n",
    "arcpy.CopyFeatures_management(sweden_lidar_2014, 'Y:/William/RIP_NATURE_2/sweden/LiDAR_Years/sweden_lidar_2014.shp')\n",
    "\n",
    "CC_2009_2014 = 'Y:/William/RIP_NATURE_2/sweden/Post_harvest/CC_2009_2014.shp'\n",
    "lidar_2014 = 'Y:/William/RIP_NATURE_2/sweden/LiDAR_Years/sweden_lidar_2014.shp'\n",
    "\n",
    "harvested_5_years_before_lidar_2014 = arcpy.SelectLayerByLocation_management(CC_2009_2014, 'INTERSECT', lidar_2014,'', 'NEW_SELECTION') \n",
    "arcpy.CopyFeatures_management(harvested_5_years_before_lidar_2014, 'Y:/William/RIP_NATURE_2/sweden/CC_Year/CC_2009_to_2014_lidar_2014.shp')\n",
    "\n",
    "sweden_tiles_index = 'Y:/William/RIP_NATURE_2/Sweden/LiDAR/swedish_lidar_selected.shp'\n",
    "topographical_streams_sweden = 'Y:/William/RIP_NATURE_2/Sweden/hl_riks.shp'\n",
    "sweden_harvest_sites = 'Y:/William/RIP_NATURE_2/Sweden/CC/Swedish_CC.shp'\n",
    "\n",
    "## 2015\n",
    "CC_5_years_before_2015 = arcpy.SelectLayerByAttribute_management(sweden_harvest_sites, 'NEW_SELECTION', '\"HARVYR\" > 2010 and \"HARVYR\" < 2015')\n",
    "arcpy.CopyFeatures_management(CC_5_years_before_2015, 'Y:/William/RIP_NATURE_2/sweden/Post_harvest/CC_2010_2015.shp')\n",
    "\n",
    "sweden_lidar_2015 = arcpy.SelectLayerByAttribute_management(sweden_tiles_index, 'NEW_SELECTION', '\"final_year\" = 2015')\n",
    "arcpy.CopyFeatures_management(sweden_lidar_2015, 'Y:/William/RIP_NATURE_2/sweden/LiDAR_Years/sweden_lidar_2015.shp')\n",
    "\n",
    "CC_2010_2015 = 'Y:/William/RIP_NATURE_2/sweden/Post_harvest/CC_2010_2015.shp'\n",
    "lidar_2015 = 'Y:/William/RIP_NATURE_2/sweden/LiDAR_Years/sweden_lidar_2015.shp'\n",
    "\n",
    "harvested_5_years_before_lidar_2015 = arcpy.SelectLayerByLocation_management(CC_2010_2015, 'INTERSECT', lidar_2015,'', 'NEW_SELECTION') \n",
    "arcpy.CopyFeatures_management(harvested_5_years_before_lidar_2015, 'Y:/William/RIP_NATURE_2/sweden/CC_Year/CC_2010_to_2015_lidar_2015.shp')\n",
    "\n",
    "sweden_tiles_index = 'Y:/William/RIP_NATURE_2/Sweden/LiDAR/swedish_lidar_selected.shp'\n",
    "topographical_streams_sweden = 'Y:/William/RIP_NATURE_2/Sweden/hl_riks.shp'\n",
    "sweden_harvest_sites = 'Y:/William/RIP_NATURE_2/Sweden/CC/Swedish_CC.shp'\n",
    "\n",
    "## 2016\n",
    "CC_5_years_before_2016 = arcpy.SelectLayerByAttribute_management(sweden_harvest_sites, 'NEW_SELECTION', '\"HARVYR\" > 2011 and \"HARVYR\" < 2016')\n",
    "arcpy.CopyFeatures_management(CC_5_years_before_2016, 'Y:/William/RIP_NATURE_2/sweden/Post_harvest/CC_2011_2016.shp')\n",
    "\n",
    "sweden_lidar_2016 = arcpy.SelectLayerByAttribute_management(sweden_tiles_index, 'NEW_SELECTION', '\"final_year\" = 2016')\n",
    "arcpy.CopyFeatures_management(sweden_lidar_2016, 'Y:/William/RIP_NATURE_2/sweden/LiDAR_Years/sweden_lidar_2016.shp')\n",
    "\n",
    "CC_2011_2016 = 'Y:/William/RIP_NATURE_2/sweden/Post_harvest/CC_2011_2016.shp'\n",
    "lidar_2016 = 'Y:/William/RIP_NATURE_2/sweden/LiDAR_Years/sweden_lidar_2016.shp'\n",
    "\n",
    "harvested_5_years_before_lidar_2016 = arcpy.SelectLayerByLocation_management(CC_2011_2016, 'INTERSECT', lidar_2016,'', 'NEW_SELECTION') \n",
    "arcpy.CopyFeatures_management(harvested_5_years_before_lidar_2016, 'Y:/William/RIP_NATURE_2/sweden/CC_Year/CC_2011_to_2016_lidar_2016.shp')\n",
    "\n",
    "# Merge\n",
    "inputs = 'Y:/William/RIP_NATURE_2/Sweden/CC_Year/CC_2004_to_2009_lidar_2009.shp','Y:/William/RIP_NATURE_2/Sweden/CC_Year/CC_2005_to_2010_lidar_2010.shp','Y:/William/RIP_NATURE_2/Sweden/CC_Year/CC_2006_to_2011_lidar_2011.shp','Y:/William/RIP_NATURE_2/Sweden/CC_Year/CC_2007_to_2012_lidar_2012shp','Y:/William/RIP_NATURE_2/Sweden/CC_Year/CC_2008_to_2013_lidar_2013.shp','Y:/William/RIP_NATURE_2/Sweden/CC_Year/CC_2009_to_2014_lidar_2014.shp','Y:/William/RIP_NATURE_2/Sweden/CC_Year/CC_2010_to_2015_lidar_2015.shp','Y:/William/RIP_NATURE_2/Sweden/CC_Year/CC_2011_to_2016_lidar_2016.shp'\n",
    "output = 'Y:/William/RIP_NATURE_2/sweden/sweden_harvest_before_LiDAR_merged.shp'\n",
    "arcpy.management.Merge(inputs, output)"
   ]
  },
  {
   "cell_type": "code",
   "execution_count": 58,
   "metadata": {
    "hidden": true
   },
   "outputs": [
    {
     "data": {
      "text/html": [
       "<h2>Output</h2>Y:\\William\\RIP_NATURE_2\\Sweden\\sweden_harvest_before_LiDAR_merged.shp<h2>Messages</h2>Start Time: Monday, 18 October 2021 15:56:00<br/>Succeeded at Monday, 18 October 2021 15:56:38 (Elapsed Time: 37,57 seconds)<br/><style>.rendered_html td, .rendered_html th {text-align: left;}.rendered_html tbody {border: 1px solid black;}</style>"
      ],
      "text/plain": [
       "<Result 'Y:\\\\William\\\\RIP_NATURE_2\\\\Sweden\\\\sweden_harvest_before_LiDAR_merged.shp'>"
      ]
     },
     "execution_count": 58,
     "metadata": {},
     "output_type": "execute_result"
    }
   ],
   "source": [
    "# Merge\n",
    "inputs = 'Y:/William/RIP_NATURE_2/Sweden/CC_Year/CC_2004_to_2009_lidar_2009.shp','Y:/William/RIP_NATURE_2/Sweden/CC_Year/CC_2005_to_2010_lidar_2010.shp','Y:/William/RIP_NATURE_2/Sweden/CC_Year/CC_2006_to_2011_lidar_2011.shp','Y:/William/RIP_NATURE_2/Sweden/CC_Year/CC_2007_to_2012_lidar_2012.shp','Y:/William/RIP_NATURE_2/Sweden/CC_Year/CC_2008_to_2013_lidar_2013.shp','Y:/William/RIP_NATURE_2/Sweden/CC_Year/CC_2009_to_2014_lidar_2014.shp','Y:/William/RIP_NATURE_2/Sweden/CC_Year/CC_2010_to_2015_lidar_2015.shp','Y:/William/RIP_NATURE_2/Sweden/CC_Year/CC_2011_to_2016_lidar_2016.shp'\n",
    "output = 'Y:/William/RIP_NATURE_2/sweden/sweden_harvest_before_LiDAR_merged.shp'\n",
    "arcpy.management.Merge(inputs, output)"
   ]
  },
  {
   "cell_type": "code",
   "execution_count": 56,
   "metadata": {
    "hidden": true
   },
   "outputs": [
    {
     "data": {
      "text/html": [
       "<div>\n",
       "<style scoped>\n",
       "    .dataframe tbody tr th:only-of-type {\n",
       "        vertical-align: middle;\n",
       "    }\n",
       "\n",
       "    .dataframe tbody tr th {\n",
       "        vertical-align: top;\n",
       "    }\n",
       "\n",
       "    .dataframe thead th {\n",
       "        text-align: right;\n",
       "    }\n",
       "</style>\n",
       "<table border=\"1\" class=\"dataframe\">\n",
       "  <thead>\n",
       "    <tr style=\"text-align: right;\">\n",
       "      <th></th>\n",
       "      <th>FID</th>\n",
       "      <th>OBJECTID</th>\n",
       "      <th>Lannr</th>\n",
       "      <th>Lan</th>\n",
       "      <th>Kommunnr</th>\n",
       "      <th>Kommun</th>\n",
       "      <th>Arendear</th>\n",
       "      <th>Beteckn</th>\n",
       "      <th>Avverktyp</th>\n",
       "      <th>Skogstyp</th>\n",
       "      <th>AnmaldHa</th>\n",
       "      <th>SkogsodlHa</th>\n",
       "      <th>Natforha</th>\n",
       "      <th>Avvdatum</th>\n",
       "      <th>Kalladatum</th>\n",
       "      <th>Kallaareal</th>\n",
       "      <th>Forebild</th>\n",
       "      <th>Efterbild</th>\n",
       "      <th>Arealha</th>\n",
       "      <th>Text_years</th>\n",
       "      <th>Field</th>\n",
       "      <th>HARVYR</th>\n",
       "      <th>SHAPE</th>\n",
       "    </tr>\n",
       "  </thead>\n",
       "  <tbody>\n",
       "    <tr>\n",
       "      <th>0</th>\n",
       "      <td>0</td>\n",
       "      <td>793720</td>\n",
       "      <td>25</td>\n",
       "      <td>Norrbottens län</td>\n",
       "      <td>82</td>\n",
       "      <td>Boden</td>\n",
       "      <td>2005</td>\n",
       "      <td>A 76024-2005</td>\n",
       "      <td>Föryngringsavverkning</td>\n",
       "      <td>Normal skog</td>\n",
       "      <td>3.0</td>\n",
       "      <td>3.0</td>\n",
       "      <td>0.0</td>\n",
       "      <td>2007-06-30</td>\n",
       "      <td>SKS annan uppgift</td>\n",
       "      <td>Kopia på anmälan</td>\n",
       "      <td></td>\n",
       "      <td></td>\n",
       "      <td>3.0</td>\n",
       "      <td></td>\n",
       "      <td>0</td>\n",
       "      <td>2007</td>\n",
       "      <td>{\"rings\": [[[790441.0119792615, 7364640.224304...</td>\n",
       "    </tr>\n",
       "    <tr>\n",
       "      <th>1</th>\n",
       "      <td>1</td>\n",
       "      <td>1072960</td>\n",
       "      <td>25</td>\n",
       "      <td>Norrbottens län</td>\n",
       "      <td>18</td>\n",
       "      <td>Övertorneå</td>\n",
       "      <td>2000</td>\n",
       "      <td>A 36447-2000</td>\n",
       "      <td>Föryngringsavverkning</td>\n",
       "      <td>Normal skog</td>\n",
       "      <td>3.0</td>\n",
       "      <td>0.0</td>\n",
       "      <td>3.0</td>\n",
       "      <td>2005-01-01</td>\n",
       "      <td>SKS annan uppgift</td>\n",
       "      <td>Kopia på anmälan</td>\n",
       "      <td></td>\n",
       "      <td></td>\n",
       "      <td>2.6</td>\n",
       "      <td></td>\n",
       "      <td>0</td>\n",
       "      <td>2005</td>\n",
       "      <td>{\"rings\": [[[890228.7765828292, 7423633.862563...</td>\n",
       "    </tr>\n",
       "    <tr>\n",
       "      <th>2</th>\n",
       "      <td>2</td>\n",
       "      <td>1075765</td>\n",
       "      <td>25</td>\n",
       "      <td>Norrbottens län</td>\n",
       "      <td>23</td>\n",
       "      <td>Gällivare</td>\n",
       "      <td>2000</td>\n",
       "      <td>A 39397-2000</td>\n",
       "      <td>Föryngringsavverkning</td>\n",
       "      <td>Svårföryngrad</td>\n",
       "      <td>25.6</td>\n",
       "      <td>25.6</td>\n",
       "      <td>0.0</td>\n",
       "      <td>2005-01-01</td>\n",
       "      <td>SKS annan uppgift</td>\n",
       "      <td>Kopia på anmälan</td>\n",
       "      <td></td>\n",
       "      <td></td>\n",
       "      <td>25.6</td>\n",
       "      <td></td>\n",
       "      <td>0</td>\n",
       "      <td>2005</td>\n",
       "      <td>{\"rings\": [[[805487.5875797652, 7392215.535603...</td>\n",
       "    </tr>\n",
       "    <tr>\n",
       "      <th>3</th>\n",
       "      <td>3</td>\n",
       "      <td>1075774</td>\n",
       "      <td>25</td>\n",
       "      <td>Norrbottens län</td>\n",
       "      <td>23</td>\n",
       "      <td>Gällivare</td>\n",
       "      <td>2000</td>\n",
       "      <td>A 40059-2000</td>\n",
       "      <td>Föryngringsavverkning</td>\n",
       "      <td>Svårföryngrad</td>\n",
       "      <td>3.3</td>\n",
       "      <td>3.3</td>\n",
       "      <td>0.0</td>\n",
       "      <td>2005-01-01</td>\n",
       "      <td>SKS annan uppgift</td>\n",
       "      <td>Kopia på anmälan</td>\n",
       "      <td></td>\n",
       "      <td></td>\n",
       "      <td>3.3</td>\n",
       "      <td></td>\n",
       "      <td>0</td>\n",
       "      <td>2005</td>\n",
       "      <td>{\"rings\": [[[815094.077818857, 7400092.2955589...</td>\n",
       "    </tr>\n",
       "    <tr>\n",
       "      <th>4</th>\n",
       "      <td>4</td>\n",
       "      <td>1075775</td>\n",
       "      <td>25</td>\n",
       "      <td>Norrbottens län</td>\n",
       "      <td>23</td>\n",
       "      <td>Gällivare</td>\n",
       "      <td>2000</td>\n",
       "      <td>A 40060-2000</td>\n",
       "      <td>Föryngringsavverkning</td>\n",
       "      <td>Svårföryngrad</td>\n",
       "      <td>4.1</td>\n",
       "      <td>0.0</td>\n",
       "      <td>4.1</td>\n",
       "      <td>2005-01-01</td>\n",
       "      <td>SKS annan uppgift</td>\n",
       "      <td>Kopia på anmälan</td>\n",
       "      <td></td>\n",
       "      <td></td>\n",
       "      <td>4.1</td>\n",
       "      <td></td>\n",
       "      <td>0</td>\n",
       "      <td>2005</td>\n",
       "      <td>{\"rings\": [[[814997.8626982409, 7399954.059189...</td>\n",
       "    </tr>\n",
       "  </tbody>\n",
       "</table>\n",
       "</div>"
      ],
      "text/plain": [
       "   FID  OBJECTID  ... HARVYR                                              SHAPE\n",
       "0    0    793720  ...   2007  {\"rings\": [[[790441.0119792615, 7364640.224304...\n",
       "1    1   1072960  ...   2005  {\"rings\": [[[890228.7765828292, 7423633.862563...\n",
       "2    2   1075765  ...   2005  {\"rings\": [[[805487.5875797652, 7392215.535603...\n",
       "3    3   1075774  ...   2005  {\"rings\": [[[815094.077818857, 7400092.2955589...\n",
       "4    4   1075775  ...   2005  {\"rings\": [[[814997.8626982409, 7399954.059189...\n",
       "\n",
       "[5 rows x 23 columns]"
      ]
     },
     "execution_count": 56,
     "metadata": {},
     "output_type": "execute_result"
    }
   ],
   "source": [
    "sweden_post_harvest_year = pd.DataFrame.spatial.from_featureclass('Y:/William/RIP_NATURE_2/sweden/sweden_harvest_before_LiDAR_merged.shp')\n",
    "sweden_post_harvest_year.head()"
   ]
  },
  {
   "cell_type": "markdown",
   "metadata": {
    "hidden": true
   },
   "source": [
    "We were only interested in harvest sites that were near a stream. We buffered the selected harvested sites with 30 m. These buffered harveste sites where then used to intersect with the topographical stream network "
   ]
  },
  {
   "cell_type": "code",
   "execution_count": 60,
   "metadata": {
    "hidden": true
   },
   "outputs": [
    {
     "data": {
      "text/html": [
       "<h2>Output</h2>Y:\\William\\RIP_NATURE_2\\Sweden\\Buffer_CC_after_LiDAR\\Buffered_post_harvest_scanne_CCs.shp<h2>Messages</h2>Start Time: Monday, 18 October 2021 16:03:19<br/>Succeeded at Monday, 18 October 2021 16:44:53 (Elapsed Time: 41 minutes 34 seconds)<br/><style>.rendered_html td, .rendered_html th {text-align: left;}.rendered_html tbody {border: 1px solid black;}</style>"
      ],
      "text/plain": [
       "<Result 'Y:\\\\William\\\\RIP_NATURE_2\\\\Sweden\\\\Buffer_CC_after_LiDAR\\\\Buffered_post_harvest_scanne_CCs.shp'>"
      ]
     },
     "execution_count": 60,
     "metadata": {},
     "output_type": "execute_result"
    }
   ],
   "source": [
    "arcpy.Buffer_analysis('Y:/William/RIP_NATURE_2/sweden/sweden_harvest_before_LiDAR_merged.shp', 'Y:/William/RIP_NATURE_2/Sweden/Buffer_CC_after_LiDAR/Buffered_post_harvest_scanne_CCs.shp', '30 Meters')"
   ]
  },
  {
   "cell_type": "code",
   "execution_count": 61,
   "metadata": {
    "hidden": true
   },
   "outputs": [
    {
     "data": {
      "text/html": [
       "<h2>Output</h2>Y:\\William\\RIP_NATURE_2\\Sweden\\Intersected_Streams.shp<h2>Messages</h2>Start Time: Tuesday, 19 October 2021 09:33:28<br/>Reading Features...<br/>Assembling Features...<br/>Succeeded at Tuesday, 19 October 2021 09:39:03 (Elapsed Time: 5 minutes 35 seconds)<br/><style>.rendered_html td, .rendered_html th {text-align: left;}.rendered_html tbody {border: 1px solid black;}</style>"
      ],
      "text/plain": [
       "<Result 'Y:\\\\William\\\\RIP_NATURE_2\\\\Sweden\\\\Intersected_Streams.shp'>"
      ]
     },
     "execution_count": 61,
     "metadata": {},
     "output_type": "execute_result"
    }
   ],
   "source": [
    "infeatures = (topographical_streams_sweden, 'Y:/William/RIP_NATURE_2/Sweden/Buffer_CC_after_LiDAR/Buffered_post_harvest_scanne_CCs.shp')\n",
    "intersected_streams = 'Y:/William/RIP_NATURE_2/Sweden/Intersected_Streams.shp'\n",
    "arcpy.Intersect_analysis(infeatures, intersected_streams)"
   ]
  },
  {
   "cell_type": "markdown",
   "metadata": {
    "hidden": true
   },
   "source": [
    "Select and export streams longer than 20m. Stream sections had to be at least  >20m because boreal canopy gaps can be naturally 0.1 ha, so we wanted to avoid these potentially natural gaps"
   ]
  },
  {
   "cell_type": "code",
   "execution_count": 62,
   "metadata": {
    "hidden": true
   },
   "outputs": [
    {
     "data": {
      "text/html": [
       "<h2>Output</h2>Y:\\William\\RIP_NATURE_2\\Sweden\\stream_segments_longer_than_20m.shp<h2>Messages</h2>Start Time: Tuesday, 19 October 2021 10:01:18<br/>Succeeded at Tuesday, 19 October 2021 10:02:02 (Elapsed Time: 43,49 seconds)<br/><style>.rendered_html td, .rendered_html th {text-align: left;}.rendered_html tbody {border: 1px solid black;}</style>"
      ],
      "text/plain": [
       "<Result 'Y:\\\\William\\\\RIP_NATURE_2\\\\Sweden\\\\stream_segments_longer_than_20m.shp'>"
      ]
     },
     "execution_count": 62,
     "metadata": {},
     "output_type": "execute_result"
    }
   ],
   "source": [
    "intersected_streams = 'Y:/William/RIP_NATURE_2/Sweden/Intersected_Streams.shp'\n",
    "\n",
    "arcpy.AddGeometryAttributes_management(intersected_streams, 'LENGTH', 'METERS')\n",
    "attribute_selected = arcpy.SelectLayerByAttribute_management(intersected_streams, 'NEW_SELECTION', \n",
    "                                        '\"LENGTH\" > 20')\n",
    "arcpy.CopyFeatures_management(attribute_selected, 'Y:/William/RIP_NATURE_2/Sweden/stream_segments_longer_than_20m.shp')"
   ]
  },
  {
   "cell_type": "markdown",
   "metadata": {
    "hidden": true
   },
   "source": [
    "Next the stream segments were buffered on both sides by 20 m and dissolved seperatly."
   ]
  },
  {
   "cell_type": "code",
   "execution_count": 63,
   "metadata": {
    "hidden": true
   },
   "outputs": [
    {
     "data": {
      "text/html": [
       "<h2>Output</h2>Y:\\William\\RIP_NATURE_2\\Sweden\\dissolve\\dissolve_right.shp<h2>Messages</h2>Start Time: Tuesday, 19 October 2021 11:59:08<br/>Dissolving...<br/>Succeeded at Tuesday, 19 October 2021 11:59:26 (Elapsed Time: 17,19 seconds)<br/><style>.rendered_html td, .rendered_html th {text-align: left;}.rendered_html tbody {border: 1px solid black;}</style>"
      ],
      "text/plain": [
       "<Result 'Y:\\\\William\\\\RIP_NATURE_2\\\\Sweden\\\\dissolve\\\\dissolve_right.shp'>"
      ]
     },
     "execution_count": 63,
     "metadata": {},
     "output_type": "execute_result"
    }
   ],
   "source": [
    "# Streams\n",
    "stream_segments_over_20m = 'Y:/William/RIP_NATURE_2/Sweden/stream_segments_longer_than_20m.shp'\n",
    "\n",
    "# buffer outputs\n",
    "buffer_left_side = 'Y:/William/RIP_NATURE_2/Sweden/Buffer_CC_after_LiDAR/Buffer_left_harvested_sites.shp'\n",
    "buffer_right_side = 'Y:/William/RIP_NATURE_2/Sweden/Buffer_CC_after_LiDAR/Buffer_right_harvested_sites.shp'\n",
    "\n",
    "buffer_distance = '20 Meters'\n",
    "sideType_left = 'LEFT'\n",
    "sideType_right = 'RIGHT'\n",
    "endType = 'FLAT'\n",
    "dissolveType = 'NONE'\n",
    "dissolveField = 'NONE'\n",
    "\n",
    "\n",
    "# Buffer Left\n",
    "arcpy.Buffer_analysis(stream_segments_over_20m, buffer_left_side, buffer_distance, sideType_left, endType, \n",
    "                      dissolveType)\n",
    "\n",
    "# Buffer Right\n",
    "arcpy.Buffer_analysis(stream_segments_over_20m, buffer_right_side, buffer_distance, sideType_right, endType, \n",
    "                      dissolveType)\n",
    "buffer_left_side = 'Y:/William/RIP_NATURE_2/Sweden/Buffer_CC_after_LiDAR/Buffer_left_harvested_sites.shp'\n",
    "buffer_right_side = 'Y:/William/RIP_NATURE_2/Sweden/Buffer_CC_after_LiDAR/Buffer_right_harvested_sites.shp'\n",
    "\n",
    "dissolve_left = 'Y:/William/RIP_NATURE_2/Sweden/dissolve/dissolve_left.shp'\n",
    "dissolve_right = 'Y:/William/RIP_NATURE_2/Sweden/dissolve/dissolve_right.shp'\n",
    "\n",
    "# Dissolve and copy left buffers\n",
    "arcpy.Dissolve_management(buffer_left_side, dissolve_left,\"\", \"\", \"SINGLE_PART\", \"UNSPLIT_LINES\")\n",
    "\n",
    "# Dissolve and copy Right buffers\n",
    "arcpy.Dissolve_management(buffer_right_side, dissolve_right,\"\", \"\", \"SINGLE_PART\", \"UNSPLIT_LINES\")\n"
   ]
  },
  {
   "cell_type": "markdown",
   "metadata": {
    "hidden": true
   },
   "source": [
    "Select and merge buffer polygons within 10 m of a harvesting site that were harvested before being lidar scanned."
  